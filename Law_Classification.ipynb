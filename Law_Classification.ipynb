{
 "cells": [
  {
   "cell_type": "code",
   "execution_count": 4,
   "id": "c3925826",
   "metadata": {
    "execution": {
     "iopub.execute_input": "2024-05-28T17:12:55.477680Z",
     "iopub.status.busy": "2024-05-28T17:12:55.477259Z",
     "iopub.status.idle": "2024-05-28T17:12:58.768253Z",
     "shell.execute_reply": "2024-05-28T17:12:58.767279Z"
    },
    "papermill": {
     "duration": 3.314211,
     "end_time": "2024-05-28T17:12:58.771019",
     "exception": false,
     "start_time": "2024-05-28T17:12:55.456808",
     "status": "completed"
    },
    "tags": []
   },
   "outputs": [],
   "source": [
    "import numpy as np\n",
    "import pandas as pd\n",
    "import nltk\n",
    "from underthesea import word_tokenize\n",
    "from nltk.corpus import stopwords\n",
    "import re\n",
    "from sklearn.preprocessing import LabelEncoder\n",
    "from sklearn.feature_extraction.text import TfidfVectorizer\n",
    "from sklearn.model_selection import train_test_split, GridSearchCV\n",
    "from sklearn.svm import SVC\n",
    "from sklearn.metrics import accuracy_score, precision_score, recall_score, f1_score, classification_report, confusion_matrix, roc_curve, auc\n",
    "from sklearn.neural_network import MLPClassifier\n",
    "from sklearn.datasets import make_classification\n",
    "from sklearn.linear_model import LogisticRegression\n",
    "from sklearn.ensemble import RandomForestClassifier\n",
    "from sklearn.naive_bayes import MultinomialNB"
   ]
  },
  {
   "cell_type": "code",
   "execution_count": 5,
   "id": "78101a70",
   "metadata": {
    "execution": {
     "iopub.execute_input": "2024-05-28T17:12:58.808844Z",
     "iopub.status.busy": "2024-05-28T17:12:58.808284Z",
     "iopub.status.idle": "2024-05-28T17:12:58.813824Z",
     "shell.execute_reply": "2024-05-28T17:12:58.812518Z"
    },
    "papermill": {
     "duration": 0.026897,
     "end_time": "2024-05-28T17:12:58.816181",
     "exception": false,
     "start_time": "2024-05-28T17:12:58.789284",
     "status": "completed"
    },
    "tags": []
   },
   "outputs": [],
   "source": [
    "from sklearn.model_selection import KFold, cross_val_score\n",
    "from sklearn.metrics import accuracy_score"
   ]
  },
  {
   "cell_type": "code",
   "execution_count": 6,
   "id": "bc675a9e",
   "metadata": {
    "execution": {
     "iopub.execute_input": "2024-05-28T17:12:58.852885Z",
     "iopub.status.busy": "2024-05-28T17:12:58.852426Z",
     "iopub.status.idle": "2024-05-28T17:12:58.976470Z",
     "shell.execute_reply": "2024-05-28T17:12:58.975266Z"
    },
    "papermill": {
     "duration": 0.145167,
     "end_time": "2024-05-28T17:12:58.978943",
     "exception": false,
     "start_time": "2024-05-28T17:12:58.833776",
     "status": "completed"
    },
    "tags": []
   },
   "outputs": [
    {
     "data": {
      "text/html": [
       "<div>\n",
       "<style scoped>\n",
       "    .dataframe tbody tr th:only-of-type {\n",
       "        vertical-align: middle;\n",
       "    }\n",
       "\n",
       "    .dataframe tbody tr th {\n",
       "        vertical-align: top;\n",
       "    }\n",
       "\n",
       "    .dataframe thead th {\n",
       "        text-align: right;\n",
       "    }\n",
       "</style>\n",
       "<table border=\"1\" class=\"dataframe\">\n",
       "  <thead>\n",
       "    <tr style=\"text-align: right;\">\n",
       "      <th></th>\n",
       "      <th>content</th>\n",
       "      <th>label</th>\n",
       "    </tr>\n",
       "  </thead>\n",
       "  <tbody>\n",
       "    <tr>\n",
       "      <th>0</th>\n",
       "      <td>Phạm vi điều chỉnh: Luật này quy định về việc ...</td>\n",
       "      <td>LUẬT DOANH NGHIỆP</td>\n",
       "    </tr>\n",
       "    <tr>\n",
       "      <th>1</th>\n",
       "      <td>Đối tượng áp dụng: Doanh nghiệp. Cơ quan, tổ c...</td>\n",
       "      <td>LUẬT DOANH NGHIỆP</td>\n",
       "    </tr>\n",
       "    <tr>\n",
       "      <th>2</th>\n",
       "      <td>Áp dụng Luật Doanh nghiệp và luật khác. Trường...</td>\n",
       "      <td>LUẬT DOANH NGHIỆP</td>\n",
       "    </tr>\n",
       "    <tr>\n",
       "      <th>3</th>\n",
       "      <td>Bảo đảm của Nhà nước đối với doanh nghiệp và c...</td>\n",
       "      <td>LUẬT DOANH NGHIỆP</td>\n",
       "    </tr>\n",
       "    <tr>\n",
       "      <th>4</th>\n",
       "      <td>Tổ chức chính trị, tổ chức chính trị - xã hội ...</td>\n",
       "      <td>LUẬT DOANH NGHIỆP</td>\n",
       "    </tr>\n",
       "    <tr>\n",
       "      <th>...</th>\n",
       "      <td>...</td>\n",
       "      <td>...</td>\n",
       "    </tr>\n",
       "    <tr>\n",
       "      <th>1227</th>\n",
       "      <td>Điều 204. Trường hợp đình công bất hợp pháp\\n\\...</td>\n",
       "      <td>Luật lao động</td>\n",
       "    </tr>\n",
       "    <tr>\n",
       "      <th>1228</th>\n",
       "      <td>Điều 205. Thông báo quyết định đóng cửa tạm th...</td>\n",
       "      <td>Luật lao động</td>\n",
       "    </tr>\n",
       "    <tr>\n",
       "      <th>1229</th>\n",
       "      <td>Điều 206. Trường hợp cấm đóng cửa tạm thời nơi...</td>\n",
       "      <td>Luật lao động</td>\n",
       "    </tr>\n",
       "    <tr>\n",
       "      <th>1230</th>\n",
       "      <td>Điều 207. Tiền lương và các quyền lợi hợp pháp...</td>\n",
       "      <td>Luật lao động</td>\n",
       "    </tr>\n",
       "    <tr>\n",
       "      <th>1231</th>\n",
       "      <td>Điều 208. Các hành vi bị nghiêm cấm trước, tro...</td>\n",
       "      <td>Luật lao động</td>\n",
       "    </tr>\n",
       "  </tbody>\n",
       "</table>\n",
       "<p>1232 rows × 2 columns</p>\n",
       "</div>"
      ],
      "text/plain": [
       "                                                content              label\n",
       "0     Phạm vi điều chỉnh: Luật này quy định về việc ...  LUẬT DOANH NGHIỆP\n",
       "1     Đối tượng áp dụng: Doanh nghiệp. Cơ quan, tổ c...  LUẬT DOANH NGHIỆP\n",
       "2     Áp dụng Luật Doanh nghiệp và luật khác. Trường...  LUẬT DOANH NGHIỆP\n",
       "3     Bảo đảm của Nhà nước đối với doanh nghiệp và c...  LUẬT DOANH NGHIỆP\n",
       "4     Tổ chức chính trị, tổ chức chính trị - xã hội ...  LUẬT DOANH NGHIỆP\n",
       "...                                                 ...                ...\n",
       "1227  Điều 204. Trường hợp đình công bất hợp pháp\\n\\...      Luật lao động\n",
       "1228  Điều 205. Thông báo quyết định đóng cửa tạm th...      Luật lao động\n",
       "1229  Điều 206. Trường hợp cấm đóng cửa tạm thời nơi...      Luật lao động\n",
       "1230  Điều 207. Tiền lương và các quyền lợi hợp pháp...      Luật lao động\n",
       "1231  Điều 208. Các hành vi bị nghiêm cấm trước, tro...      Luật lao động\n",
       "\n",
       "[1232 rows x 2 columns]"
      ]
     },
     "execution_count": 6,
     "metadata": {},
     "output_type": "execute_result"
    }
   ],
   "source": [
    "df = pd.read_csv('ViLegalDoc.csv')\n",
    "df"
   ]
  },
  {
   "cell_type": "markdown",
   "id": "8baba5a1",
   "metadata": {
    "papermill": {
     "duration": 0.017634,
     "end_time": "2024-05-28T17:12:59.014674",
     "exception": false,
     "start_time": "2024-05-28T17:12:58.997040",
     "status": "completed"
    },
    "tags": []
   },
   "source": [
    "# DATA PROCESSING"
   ]
  },
  {
   "cell_type": "code",
   "execution_count": 7,
   "id": "9d8b6720",
   "metadata": {
    "execution": {
     "iopub.execute_input": "2024-05-28T17:12:59.053568Z",
     "iopub.status.busy": "2024-05-28T17:12:59.053175Z",
     "iopub.status.idle": "2024-05-28T17:12:59.059898Z",
     "shell.execute_reply": "2024-05-28T17:12:59.058824Z"
    },
    "papermill": {
     "duration": 0.029132,
     "end_time": "2024-05-28T17:12:59.062390",
     "exception": false,
     "start_time": "2024-05-28T17:12:59.033258",
     "status": "completed"
    },
    "tags": []
   },
   "outputs": [],
   "source": [
    "# val: 22 samples per class\n",
    "# test: 27 samples per class\n",
    "# train: the rest\n",
    "\n",
    "def train_val_test_split(df, class_name):\n",
    "    temp_df = df[df['label'] == class_name]\n",
    "\n",
    "    test_df = temp_df.sample(n=27, random_state=42)\n",
    "    temp_df = temp_df[~temp_df.index.isin(test_df.index)]\n",
    "\n",
    "    val_df = temp_df.sample(n=22, random_state=42)\n",
    "    train_df = temp_df[~temp_df.index.isin(val_df.index)]\n",
    "    return train_df, val_df, test_df"
   ]
  },
  {
   "cell_type": "code",
   "execution_count": 8,
   "id": "25d4a078",
   "metadata": {
    "execution": {
     "iopub.execute_input": "2024-05-28T17:12:59.105726Z",
     "iopub.status.busy": "2024-05-28T17:12:59.105340Z",
     "iopub.status.idle": "2024-05-28T17:12:59.116419Z",
     "shell.execute_reply": "2024-05-28T17:12:59.114554Z"
    },
    "papermill": {
     "duration": 0.03768,
     "end_time": "2024-05-28T17:12:59.119250",
     "exception": false,
     "start_time": "2024-05-28T17:12:59.081570",
     "status": "completed"
    },
    "tags": []
   },
   "outputs": [
    {
     "data": {
      "text/plain": [
       "array(['LUẬT DOANH NGHIỆP', 'LUẬT VIÊN CHỨC', 'LUẬT PHÒNG, CHỐNG MA TÚY',\n",
       "       'LUẬT BẢO Vệ MÔI TRƯỜNG', 'LUẬT ĐẤU THẦU', 'LUẬT GIÁO DỤC',\n",
       "       'LUẬT ĐẤT ĐAI', 'Luật xử lý vi phạm hành chính', 'Luật lao động'],\n",
       "      dtype=object)"
      ]
     },
     "execution_count": 8,
     "metadata": {},
     "output_type": "execute_result"
    }
   ],
   "source": [
    "df['label'].unique()"
   ]
  },
  {
   "cell_type": "code",
   "execution_count": 9,
   "id": "27a3ae47",
   "metadata": {
    "execution": {
     "iopub.execute_input": "2024-05-28T17:12:59.161257Z",
     "iopub.status.busy": "2024-05-28T17:12:59.160281Z",
     "iopub.status.idle": "2024-05-28T17:12:59.199993Z",
     "shell.execute_reply": "2024-05-28T17:12:59.198722Z"
    },
    "papermill": {
     "duration": 0.062679,
     "end_time": "2024-05-28T17:12:59.202652",
     "exception": false,
     "start_time": "2024-05-28T17:12:59.139973",
     "status": "completed"
    },
    "tags": []
   },
   "outputs": [],
   "source": [
    "df_train_1, df_val_1, df_test_1 = train_val_test_split(df=df, class_name='LUẬT DOANH NGHIỆP')\n",
    "df_train_2, df_val_2, df_test_2 = train_val_test_split(df=df, class_name='LUẬT VIÊN CHỨC')\n",
    "df_train_3, df_val_3, df_test_3 = train_val_test_split(df=df, class_name='LUẬT PHÒNG, CHỐNG MA TÚY')\n",
    "df_train_4, df_val_4, df_test_4 = train_val_test_split(df=df, class_name='LUẬT BẢO Vệ MÔI TRƯỜNG')\n",
    "df_train_5, df_val_5, df_test_5 = train_val_test_split(df=df, class_name='LUẬT ĐẤU THẦU')\n",
    "df_train_6, df_val_6, df_test_6 = train_val_test_split(df=df, class_name='LUẬT GIÁO DỤC')\n",
    "df_train_7, df_val_7, df_test_7 = train_val_test_split(df=df, class_name='LUẬT ĐẤT ĐAI')\n",
    "df_train_8, df_val_8, df_test_8 = train_val_test_split(df=df, class_name='Luật xử lý vi phạm hành chính')\n",
    "df_train_9, df_val_9, df_test_9 = train_val_test_split(df=df, class_name='Luật lao động')"
   ]
  },
  {
   "cell_type": "code",
   "execution_count": 10,
   "id": "fd3d3b95",
   "metadata": {
    "execution": {
     "iopub.execute_input": "2024-05-28T17:12:59.256166Z",
     "iopub.status.busy": "2024-05-28T17:12:59.255664Z",
     "iopub.status.idle": "2024-05-28T17:12:59.269516Z",
     "shell.execute_reply": "2024-05-28T17:12:59.268105Z"
    },
    "papermill": {
     "duration": 0.041553,
     "end_time": "2024-05-28T17:12:59.272066",
     "exception": false,
     "start_time": "2024-05-28T17:12:59.230513",
     "status": "completed"
    },
    "tags": []
   },
   "outputs": [
    {
     "data": {
      "text/plain": [
       "(791, 198, 243)"
      ]
     },
     "execution_count": 10,
     "metadata": {},
     "output_type": "execute_result"
    }
   ],
   "source": [
    "df_train = pd.concat(objs=[df_train_1, df_train_2, df_train_3, df_train_4, df_train_5, df_train_6, df_train_7, df_train_8, df_train_9])\n",
    "df_val = pd.concat(objs=[df_val_1, df_val_2, df_val_3, df_val_4, df_val_5, df_val_6, df_val_7, df_val_8, df_val_9])\n",
    "df_test = pd.concat(objs=[df_test_1, df_test_2, df_test_3, df_test_4, df_test_5, df_test_6, df_test_7, df_test_8, df_test_9])\n",
    "\n",
    "len(df_train), len(df_val), len(df_test)"
   ]
  },
  {
   "cell_type": "code",
   "execution_count": 11,
   "id": "2b5c64fa",
   "metadata": {
    "execution": {
     "iopub.execute_input": "2024-05-28T17:12:59.311234Z",
     "iopub.status.busy": "2024-05-28T17:12:59.310696Z",
     "iopub.status.idle": "2024-05-28T17:12:59.327958Z",
     "shell.execute_reply": "2024-05-28T17:12:59.326684Z"
    },
    "papermill": {
     "duration": 0.040467,
     "end_time": "2024-05-28T17:12:59.331161",
     "exception": false,
     "start_time": "2024-05-28T17:12:59.290694",
     "status": "completed"
    },
    "tags": []
   },
   "outputs": [],
   "source": [
    "stopword_file = \"vietnamese-stopwords.txt\"\n",
    "with open(stopword_file, \"r\", encoding=\"utf-8\") as f:\n",
    "    stopword_content = f.read()\n",
    "\n",
    "stop_words = stopword_content.splitlines()"
   ]
  },
  {
   "cell_type": "code",
   "execution_count": 12,
   "id": "e9d25735",
   "metadata": {
    "execution": {
     "iopub.execute_input": "2024-05-28T17:12:59.374074Z",
     "iopub.status.busy": "2024-05-28T17:12:59.373523Z",
     "iopub.status.idle": "2024-05-28T17:12:59.381871Z",
     "shell.execute_reply": "2024-05-28T17:12:59.380663Z"
    },
    "papermill": {
     "duration": 0.030398,
     "end_time": "2024-05-28T17:12:59.384330",
     "exception": false,
     "start_time": "2024-05-28T17:12:59.353932",
     "status": "completed"
    },
    "tags": []
   },
   "outputs": [],
   "source": [
    "# lower-casing - chuyen ve chu thuong\n",
    "# tokenizing\n",
    "# stopword removing\n",
    "# numeric removing\n",
    "\n",
    "def text_processing(content):\n",
    "    cleaned_content = content.lower()\n",
    "    cleaned_content = re.sub('[^a-zA-Zà-ỹĂÂĐÊÔƠƯơư]', ' ', cleaned_content)\n",
    "    cleaned_content = word_tokenize(cleaned_content)\n",
    "    cleaned_content = [word for word in cleaned_content if word not in stop_words]\n",
    "    cleaned_content = ' '.join(cleaned_content)\n",
    "    cleaned_content = re.sub(' +', ' ', cleaned_content)\n",
    "\n",
    "    return  cleaned_content"
   ]
  },
  {
   "cell_type": "code",
   "execution_count": 13,
   "id": "bf0cbce4",
   "metadata": {
    "execution": {
     "iopub.execute_input": "2024-05-28T17:12:59.433850Z",
     "iopub.status.busy": "2024-05-28T17:12:59.433352Z",
     "iopub.status.idle": "2024-05-28T17:13:16.914709Z",
     "shell.execute_reply": "2024-05-28T17:13:16.913686Z"
    },
    "papermill": {
     "duration": 17.513085,
     "end_time": "2024-05-28T17:13:16.916990",
     "exception": false,
     "start_time": "2024-05-28T17:12:59.403905",
     "status": "completed"
    },
    "tags": []
   },
   "outputs": [
    {
     "data": {
      "text/html": [
       "<div>\n",
       "<style scoped>\n",
       "    .dataframe tbody tr th:only-of-type {\n",
       "        vertical-align: middle;\n",
       "    }\n",
       "\n",
       "    .dataframe tbody tr th {\n",
       "        vertical-align: top;\n",
       "    }\n",
       "\n",
       "    .dataframe thead th {\n",
       "        text-align: right;\n",
       "    }\n",
       "</style>\n",
       "<table border=\"1\" class=\"dataframe\">\n",
       "  <thead>\n",
       "    <tr style=\"text-align: right;\">\n",
       "      <th></th>\n",
       "      <th>content</th>\n",
       "      <th>label</th>\n",
       "      <th>cleaned_text</th>\n",
       "    </tr>\n",
       "  </thead>\n",
       "  <tbody>\n",
       "    <tr>\n",
       "      <th>2</th>\n",
       "      <td>Áp dụng Luật Doanh nghiệp và luật khác. Trường...</td>\n",
       "      <td>LUẬT DOANH NGHIỆP</td>\n",
       "      <td>áp dụng luật doanh nghiệp luật trường hợp luật...</td>\n",
       "    </tr>\n",
       "    <tr>\n",
       "      <th>3</th>\n",
       "      <td>Bảo đảm của Nhà nước đối với doanh nghiệp và c...</td>\n",
       "      <td>LUẬT DOANH NGHIỆP</td>\n",
       "      <td>bảo đảm nhà nước đối với doanh nghiệp chủ sở h...</td>\n",
       "    </tr>\n",
       "    <tr>\n",
       "      <th>5</th>\n",
       "      <td>Quyền của doanh nghiệp. Tự do kinh doanh ngành...</td>\n",
       "      <td>LUẬT DOANH NGHIỆP</td>\n",
       "      <td>quyền doanh nghiệp tự do kinh doanh ngành nghề...</td>\n",
       "    </tr>\n",
       "    <tr>\n",
       "      <th>8</th>\n",
       "      <td>Người đại diện theo pháp luật của doanh nghiệp...</td>\n",
       "      <td>LUẬT DOANH NGHIỆP</td>\n",
       "      <td>đại diện pháp luật doanh nghiệp đại diện pháp ...</td>\n",
       "    </tr>\n",
       "    <tr>\n",
       "      <th>11</th>\n",
       "      <td>Điều 15. Trách nhiệm của người đại diện theo ủ...</td>\n",
       "      <td>LUẬT DOANH NGHIỆP</td>\n",
       "      <td>trách nhiệm đại diện ủy quyền chủ sở hữu thành...</td>\n",
       "    </tr>\n",
       "    <tr>\n",
       "      <th>...</th>\n",
       "      <td>...</td>\n",
       "      <td>...</td>\n",
       "      <td>...</td>\n",
       "    </tr>\n",
       "    <tr>\n",
       "      <th>1227</th>\n",
       "      <td>Điều 204. Trường hợp đình công bất hợp pháp\\n\\...</td>\n",
       "      <td>Luật lao động</td>\n",
       "      <td>trường hợp đình công bất hợp pháp trường hợp đ...</td>\n",
       "    </tr>\n",
       "    <tr>\n",
       "      <th>1228</th>\n",
       "      <td>Điều 205. Thông báo quyết định đóng cửa tạm th...</td>\n",
       "      <td>Luật lao động</td>\n",
       "      <td>thông báo quyết định đóng cửa tạm thời làm việ...</td>\n",
       "    </tr>\n",
       "    <tr>\n",
       "      <th>1229</th>\n",
       "      <td>Điều 206. Trường hợp cấm đóng cửa tạm thời nơi...</td>\n",
       "      <td>Luật lao động</td>\n",
       "      <td>trường hợp cấm đóng cửa tạm thời làm việc thời...</td>\n",
       "    </tr>\n",
       "    <tr>\n",
       "      <th>1230</th>\n",
       "      <td>Điều 207. Tiền lương và các quyền lợi hợp pháp...</td>\n",
       "      <td>Luật lao động</td>\n",
       "      <td>tiền lương quyền lợi hợp pháp lao động thời gi...</td>\n",
       "    </tr>\n",
       "    <tr>\n",
       "      <th>1231</th>\n",
       "      <td>Điều 208. Các hành vi bị nghiêm cấm trước, tro...</td>\n",
       "      <td>Luật lao động</td>\n",
       "      <td>hành vi nghiêm cấm đình công cản trở thực hiện...</td>\n",
       "    </tr>\n",
       "  </tbody>\n",
       "</table>\n",
       "<p>791 rows × 3 columns</p>\n",
       "</div>"
      ],
      "text/plain": [
       "                                                content              label  \\\n",
       "2     Áp dụng Luật Doanh nghiệp và luật khác. Trường...  LUẬT DOANH NGHIỆP   \n",
       "3     Bảo đảm của Nhà nước đối với doanh nghiệp và c...  LUẬT DOANH NGHIỆP   \n",
       "5     Quyền của doanh nghiệp. Tự do kinh doanh ngành...  LUẬT DOANH NGHIỆP   \n",
       "8     Người đại diện theo pháp luật của doanh nghiệp...  LUẬT DOANH NGHIỆP   \n",
       "11    Điều 15. Trách nhiệm của người đại diện theo ủ...  LUẬT DOANH NGHIỆP   \n",
       "...                                                 ...                ...   \n",
       "1227  Điều 204. Trường hợp đình công bất hợp pháp\\n\\...      Luật lao động   \n",
       "1228  Điều 205. Thông báo quyết định đóng cửa tạm th...      Luật lao động   \n",
       "1229  Điều 206. Trường hợp cấm đóng cửa tạm thời nơi...      Luật lao động   \n",
       "1230  Điều 207. Tiền lương và các quyền lợi hợp pháp...      Luật lao động   \n",
       "1231  Điều 208. Các hành vi bị nghiêm cấm trước, tro...      Luật lao động   \n",
       "\n",
       "                                           cleaned_text  \n",
       "2     áp dụng luật doanh nghiệp luật trường hợp luật...  \n",
       "3     bảo đảm nhà nước đối với doanh nghiệp chủ sở h...  \n",
       "5     quyền doanh nghiệp tự do kinh doanh ngành nghề...  \n",
       "8     đại diện pháp luật doanh nghiệp đại diện pháp ...  \n",
       "11    trách nhiệm đại diện ủy quyền chủ sở hữu thành...  \n",
       "...                                                 ...  \n",
       "1227  trường hợp đình công bất hợp pháp trường hợp đ...  \n",
       "1228  thông báo quyết định đóng cửa tạm thời làm việ...  \n",
       "1229  trường hợp cấm đóng cửa tạm thời làm việc thời...  \n",
       "1230  tiền lương quyền lợi hợp pháp lao động thời gi...  \n",
       "1231  hành vi nghiêm cấm đình công cản trở thực hiện...  \n",
       "\n",
       "[791 rows x 3 columns]"
      ]
     },
     "execution_count": 13,
     "metadata": {},
     "output_type": "execute_result"
    }
   ],
   "source": [
    "df_train['cleaned_text'] = df_train['content'].apply(text_processing)\n",
    "df_train"
   ]
  },
  {
   "cell_type": "code",
   "execution_count": 14,
   "id": "5f73a4c5",
   "metadata": {
    "execution": {
     "iopub.execute_input": "2024-05-28T17:13:16.955962Z",
     "iopub.status.busy": "2024-05-28T17:13:16.954937Z",
     "iopub.status.idle": "2024-05-28T17:13:22.574557Z",
     "shell.execute_reply": "2024-05-28T17:13:22.573372Z"
    },
    "papermill": {
     "duration": 5.641476,
     "end_time": "2024-05-28T17:13:22.576824",
     "exception": false,
     "start_time": "2024-05-28T17:13:16.935348",
     "status": "completed"
    },
    "tags": []
   },
   "outputs": [
    {
     "data": {
      "text/html": [
       "<div>\n",
       "<style scoped>\n",
       "    .dataframe tbody tr th:only-of-type {\n",
       "        vertical-align: middle;\n",
       "    }\n",
       "\n",
       "    .dataframe tbody tr th {\n",
       "        vertical-align: top;\n",
       "    }\n",
       "\n",
       "    .dataframe thead th {\n",
       "        text-align: right;\n",
       "    }\n",
       "</style>\n",
       "<table border=\"1\" class=\"dataframe\">\n",
       "  <thead>\n",
       "    <tr style=\"text-align: right;\">\n",
       "      <th></th>\n",
       "      <th>content</th>\n",
       "      <th>label</th>\n",
       "      <th>cleaned_text</th>\n",
       "    </tr>\n",
       "  </thead>\n",
       "  <tbody>\n",
       "    <tr>\n",
       "      <th>62</th>\n",
       "      <td>Điều 66. Tiền lương, thù lao, thưởng và lợi íc...</td>\n",
       "      <td>LUẬT DOANH NGHIỆP</td>\n",
       "      <td>tiền lương thù lao thưởng lợi ích chủ tịch hội...</td>\n",
       "    </tr>\n",
       "    <tr>\n",
       "      <th>40</th>\n",
       "      <td>Điều 44. Chi nhánh, văn phòng đại diện và địa ...</td>\n",
       "      <td>LUẬT DOANH NGHIỆP</td>\n",
       "      <td>chi nhánh văn phòng đại diện địa điểm kinh doa...</td>\n",
       "    </tr>\n",
       "    <tr>\n",
       "      <th>93</th>\n",
       "      <td>Điều 97. Trách nhiệm của Chủ tịch và thành viê...</td>\n",
       "      <td>LUẬT DOANH NGHIỆP</td>\n",
       "      <td>trách nhiệm chủ tịch thành viên hội đồng thành...</td>\n",
       "    </tr>\n",
       "    <tr>\n",
       "      <th>18</th>\n",
       "      <td>Điều 22. Hồ sơ đăng ký công ty cổ phần. 1. Giấ...</td>\n",
       "      <td>LUẬT DOANH NGHIỆP</td>\n",
       "      <td>hồ sơ đăng ký công ty cổ phần giấy đề nghị đăn...</td>\n",
       "    </tr>\n",
       "    <tr>\n",
       "      <th>81</th>\n",
       "      <td>Điều 85. Cơ cấu tổ chức quản lý công ty trách ...</td>\n",
       "      <td>LUẬT DOANH NGHIỆP</td>\n",
       "      <td>cơ cấu tổ chức quản lý công ty trách nhiệm hữu...</td>\n",
       "    </tr>\n",
       "    <tr>\n",
       "      <th>...</th>\n",
       "      <td>...</td>\n",
       "      <td>...</td>\n",
       "      <td>...</td>\n",
       "    </tr>\n",
       "    <tr>\n",
       "      <th>1180</th>\n",
       "      <td>Điều 157. Cấp, cấp lại, gia hạn, thu hồi giấy ...</td>\n",
       "      <td>Luật lao động</td>\n",
       "      <td>gia hạn thu hồi giấy phép lao động giấy xác nh...</td>\n",
       "    </tr>\n",
       "    <tr>\n",
       "      <th>1125</th>\n",
       "      <td>Điều 102. Khấu trừ tiền lương\\n\\n1. Người sử d...</td>\n",
       "      <td>Luật lao động</td>\n",
       "      <td>khấu trừ tiền lương sử dụng lao động khấu trừ ...</td>\n",
       "    </tr>\n",
       "    <tr>\n",
       "      <th>1097</th>\n",
       "      <td>Điều 66. Nguyên tắc thương lượng tập thể\\n\\nTh...</td>\n",
       "      <td>Luật lao động</td>\n",
       "      <td>nguyên tắc thương lượng tập thể thương lượng t...</td>\n",
       "    </tr>\n",
       "    <tr>\n",
       "      <th>1092</th>\n",
       "      <td>Điều 61. Học nghề, tập nghề để làm việc cho ng...</td>\n",
       "      <td>Luật lao động</td>\n",
       "      <td>học nghề tập nghề làm việc sử dụng lao động họ...</td>\n",
       "    </tr>\n",
       "    <tr>\n",
       "      <th>1116</th>\n",
       "      <td>Điều 85. Gia nhập và rút khỏi thỏa ước lao độn...</td>\n",
       "      <td>Luật lao động</td>\n",
       "      <td>gia nhập rút thỏa ước lao động tập thể ngành t...</td>\n",
       "    </tr>\n",
       "  </tbody>\n",
       "</table>\n",
       "<p>243 rows × 3 columns</p>\n",
       "</div>"
      ],
      "text/plain": [
       "                                                content              label  \\\n",
       "62    Điều 66. Tiền lương, thù lao, thưởng và lợi íc...  LUẬT DOANH NGHIỆP   \n",
       "40    Điều 44. Chi nhánh, văn phòng đại diện và địa ...  LUẬT DOANH NGHIỆP   \n",
       "93    Điều 97. Trách nhiệm của Chủ tịch và thành viê...  LUẬT DOANH NGHIỆP   \n",
       "18    Điều 22. Hồ sơ đăng ký công ty cổ phần. 1. Giấ...  LUẬT DOANH NGHIỆP   \n",
       "81    Điều 85. Cơ cấu tổ chức quản lý công ty trách ...  LUẬT DOANH NGHIỆP   \n",
       "...                                                 ...                ...   \n",
       "1180  Điều 157. Cấp, cấp lại, gia hạn, thu hồi giấy ...      Luật lao động   \n",
       "1125  Điều 102. Khấu trừ tiền lương\\n\\n1. Người sử d...      Luật lao động   \n",
       "1097  Điều 66. Nguyên tắc thương lượng tập thể\\n\\nTh...      Luật lao động   \n",
       "1092  Điều 61. Học nghề, tập nghề để làm việc cho ng...      Luật lao động   \n",
       "1116  Điều 85. Gia nhập và rút khỏi thỏa ước lao độn...      Luật lao động   \n",
       "\n",
       "                                           cleaned_text  \n",
       "62    tiền lương thù lao thưởng lợi ích chủ tịch hội...  \n",
       "40    chi nhánh văn phòng đại diện địa điểm kinh doa...  \n",
       "93    trách nhiệm chủ tịch thành viên hội đồng thành...  \n",
       "18    hồ sơ đăng ký công ty cổ phần giấy đề nghị đăn...  \n",
       "81    cơ cấu tổ chức quản lý công ty trách nhiệm hữu...  \n",
       "...                                                 ...  \n",
       "1180  gia hạn thu hồi giấy phép lao động giấy xác nh...  \n",
       "1125  khấu trừ tiền lương sử dụng lao động khấu trừ ...  \n",
       "1097  nguyên tắc thương lượng tập thể thương lượng t...  \n",
       "1092  học nghề tập nghề làm việc sử dụng lao động họ...  \n",
       "1116  gia nhập rút thỏa ước lao động tập thể ngành t...  \n",
       "\n",
       "[243 rows x 3 columns]"
      ]
     },
     "execution_count": 14,
     "metadata": {},
     "output_type": "execute_result"
    }
   ],
   "source": [
    "df_test['cleaned_text'] = df_test['content'].apply(text_processing)\n",
    "df_test"
   ]
  },
  {
   "cell_type": "code",
   "execution_count": 15,
   "id": "501c5aba",
   "metadata": {
    "execution": {
     "iopub.execute_input": "2024-05-28T17:13:22.618133Z",
     "iopub.status.busy": "2024-05-28T17:13:22.617235Z",
     "iopub.status.idle": "2024-05-28T17:13:26.490007Z",
     "shell.execute_reply": "2024-05-28T17:13:26.488756Z"
    },
    "papermill": {
     "duration": 3.896899,
     "end_time": "2024-05-28T17:13:26.492611",
     "exception": false,
     "start_time": "2024-05-28T17:13:22.595712",
     "status": "completed"
    },
    "tags": []
   },
   "outputs": [
    {
     "data": {
      "text/html": [
       "<div>\n",
       "<style scoped>\n",
       "    .dataframe tbody tr th:only-of-type {\n",
       "        vertical-align: middle;\n",
       "    }\n",
       "\n",
       "    .dataframe tbody tr th {\n",
       "        vertical-align: top;\n",
       "    }\n",
       "\n",
       "    .dataframe thead th {\n",
       "        text-align: right;\n",
       "    }\n",
       "</style>\n",
       "<table border=\"1\" class=\"dataframe\">\n",
       "  <thead>\n",
       "    <tr style=\"text-align: right;\">\n",
       "      <th></th>\n",
       "      <th>content</th>\n",
       "      <th>label</th>\n",
       "      <th>cleaned_text</th>\n",
       "    </tr>\n",
       "  </thead>\n",
       "  <tbody>\n",
       "    <tr>\n",
       "      <th>32</th>\n",
       "      <td>Điều 36. Định giá tài sản góp vốn. 1. Tài sản ...</td>\n",
       "      <td>LUẬT DOANH NGHIỆP</td>\n",
       "      <td>định giá tài sản góp vốn tài sản góp vốn đồng ...</td>\n",
       "    </tr>\n",
       "    <tr>\n",
       "      <th>1</th>\n",
       "      <td>Đối tượng áp dụng: Doanh nghiệp. Cơ quan, tổ c...</td>\n",
       "      <td>LUẬT DOANH NGHIỆP</td>\n",
       "      <td>đối tượng áp dụng doanh nghiệp cơ quan tổ chức...</td>\n",
       "    </tr>\n",
       "    <tr>\n",
       "      <th>69</th>\n",
       "      <td>Điều 73. Công bố thông tin: Công ty trách nhiệ...</td>\n",
       "      <td>LUẬT DOANH NGHIỆP</td>\n",
       "      <td>công bố thông tin công ty trách nhiệm hữu hạn ...</td>\n",
       "    </tr>\n",
       "    <tr>\n",
       "      <th>6</th>\n",
       "      <td>Nghĩa vụ của doanh nghiệp. Doanh nghiệp xã hội...</td>\n",
       "      <td>LUẬT DOANH NGHIỆP</td>\n",
       "      <td>nghĩa vụ doanh nghiệp doanh nghiệp xã hội đáp ...</td>\n",
       "    </tr>\n",
       "    <tr>\n",
       "      <th>77</th>\n",
       "      <td>Điều 81. Chủ tịch công ty. 1. Chủ tịch công ty...</td>\n",
       "      <td>LUẬT DOANH NGHIỆP</td>\n",
       "      <td>chủ tịch công ty chủ tịch công ty chủ sở hữu c...</td>\n",
       "    </tr>\n",
       "    <tr>\n",
       "      <th>...</th>\n",
       "      <td>...</td>\n",
       "      <td>...</td>\n",
       "      <td>...</td>\n",
       "    </tr>\n",
       "    <tr>\n",
       "      <th>1094</th>\n",
       "      <td>Điều 63. Tổ chức đối thoại tại nơi làm việc\\n\\...</td>\n",
       "      <td>Luật lao động</td>\n",
       "      <td>tổ chức đối thoại làm việc đối thoại làm việc ...</td>\n",
       "    </tr>\n",
       "    <tr>\n",
       "      <th>1058</th>\n",
       "      <td>Điều 27. Kết thúc thời gian thử việc\\n\\n1. Khi...</td>\n",
       "      <td>Luật lao động</td>\n",
       "      <td>kết thúc thời gian thử kết thúc thời gian thử ...</td>\n",
       "    </tr>\n",
       "    <tr>\n",
       "      <th>1210</th>\n",
       "      <td>Điều 187. Thẩm quyền giải quyết tranh chấp lao...</td>\n",
       "      <td>Luật lao động</td>\n",
       "      <td>thẩm quyền giải quyết tranh chấp lao động cá n...</td>\n",
       "    </tr>\n",
       "    <tr>\n",
       "      <th>1140</th>\n",
       "      <td>Điều 117. Kỷ luật lao động\\n\\nKỷ luật lao động...</td>\n",
       "      <td>Luật lao động</td>\n",
       "      <td>kỷ luật lao động kỷ luật lao động quy định tuâ...</td>\n",
       "    </tr>\n",
       "    <tr>\n",
       "      <th>1081</th>\n",
       "      <td>Điều 50. Thẩm quyền tuyên bố hợp đồng lao động...</td>\n",
       "      <td>Luật lao động</td>\n",
       "      <td>thẩm quyền tuyên bố hợp đồng lao động vô hiệu ...</td>\n",
       "    </tr>\n",
       "  </tbody>\n",
       "</table>\n",
       "<p>198 rows × 3 columns</p>\n",
       "</div>"
      ],
      "text/plain": [
       "                                                content              label  \\\n",
       "32    Điều 36. Định giá tài sản góp vốn. 1. Tài sản ...  LUẬT DOANH NGHIỆP   \n",
       "1     Đối tượng áp dụng: Doanh nghiệp. Cơ quan, tổ c...  LUẬT DOANH NGHIỆP   \n",
       "69    Điều 73. Công bố thông tin: Công ty trách nhiệ...  LUẬT DOANH NGHIỆP   \n",
       "6     Nghĩa vụ của doanh nghiệp. Doanh nghiệp xã hội...  LUẬT DOANH NGHIỆP   \n",
       "77    Điều 81. Chủ tịch công ty. 1. Chủ tịch công ty...  LUẬT DOANH NGHIỆP   \n",
       "...                                                 ...                ...   \n",
       "1094  Điều 63. Tổ chức đối thoại tại nơi làm việc\\n\\...      Luật lao động   \n",
       "1058  Điều 27. Kết thúc thời gian thử việc\\n\\n1. Khi...      Luật lao động   \n",
       "1210  Điều 187. Thẩm quyền giải quyết tranh chấp lao...      Luật lao động   \n",
       "1140  Điều 117. Kỷ luật lao động\\n\\nKỷ luật lao động...      Luật lao động   \n",
       "1081  Điều 50. Thẩm quyền tuyên bố hợp đồng lao động...      Luật lao động   \n",
       "\n",
       "                                           cleaned_text  \n",
       "32    định giá tài sản góp vốn tài sản góp vốn đồng ...  \n",
       "1     đối tượng áp dụng doanh nghiệp cơ quan tổ chức...  \n",
       "69    công bố thông tin công ty trách nhiệm hữu hạn ...  \n",
       "6     nghĩa vụ doanh nghiệp doanh nghiệp xã hội đáp ...  \n",
       "77    chủ tịch công ty chủ tịch công ty chủ sở hữu c...  \n",
       "...                                                 ...  \n",
       "1094  tổ chức đối thoại làm việc đối thoại làm việc ...  \n",
       "1058  kết thúc thời gian thử kết thúc thời gian thử ...  \n",
       "1210  thẩm quyền giải quyết tranh chấp lao động cá n...  \n",
       "1140  kỷ luật lao động kỷ luật lao động quy định tuâ...  \n",
       "1081  thẩm quyền tuyên bố hợp đồng lao động vô hiệu ...  \n",
       "\n",
       "[198 rows x 3 columns]"
      ]
     },
     "execution_count": 15,
     "metadata": {},
     "output_type": "execute_result"
    }
   ],
   "source": [
    "df_val['cleaned_text'] = df_val['content'].apply(text_processing)\n",
    "df_val"
   ]
  },
  {
   "cell_type": "code",
   "execution_count": 16,
   "id": "a1dde8df",
   "metadata": {
    "execution": {
     "iopub.execute_input": "2024-05-28T17:13:26.533705Z",
     "iopub.status.busy": "2024-05-28T17:13:26.533274Z",
     "iopub.status.idle": "2024-05-28T17:13:26.549469Z",
     "shell.execute_reply": "2024-05-28T17:13:26.548387Z"
    },
    "papermill": {
     "duration": 0.039547,
     "end_time": "2024-05-28T17:13:26.551560",
     "exception": false,
     "start_time": "2024-05-28T17:13:26.512013",
     "status": "completed"
    },
    "tags": []
   },
   "outputs": [
    {
     "data": {
      "text/html": [
       "<div>\n",
       "<style scoped>\n",
       "    .dataframe tbody tr th:only-of-type {\n",
       "        vertical-align: middle;\n",
       "    }\n",
       "\n",
       "    .dataframe tbody tr th {\n",
       "        vertical-align: top;\n",
       "    }\n",
       "\n",
       "    .dataframe thead th {\n",
       "        text-align: right;\n",
       "    }\n",
       "</style>\n",
       "<table border=\"1\" class=\"dataframe\">\n",
       "  <thead>\n",
       "    <tr style=\"text-align: right;\">\n",
       "      <th></th>\n",
       "      <th>cleaned_text</th>\n",
       "      <th>label</th>\n",
       "    </tr>\n",
       "  </thead>\n",
       "  <tbody>\n",
       "    <tr>\n",
       "      <th>2</th>\n",
       "      <td>áp dụng luật doanh nghiệp luật trường hợp luật...</td>\n",
       "      <td>LUẬT DOANH NGHIỆP</td>\n",
       "    </tr>\n",
       "    <tr>\n",
       "      <th>3</th>\n",
       "      <td>bảo đảm nhà nước đối với doanh nghiệp chủ sở h...</td>\n",
       "      <td>LUẬT DOANH NGHIỆP</td>\n",
       "    </tr>\n",
       "    <tr>\n",
       "      <th>5</th>\n",
       "      <td>quyền doanh nghiệp tự do kinh doanh ngành nghề...</td>\n",
       "      <td>LUẬT DOANH NGHIỆP</td>\n",
       "    </tr>\n",
       "    <tr>\n",
       "      <th>8</th>\n",
       "      <td>đại diện pháp luật doanh nghiệp đại diện pháp ...</td>\n",
       "      <td>LUẬT DOANH NGHIỆP</td>\n",
       "    </tr>\n",
       "    <tr>\n",
       "      <th>11</th>\n",
       "      <td>trách nhiệm đại diện ủy quyền chủ sở hữu thành...</td>\n",
       "      <td>LUẬT DOANH NGHIỆP</td>\n",
       "    </tr>\n",
       "    <tr>\n",
       "      <th>...</th>\n",
       "      <td>...</td>\n",
       "      <td>...</td>\n",
       "    </tr>\n",
       "    <tr>\n",
       "      <th>1227</th>\n",
       "      <td>trường hợp đình công bất hợp pháp trường hợp đ...</td>\n",
       "      <td>Luật lao động</td>\n",
       "    </tr>\n",
       "    <tr>\n",
       "      <th>1228</th>\n",
       "      <td>thông báo quyết định đóng cửa tạm thời làm việ...</td>\n",
       "      <td>Luật lao động</td>\n",
       "    </tr>\n",
       "    <tr>\n",
       "      <th>1229</th>\n",
       "      <td>trường hợp cấm đóng cửa tạm thời làm việc thời...</td>\n",
       "      <td>Luật lao động</td>\n",
       "    </tr>\n",
       "    <tr>\n",
       "      <th>1230</th>\n",
       "      <td>tiền lương quyền lợi hợp pháp lao động thời gi...</td>\n",
       "      <td>Luật lao động</td>\n",
       "    </tr>\n",
       "    <tr>\n",
       "      <th>1231</th>\n",
       "      <td>hành vi nghiêm cấm đình công cản trở thực hiện...</td>\n",
       "      <td>Luật lao động</td>\n",
       "    </tr>\n",
       "  </tbody>\n",
       "</table>\n",
       "<p>791 rows × 2 columns</p>\n",
       "</div>"
      ],
      "text/plain": [
       "                                           cleaned_text              label\n",
       "2     áp dụng luật doanh nghiệp luật trường hợp luật...  LUẬT DOANH NGHIỆP\n",
       "3     bảo đảm nhà nước đối với doanh nghiệp chủ sở h...  LUẬT DOANH NGHIỆP\n",
       "5     quyền doanh nghiệp tự do kinh doanh ngành nghề...  LUẬT DOANH NGHIỆP\n",
       "8     đại diện pháp luật doanh nghiệp đại diện pháp ...  LUẬT DOANH NGHIỆP\n",
       "11    trách nhiệm đại diện ủy quyền chủ sở hữu thành...  LUẬT DOANH NGHIỆP\n",
       "...                                                 ...                ...\n",
       "1227  trường hợp đình công bất hợp pháp trường hợp đ...      Luật lao động\n",
       "1228  thông báo quyết định đóng cửa tạm thời làm việ...      Luật lao động\n",
       "1229  trường hợp cấm đóng cửa tạm thời làm việc thời...      Luật lao động\n",
       "1230  tiền lương quyền lợi hợp pháp lao động thời gi...      Luật lao động\n",
       "1231  hành vi nghiêm cấm đình công cản trở thực hiện...      Luật lao động\n",
       "\n",
       "[791 rows x 2 columns]"
      ]
     },
     "execution_count": 16,
     "metadata": {},
     "output_type": "execute_result"
    }
   ],
   "source": [
    "df_train.drop(columns=['content'], inplace=True)\n",
    "df_train = df_train[['cleaned_text', 'label']]\n",
    "df_train"
   ]
  },
  {
   "cell_type": "code",
   "execution_count": 17,
   "id": "71f84805",
   "metadata": {
    "execution": {
     "iopub.execute_input": "2024-05-28T17:13:26.649539Z",
     "iopub.status.busy": "2024-05-28T17:13:26.649154Z",
     "iopub.status.idle": "2024-05-28T17:13:26.663162Z",
     "shell.execute_reply": "2024-05-28T17:13:26.661955Z"
    },
    "papermill": {
     "duration": 0.094751,
     "end_time": "2024-05-28T17:13:26.665657",
     "exception": false,
     "start_time": "2024-05-28T17:13:26.570906",
     "status": "completed"
    },
    "tags": []
   },
   "outputs": [
    {
     "data": {
      "text/html": [
       "<div>\n",
       "<style scoped>\n",
       "    .dataframe tbody tr th:only-of-type {\n",
       "        vertical-align: middle;\n",
       "    }\n",
       "\n",
       "    .dataframe tbody tr th {\n",
       "        vertical-align: top;\n",
       "    }\n",
       "\n",
       "    .dataframe thead th {\n",
       "        text-align: right;\n",
       "    }\n",
       "</style>\n",
       "<table border=\"1\" class=\"dataframe\">\n",
       "  <thead>\n",
       "    <tr style=\"text-align: right;\">\n",
       "      <th></th>\n",
       "      <th>cleaned_text</th>\n",
       "      <th>label</th>\n",
       "    </tr>\n",
       "  </thead>\n",
       "  <tbody>\n",
       "    <tr>\n",
       "      <th>62</th>\n",
       "      <td>tiền lương thù lao thưởng lợi ích chủ tịch hội...</td>\n",
       "      <td>LUẬT DOANH NGHIỆP</td>\n",
       "    </tr>\n",
       "    <tr>\n",
       "      <th>40</th>\n",
       "      <td>chi nhánh văn phòng đại diện địa điểm kinh doa...</td>\n",
       "      <td>LUẬT DOANH NGHIỆP</td>\n",
       "    </tr>\n",
       "    <tr>\n",
       "      <th>93</th>\n",
       "      <td>trách nhiệm chủ tịch thành viên hội đồng thành...</td>\n",
       "      <td>LUẬT DOANH NGHIỆP</td>\n",
       "    </tr>\n",
       "    <tr>\n",
       "      <th>18</th>\n",
       "      <td>hồ sơ đăng ký công ty cổ phần giấy đề nghị đăn...</td>\n",
       "      <td>LUẬT DOANH NGHIỆP</td>\n",
       "    </tr>\n",
       "    <tr>\n",
       "      <th>81</th>\n",
       "      <td>cơ cấu tổ chức quản lý công ty trách nhiệm hữu...</td>\n",
       "      <td>LUẬT DOANH NGHIỆP</td>\n",
       "    </tr>\n",
       "    <tr>\n",
       "      <th>...</th>\n",
       "      <td>...</td>\n",
       "      <td>...</td>\n",
       "    </tr>\n",
       "    <tr>\n",
       "      <th>1180</th>\n",
       "      <td>gia hạn thu hồi giấy phép lao động giấy xác nh...</td>\n",
       "      <td>Luật lao động</td>\n",
       "    </tr>\n",
       "    <tr>\n",
       "      <th>1125</th>\n",
       "      <td>khấu trừ tiền lương sử dụng lao động khấu trừ ...</td>\n",
       "      <td>Luật lao động</td>\n",
       "    </tr>\n",
       "    <tr>\n",
       "      <th>1097</th>\n",
       "      <td>nguyên tắc thương lượng tập thể thương lượng t...</td>\n",
       "      <td>Luật lao động</td>\n",
       "    </tr>\n",
       "    <tr>\n",
       "      <th>1092</th>\n",
       "      <td>học nghề tập nghề làm việc sử dụng lao động họ...</td>\n",
       "      <td>Luật lao động</td>\n",
       "    </tr>\n",
       "    <tr>\n",
       "      <th>1116</th>\n",
       "      <td>gia nhập rút thỏa ước lao động tập thể ngành t...</td>\n",
       "      <td>Luật lao động</td>\n",
       "    </tr>\n",
       "  </tbody>\n",
       "</table>\n",
       "<p>243 rows × 2 columns</p>\n",
       "</div>"
      ],
      "text/plain": [
       "                                           cleaned_text              label\n",
       "62    tiền lương thù lao thưởng lợi ích chủ tịch hội...  LUẬT DOANH NGHIỆP\n",
       "40    chi nhánh văn phòng đại diện địa điểm kinh doa...  LUẬT DOANH NGHIỆP\n",
       "93    trách nhiệm chủ tịch thành viên hội đồng thành...  LUẬT DOANH NGHIỆP\n",
       "18    hồ sơ đăng ký công ty cổ phần giấy đề nghị đăn...  LUẬT DOANH NGHIỆP\n",
       "81    cơ cấu tổ chức quản lý công ty trách nhiệm hữu...  LUẬT DOANH NGHIỆP\n",
       "...                                                 ...                ...\n",
       "1180  gia hạn thu hồi giấy phép lao động giấy xác nh...      Luật lao động\n",
       "1125  khấu trừ tiền lương sử dụng lao động khấu trừ ...      Luật lao động\n",
       "1097  nguyên tắc thương lượng tập thể thương lượng t...      Luật lao động\n",
       "1092  học nghề tập nghề làm việc sử dụng lao động họ...      Luật lao động\n",
       "1116  gia nhập rút thỏa ước lao động tập thể ngành t...      Luật lao động\n",
       "\n",
       "[243 rows x 2 columns]"
      ]
     },
     "execution_count": 17,
     "metadata": {},
     "output_type": "execute_result"
    }
   ],
   "source": [
    "df_test.drop(columns=['content'], inplace=True)\n",
    "df_test = df_test[['cleaned_text', 'label']]\n",
    "df_test"
   ]
  },
  {
   "cell_type": "code",
   "execution_count": 18,
   "id": "46518949",
   "metadata": {
    "execution": {
     "iopub.execute_input": "2024-05-28T17:13:26.707278Z",
     "iopub.status.busy": "2024-05-28T17:13:26.706874Z",
     "iopub.status.idle": "2024-05-28T17:13:26.722225Z",
     "shell.execute_reply": "2024-05-28T17:13:26.720987Z"
    },
    "papermill": {
     "duration": 0.039338,
     "end_time": "2024-05-28T17:13:26.724647",
     "exception": false,
     "start_time": "2024-05-28T17:13:26.685309",
     "status": "completed"
    },
    "tags": []
   },
   "outputs": [
    {
     "data": {
      "text/html": [
       "<div>\n",
       "<style scoped>\n",
       "    .dataframe tbody tr th:only-of-type {\n",
       "        vertical-align: middle;\n",
       "    }\n",
       "\n",
       "    .dataframe tbody tr th {\n",
       "        vertical-align: top;\n",
       "    }\n",
       "\n",
       "    .dataframe thead th {\n",
       "        text-align: right;\n",
       "    }\n",
       "</style>\n",
       "<table border=\"1\" class=\"dataframe\">\n",
       "  <thead>\n",
       "    <tr style=\"text-align: right;\">\n",
       "      <th></th>\n",
       "      <th>cleaned_text</th>\n",
       "      <th>label</th>\n",
       "    </tr>\n",
       "  </thead>\n",
       "  <tbody>\n",
       "    <tr>\n",
       "      <th>32</th>\n",
       "      <td>định giá tài sản góp vốn tài sản góp vốn đồng ...</td>\n",
       "      <td>LUẬT DOANH NGHIỆP</td>\n",
       "    </tr>\n",
       "    <tr>\n",
       "      <th>1</th>\n",
       "      <td>đối tượng áp dụng doanh nghiệp cơ quan tổ chức...</td>\n",
       "      <td>LUẬT DOANH NGHIỆP</td>\n",
       "    </tr>\n",
       "    <tr>\n",
       "      <th>69</th>\n",
       "      <td>công bố thông tin công ty trách nhiệm hữu hạn ...</td>\n",
       "      <td>LUẬT DOANH NGHIỆP</td>\n",
       "    </tr>\n",
       "    <tr>\n",
       "      <th>6</th>\n",
       "      <td>nghĩa vụ doanh nghiệp doanh nghiệp xã hội đáp ...</td>\n",
       "      <td>LUẬT DOANH NGHIỆP</td>\n",
       "    </tr>\n",
       "    <tr>\n",
       "      <th>77</th>\n",
       "      <td>chủ tịch công ty chủ tịch công ty chủ sở hữu c...</td>\n",
       "      <td>LUẬT DOANH NGHIỆP</td>\n",
       "    </tr>\n",
       "    <tr>\n",
       "      <th>...</th>\n",
       "      <td>...</td>\n",
       "      <td>...</td>\n",
       "    </tr>\n",
       "    <tr>\n",
       "      <th>1094</th>\n",
       "      <td>tổ chức đối thoại làm việc đối thoại làm việc ...</td>\n",
       "      <td>Luật lao động</td>\n",
       "    </tr>\n",
       "    <tr>\n",
       "      <th>1058</th>\n",
       "      <td>kết thúc thời gian thử kết thúc thời gian thử ...</td>\n",
       "      <td>Luật lao động</td>\n",
       "    </tr>\n",
       "    <tr>\n",
       "      <th>1210</th>\n",
       "      <td>thẩm quyền giải quyết tranh chấp lao động cá n...</td>\n",
       "      <td>Luật lao động</td>\n",
       "    </tr>\n",
       "    <tr>\n",
       "      <th>1140</th>\n",
       "      <td>kỷ luật lao động kỷ luật lao động quy định tuâ...</td>\n",
       "      <td>Luật lao động</td>\n",
       "    </tr>\n",
       "    <tr>\n",
       "      <th>1081</th>\n",
       "      <td>thẩm quyền tuyên bố hợp đồng lao động vô hiệu ...</td>\n",
       "      <td>Luật lao động</td>\n",
       "    </tr>\n",
       "  </tbody>\n",
       "</table>\n",
       "<p>198 rows × 2 columns</p>\n",
       "</div>"
      ],
      "text/plain": [
       "                                           cleaned_text              label\n",
       "32    định giá tài sản góp vốn tài sản góp vốn đồng ...  LUẬT DOANH NGHIỆP\n",
       "1     đối tượng áp dụng doanh nghiệp cơ quan tổ chức...  LUẬT DOANH NGHIỆP\n",
       "69    công bố thông tin công ty trách nhiệm hữu hạn ...  LUẬT DOANH NGHIỆP\n",
       "6     nghĩa vụ doanh nghiệp doanh nghiệp xã hội đáp ...  LUẬT DOANH NGHIỆP\n",
       "77    chủ tịch công ty chủ tịch công ty chủ sở hữu c...  LUẬT DOANH NGHIỆP\n",
       "...                                                 ...                ...\n",
       "1094  tổ chức đối thoại làm việc đối thoại làm việc ...      Luật lao động\n",
       "1058  kết thúc thời gian thử kết thúc thời gian thử ...      Luật lao động\n",
       "1210  thẩm quyền giải quyết tranh chấp lao động cá n...      Luật lao động\n",
       "1140  kỷ luật lao động kỷ luật lao động quy định tuâ...      Luật lao động\n",
       "1081  thẩm quyền tuyên bố hợp đồng lao động vô hiệu ...      Luật lao động\n",
       "\n",
       "[198 rows x 2 columns]"
      ]
     },
     "execution_count": 18,
     "metadata": {},
     "output_type": "execute_result"
    }
   ],
   "source": [
    "df_val.drop(columns=['content'], inplace=True)\n",
    "df_val = df_val[['cleaned_text', 'label']]\n",
    "df_val"
   ]
  },
  {
   "cell_type": "code",
   "execution_count": 19,
   "id": "b0925db4",
   "metadata": {
    "execution": {
     "iopub.execute_input": "2024-05-28T17:13:26.766165Z",
     "iopub.status.busy": "2024-05-28T17:13:26.765743Z",
     "iopub.status.idle": "2024-05-28T17:13:26.779252Z",
     "shell.execute_reply": "2024-05-28T17:13:26.778149Z"
    },
    "papermill": {
     "duration": 0.037013,
     "end_time": "2024-05-28T17:13:26.781550",
     "exception": false,
     "start_time": "2024-05-28T17:13:26.744537",
     "status": "completed"
    },
    "tags": []
   },
   "outputs": [
    {
     "data": {
      "text/html": [
       "<div>\n",
       "<style scoped>\n",
       "    .dataframe tbody tr th:only-of-type {\n",
       "        vertical-align: middle;\n",
       "    }\n",
       "\n",
       "    .dataframe tbody tr th {\n",
       "        vertical-align: top;\n",
       "    }\n",
       "\n",
       "    .dataframe thead th {\n",
       "        text-align: right;\n",
       "    }\n",
       "</style>\n",
       "<table border=\"1\" class=\"dataframe\">\n",
       "  <thead>\n",
       "    <tr style=\"text-align: right;\">\n",
       "      <th></th>\n",
       "      <th>cleaned_text</th>\n",
       "      <th>label</th>\n",
       "    </tr>\n",
       "  </thead>\n",
       "  <tbody>\n",
       "    <tr>\n",
       "      <th>2</th>\n",
       "      <td>áp dụng luật doanh nghiệp luật trường hợp luật...</td>\n",
       "      <td>1</td>\n",
       "    </tr>\n",
       "    <tr>\n",
       "      <th>3</th>\n",
       "      <td>bảo đảm nhà nước đối với doanh nghiệp chủ sở h...</td>\n",
       "      <td>1</td>\n",
       "    </tr>\n",
       "    <tr>\n",
       "      <th>5</th>\n",
       "      <td>quyền doanh nghiệp tự do kinh doanh ngành nghề...</td>\n",
       "      <td>1</td>\n",
       "    </tr>\n",
       "    <tr>\n",
       "      <th>8</th>\n",
       "      <td>đại diện pháp luật doanh nghiệp đại diện pháp ...</td>\n",
       "      <td>1</td>\n",
       "    </tr>\n",
       "    <tr>\n",
       "      <th>11</th>\n",
       "      <td>trách nhiệm đại diện ủy quyền chủ sở hữu thành...</td>\n",
       "      <td>1</td>\n",
       "    </tr>\n",
       "    <tr>\n",
       "      <th>...</th>\n",
       "      <td>...</td>\n",
       "      <td>...</td>\n",
       "    </tr>\n",
       "    <tr>\n",
       "      <th>1227</th>\n",
       "      <td>trường hợp đình công bất hợp pháp trường hợp đ...</td>\n",
       "      <td>7</td>\n",
       "    </tr>\n",
       "    <tr>\n",
       "      <th>1228</th>\n",
       "      <td>thông báo quyết định đóng cửa tạm thời làm việ...</td>\n",
       "      <td>7</td>\n",
       "    </tr>\n",
       "    <tr>\n",
       "      <th>1229</th>\n",
       "      <td>trường hợp cấm đóng cửa tạm thời làm việc thời...</td>\n",
       "      <td>7</td>\n",
       "    </tr>\n",
       "    <tr>\n",
       "      <th>1230</th>\n",
       "      <td>tiền lương quyền lợi hợp pháp lao động thời gi...</td>\n",
       "      <td>7</td>\n",
       "    </tr>\n",
       "    <tr>\n",
       "      <th>1231</th>\n",
       "      <td>hành vi nghiêm cấm đình công cản trở thực hiện...</td>\n",
       "      <td>7</td>\n",
       "    </tr>\n",
       "  </tbody>\n",
       "</table>\n",
       "<p>791 rows × 2 columns</p>\n",
       "</div>"
      ],
      "text/plain": [
       "                                           cleaned_text  label\n",
       "2     áp dụng luật doanh nghiệp luật trường hợp luật...      1\n",
       "3     bảo đảm nhà nước đối với doanh nghiệp chủ sở h...      1\n",
       "5     quyền doanh nghiệp tự do kinh doanh ngành nghề...      1\n",
       "8     đại diện pháp luật doanh nghiệp đại diện pháp ...      1\n",
       "11    trách nhiệm đại diện ủy quyền chủ sở hữu thành...      1\n",
       "...                                                 ...    ...\n",
       "1227  trường hợp đình công bất hợp pháp trường hợp đ...      7\n",
       "1228  thông báo quyết định đóng cửa tạm thời làm việ...      7\n",
       "1229  trường hợp cấm đóng cửa tạm thời làm việc thời...      7\n",
       "1230  tiền lương quyền lợi hợp pháp lao động thời gi...      7\n",
       "1231  hành vi nghiêm cấm đình công cản trở thực hiện...      7\n",
       "\n",
       "[791 rows x 2 columns]"
      ]
     },
     "execution_count": 19,
     "metadata": {},
     "output_type": "execute_result"
    }
   ],
   "source": [
    "le = LabelEncoder()\n",
    "df_train['label'] = le.fit_transform(df_train['label'])\n",
    "df_train"
   ]
  },
  {
   "cell_type": "code",
   "execution_count": 20,
   "id": "53723a4a",
   "metadata": {
    "execution": {
     "iopub.execute_input": "2024-05-28T17:13:26.823917Z",
     "iopub.status.busy": "2024-05-28T17:13:26.823493Z",
     "iopub.status.idle": "2024-05-28T17:13:26.836671Z",
     "shell.execute_reply": "2024-05-28T17:13:26.835466Z"
    },
    "papermill": {
     "duration": 0.037304,
     "end_time": "2024-05-28T17:13:26.839187",
     "exception": false,
     "start_time": "2024-05-28T17:13:26.801883",
     "status": "completed"
    },
    "tags": []
   },
   "outputs": [
    {
     "data": {
      "text/html": [
       "<div>\n",
       "<style scoped>\n",
       "    .dataframe tbody tr th:only-of-type {\n",
       "        vertical-align: middle;\n",
       "    }\n",
       "\n",
       "    .dataframe tbody tr th {\n",
       "        vertical-align: top;\n",
       "    }\n",
       "\n",
       "    .dataframe thead th {\n",
       "        text-align: right;\n",
       "    }\n",
       "</style>\n",
       "<table border=\"1\" class=\"dataframe\">\n",
       "  <thead>\n",
       "    <tr style=\"text-align: right;\">\n",
       "      <th></th>\n",
       "      <th>cleaned_text</th>\n",
       "      <th>label</th>\n",
       "    </tr>\n",
       "  </thead>\n",
       "  <tbody>\n",
       "    <tr>\n",
       "      <th>62</th>\n",
       "      <td>tiền lương thù lao thưởng lợi ích chủ tịch hội...</td>\n",
       "      <td>1</td>\n",
       "    </tr>\n",
       "    <tr>\n",
       "      <th>40</th>\n",
       "      <td>chi nhánh văn phòng đại diện địa điểm kinh doa...</td>\n",
       "      <td>1</td>\n",
       "    </tr>\n",
       "    <tr>\n",
       "      <th>93</th>\n",
       "      <td>trách nhiệm chủ tịch thành viên hội đồng thành...</td>\n",
       "      <td>1</td>\n",
       "    </tr>\n",
       "    <tr>\n",
       "      <th>18</th>\n",
       "      <td>hồ sơ đăng ký công ty cổ phần giấy đề nghị đăn...</td>\n",
       "      <td>1</td>\n",
       "    </tr>\n",
       "    <tr>\n",
       "      <th>81</th>\n",
       "      <td>cơ cấu tổ chức quản lý công ty trách nhiệm hữu...</td>\n",
       "      <td>1</td>\n",
       "    </tr>\n",
       "    <tr>\n",
       "      <th>...</th>\n",
       "      <td>...</td>\n",
       "      <td>...</td>\n",
       "    </tr>\n",
       "    <tr>\n",
       "      <th>1180</th>\n",
       "      <td>gia hạn thu hồi giấy phép lao động giấy xác nh...</td>\n",
       "      <td>7</td>\n",
       "    </tr>\n",
       "    <tr>\n",
       "      <th>1125</th>\n",
       "      <td>khấu trừ tiền lương sử dụng lao động khấu trừ ...</td>\n",
       "      <td>7</td>\n",
       "    </tr>\n",
       "    <tr>\n",
       "      <th>1097</th>\n",
       "      <td>nguyên tắc thương lượng tập thể thương lượng t...</td>\n",
       "      <td>7</td>\n",
       "    </tr>\n",
       "    <tr>\n",
       "      <th>1092</th>\n",
       "      <td>học nghề tập nghề làm việc sử dụng lao động họ...</td>\n",
       "      <td>7</td>\n",
       "    </tr>\n",
       "    <tr>\n",
       "      <th>1116</th>\n",
       "      <td>gia nhập rút thỏa ước lao động tập thể ngành t...</td>\n",
       "      <td>7</td>\n",
       "    </tr>\n",
       "  </tbody>\n",
       "</table>\n",
       "<p>243 rows × 2 columns</p>\n",
       "</div>"
      ],
      "text/plain": [
       "                                           cleaned_text  label\n",
       "62    tiền lương thù lao thưởng lợi ích chủ tịch hội...      1\n",
       "40    chi nhánh văn phòng đại diện địa điểm kinh doa...      1\n",
       "93    trách nhiệm chủ tịch thành viên hội đồng thành...      1\n",
       "18    hồ sơ đăng ký công ty cổ phần giấy đề nghị đăn...      1\n",
       "81    cơ cấu tổ chức quản lý công ty trách nhiệm hữu...      1\n",
       "...                                                 ...    ...\n",
       "1180  gia hạn thu hồi giấy phép lao động giấy xác nh...      7\n",
       "1125  khấu trừ tiền lương sử dụng lao động khấu trừ ...      7\n",
       "1097  nguyên tắc thương lượng tập thể thương lượng t...      7\n",
       "1092  học nghề tập nghề làm việc sử dụng lao động họ...      7\n",
       "1116  gia nhập rút thỏa ước lao động tập thể ngành t...      7\n",
       "\n",
       "[243 rows x 2 columns]"
      ]
     },
     "execution_count": 20,
     "metadata": {},
     "output_type": "execute_result"
    }
   ],
   "source": [
    "le = LabelEncoder()\n",
    "df_test['label'] = le.fit_transform(df_test['label'])\n",
    "df_test"
   ]
  },
  {
   "cell_type": "code",
   "execution_count": 21,
   "id": "3b10531c",
   "metadata": {
    "execution": {
     "iopub.execute_input": "2024-05-28T17:13:26.881563Z",
     "iopub.status.busy": "2024-05-28T17:13:26.881185Z",
     "iopub.status.idle": "2024-05-28T17:13:26.893478Z",
     "shell.execute_reply": "2024-05-28T17:13:26.892403Z"
    },
    "papermill": {
     "duration": 0.036506,
     "end_time": "2024-05-28T17:13:26.895992",
     "exception": false,
     "start_time": "2024-05-28T17:13:26.859486",
     "status": "completed"
    },
    "tags": []
   },
   "outputs": [
    {
     "data": {
      "text/html": [
       "<div>\n",
       "<style scoped>\n",
       "    .dataframe tbody tr th:only-of-type {\n",
       "        vertical-align: middle;\n",
       "    }\n",
       "\n",
       "    .dataframe tbody tr th {\n",
       "        vertical-align: top;\n",
       "    }\n",
       "\n",
       "    .dataframe thead th {\n",
       "        text-align: right;\n",
       "    }\n",
       "</style>\n",
       "<table border=\"1\" class=\"dataframe\">\n",
       "  <thead>\n",
       "    <tr style=\"text-align: right;\">\n",
       "      <th></th>\n",
       "      <th>cleaned_text</th>\n",
       "      <th>label</th>\n",
       "    </tr>\n",
       "  </thead>\n",
       "  <tbody>\n",
       "    <tr>\n",
       "      <th>32</th>\n",
       "      <td>định giá tài sản góp vốn tài sản góp vốn đồng ...</td>\n",
       "      <td>1</td>\n",
       "    </tr>\n",
       "    <tr>\n",
       "      <th>1</th>\n",
       "      <td>đối tượng áp dụng doanh nghiệp cơ quan tổ chức...</td>\n",
       "      <td>1</td>\n",
       "    </tr>\n",
       "    <tr>\n",
       "      <th>69</th>\n",
       "      <td>công bố thông tin công ty trách nhiệm hữu hạn ...</td>\n",
       "      <td>1</td>\n",
       "    </tr>\n",
       "    <tr>\n",
       "      <th>6</th>\n",
       "      <td>nghĩa vụ doanh nghiệp doanh nghiệp xã hội đáp ...</td>\n",
       "      <td>1</td>\n",
       "    </tr>\n",
       "    <tr>\n",
       "      <th>77</th>\n",
       "      <td>chủ tịch công ty chủ tịch công ty chủ sở hữu c...</td>\n",
       "      <td>1</td>\n",
       "    </tr>\n",
       "    <tr>\n",
       "      <th>...</th>\n",
       "      <td>...</td>\n",
       "      <td>...</td>\n",
       "    </tr>\n",
       "    <tr>\n",
       "      <th>1094</th>\n",
       "      <td>tổ chức đối thoại làm việc đối thoại làm việc ...</td>\n",
       "      <td>7</td>\n",
       "    </tr>\n",
       "    <tr>\n",
       "      <th>1058</th>\n",
       "      <td>kết thúc thời gian thử kết thúc thời gian thử ...</td>\n",
       "      <td>7</td>\n",
       "    </tr>\n",
       "    <tr>\n",
       "      <th>1210</th>\n",
       "      <td>thẩm quyền giải quyết tranh chấp lao động cá n...</td>\n",
       "      <td>7</td>\n",
       "    </tr>\n",
       "    <tr>\n",
       "      <th>1140</th>\n",
       "      <td>kỷ luật lao động kỷ luật lao động quy định tuâ...</td>\n",
       "      <td>7</td>\n",
       "    </tr>\n",
       "    <tr>\n",
       "      <th>1081</th>\n",
       "      <td>thẩm quyền tuyên bố hợp đồng lao động vô hiệu ...</td>\n",
       "      <td>7</td>\n",
       "    </tr>\n",
       "  </tbody>\n",
       "</table>\n",
       "<p>198 rows × 2 columns</p>\n",
       "</div>"
      ],
      "text/plain": [
       "                                           cleaned_text  label\n",
       "32    định giá tài sản góp vốn tài sản góp vốn đồng ...      1\n",
       "1     đối tượng áp dụng doanh nghiệp cơ quan tổ chức...      1\n",
       "69    công bố thông tin công ty trách nhiệm hữu hạn ...      1\n",
       "6     nghĩa vụ doanh nghiệp doanh nghiệp xã hội đáp ...      1\n",
       "77    chủ tịch công ty chủ tịch công ty chủ sở hữu c...      1\n",
       "...                                                 ...    ...\n",
       "1094  tổ chức đối thoại làm việc đối thoại làm việc ...      7\n",
       "1058  kết thúc thời gian thử kết thúc thời gian thử ...      7\n",
       "1210  thẩm quyền giải quyết tranh chấp lao động cá n...      7\n",
       "1140  kỷ luật lao động kỷ luật lao động quy định tuâ...      7\n",
       "1081  thẩm quyền tuyên bố hợp đồng lao động vô hiệu ...      7\n",
       "\n",
       "[198 rows x 2 columns]"
      ]
     },
     "execution_count": 21,
     "metadata": {},
     "output_type": "execute_result"
    }
   ],
   "source": [
    "le = LabelEncoder()\n",
    "df_val['label'] = le.fit_transform(df_val['label'])\n",
    "df_val"
   ]
  },
  {
   "cell_type": "code",
   "execution_count": 22,
   "id": "e004eb62",
   "metadata": {
    "execution": {
     "iopub.execute_input": "2024-05-28T17:13:26.939972Z",
     "iopub.status.busy": "2024-05-28T17:13:26.938962Z",
     "iopub.status.idle": "2024-05-28T17:13:26.951135Z",
     "shell.execute_reply": "2024-05-28T17:13:26.950092Z"
    },
    "papermill": {
     "duration": 0.036569,
     "end_time": "2024-05-28T17:13:26.953446",
     "exception": false,
     "start_time": "2024-05-28T17:13:26.916877",
     "status": "completed"
    },
    "tags": []
   },
   "outputs": [
    {
     "data": {
      "text/plain": [
       "5    159\n",
       "7    151\n",
       "0    122\n",
       "3     93\n",
       "8     93\n",
       "2     65\n",
       "1     48\n",
       "6     47\n",
       "4     13\n",
       "Name: label, dtype: int64"
      ]
     },
     "execution_count": 22,
     "metadata": {},
     "output_type": "execute_result"
    }
   ],
   "source": [
    "df_train['label'].value_counts()"
   ]
  },
  {
   "cell_type": "code",
   "execution_count": 23,
   "id": "95fc616c",
   "metadata": {
    "execution": {
     "iopub.execute_input": "2024-05-28T17:13:26.997029Z",
     "iopub.status.busy": "2024-05-28T17:13:26.996181Z",
     "iopub.status.idle": "2024-05-28T17:13:27.005119Z",
     "shell.execute_reply": "2024-05-28T17:13:27.003796Z"
    },
    "papermill": {
     "duration": 0.033125,
     "end_time": "2024-05-28T17:13:27.007333",
     "exception": false,
     "start_time": "2024-05-28T17:13:26.974208",
     "status": "completed"
    },
    "tags": []
   },
   "outputs": [
    {
     "data": {
      "text/plain": [
       "1    27\n",
       "4    27\n",
       "3    27\n",
       "0    27\n",
       "6    27\n",
       "2    27\n",
       "5    27\n",
       "8    27\n",
       "7    27\n",
       "Name: label, dtype: int64"
      ]
     },
     "execution_count": 23,
     "metadata": {},
     "output_type": "execute_result"
    }
   ],
   "source": [
    "df_test['label'].value_counts()"
   ]
  },
  {
   "cell_type": "code",
   "execution_count": 24,
   "id": "a22e890d",
   "metadata": {
    "execution": {
     "iopub.execute_input": "2024-05-28T17:13:27.051620Z",
     "iopub.status.busy": "2024-05-28T17:13:27.051223Z",
     "iopub.status.idle": "2024-05-28T17:13:27.059331Z",
     "shell.execute_reply": "2024-05-28T17:13:27.058322Z"
    },
    "papermill": {
     "duration": 0.032661,
     "end_time": "2024-05-28T17:13:27.061602",
     "exception": false,
     "start_time": "2024-05-28T17:13:27.028941",
     "status": "completed"
    },
    "tags": []
   },
   "outputs": [
    {
     "data": {
      "text/plain": [
       "1    22\n",
       "4    22\n",
       "3    22\n",
       "0    22\n",
       "6    22\n",
       "2    22\n",
       "5    22\n",
       "8    22\n",
       "7    22\n",
       "Name: label, dtype: int64"
      ]
     },
     "execution_count": 24,
     "metadata": {},
     "output_type": "execute_result"
    }
   ],
   "source": [
    "df_val['label'].value_counts()"
   ]
  },
  {
   "cell_type": "code",
   "execution_count": 25,
   "id": "e0acd000",
   "metadata": {
    "execution": {
     "iopub.execute_input": "2024-05-28T17:13:27.105074Z",
     "iopub.status.busy": "2024-05-28T17:13:27.104684Z",
     "iopub.status.idle": "2024-05-28T17:13:27.113300Z",
     "shell.execute_reply": "2024-05-28T17:13:27.111954Z"
    },
    "papermill": {
     "duration": 0.033691,
     "end_time": "2024-05-28T17:13:27.116187",
     "exception": false,
     "start_time": "2024-05-28T17:13:27.082496",
     "status": "completed"
    },
    "tags": []
   },
   "outputs": [
    {
     "name": "stdout",
     "output_type": "stream",
     "text": [
      "Number samples of training set: (791,)\n",
      "Number samples of test set: (198,)\n",
      "Number samples of test set: (243,)\n"
     ]
    }
   ],
   "source": [
    "X_train = df_train['cleaned_text']\n",
    "y_train = df_train['label']\n",
    "\n",
    "X_test = df_test['cleaned_text']\n",
    "y_test = df_test['label']\n",
    "\n",
    "X_val = df_val['cleaned_text']\n",
    "y_val = df_val['label']\n",
    "\n",
    "print(f'Number samples of training set: {X_train.shape}')\n",
    "print(f'Number samples of test set: {X_val.shape}')\n",
    "print(f'Number samples of test set: {X_test.shape}')"
   ]
  },
  {
   "cell_type": "code",
   "execution_count": 26,
   "id": "151de41e",
   "metadata": {
    "execution": {
     "iopub.execute_input": "2024-05-28T17:13:27.162504Z",
     "iopub.status.busy": "2024-05-28T17:13:27.162100Z",
     "iopub.status.idle": "2024-05-28T17:13:27.405911Z",
     "shell.execute_reply": "2024-05-28T17:13:27.404416Z"
    },
    "papermill": {
     "duration": 0.268673,
     "end_time": "2024-05-28T17:13:27.408590",
     "exception": false,
     "start_time": "2024-05-28T17:13:27.139917",
     "status": "completed"
    },
    "tags": []
   },
   "outputs": [],
   "source": [
    "\n",
    "X_train = tfidf.fit_transform(X_train)\n",
    "X_val = tfidf.transform(X_val)\n",
    "X_test = tfidf.transform(X_test)"
   ]
  },
  {
   "cell_type": "markdown",
   "id": "d0539ba8",
   "metadata": {
    "papermill": {
     "duration": 0.02069,
     "end_time": "2024-05-28T17:13:27.450717",
     "exception": false,
     "start_time": "2024-05-28T17:13:27.430027",
     "status": "completed"
    },
    "tags": []
   },
   "source": [
    "# TRANING MODEL"
   ]
  },
  {
   "cell_type": "code",
   "execution_count": 27,
   "id": "a760c127",
   "metadata": {
    "execution": {
     "iopub.execute_input": "2024-05-28T17:13:27.494343Z",
     "iopub.status.busy": "2024-05-28T17:13:27.493942Z",
     "iopub.status.idle": "2024-05-28T17:13:27.500279Z",
     "shell.execute_reply": "2024-05-28T17:13:27.499063Z"
    },
    "papermill": {
     "duration": 0.030943,
     "end_time": "2024-05-28T17:13:27.502667",
     "exception": false,
     "start_time": "2024-05-28T17:13:27.471724",
     "status": "completed"
    },
    "tags": []
   },
   "outputs": [],
   "source": [
    "def evaluation(model, feature, label, title, metric1, metric2):\n",
    "    input_prediction = model.predict(feature)\n",
    "    input_accuracy = metric1(input_prediction, label)\n",
    "    print(f'{title}: {input_accuracy}')\n",
    "    print('='*55)\n",
    "    print(metric2(label, input_prediction))"
   ]
  },
  {
   "cell_type": "code",
   "execution_count": 28,
   "id": "4672059f",
   "metadata": {
    "execution": {
     "iopub.execute_input": "2024-05-28T17:13:27.548043Z",
     "iopub.status.busy": "2024-05-28T17:13:27.547648Z",
     "iopub.status.idle": "2024-05-28T17:13:27.560316Z",
     "shell.execute_reply": "2024-05-28T17:13:27.559252Z"
    },
    "papermill": {
     "duration": 0.039077,
     "end_time": "2024-05-28T17:13:27.562846",
     "exception": false,
     "start_time": "2024-05-28T17:13:27.523769",
     "status": "completed"
    },
    "tags": []
   },
   "outputs": [
    {
     "data": {
      "text/html": [
       "<div>\n",
       "<style scoped>\n",
       "    .dataframe tbody tr th:only-of-type {\n",
       "        vertical-align: middle;\n",
       "    }\n",
       "\n",
       "    .dataframe tbody tr th {\n",
       "        vertical-align: top;\n",
       "    }\n",
       "\n",
       "    .dataframe thead th {\n",
       "        text-align: right;\n",
       "    }\n",
       "</style>\n",
       "<table border=\"1\" class=\"dataframe\">\n",
       "  <thead>\n",
       "    <tr style=\"text-align: right;\">\n",
       "      <th></th>\n",
       "      <th>cleaned_text</th>\n",
       "      <th>label</th>\n",
       "    </tr>\n",
       "  </thead>\n",
       "  <tbody>\n",
       "    <tr>\n",
       "      <th>2</th>\n",
       "      <td>áp dụng luật doanh nghiệp luật trường hợp luật...</td>\n",
       "      <td>1</td>\n",
       "    </tr>\n",
       "    <tr>\n",
       "      <th>3</th>\n",
       "      <td>bảo đảm nhà nước đối với doanh nghiệp chủ sở h...</td>\n",
       "      <td>1</td>\n",
       "    </tr>\n",
       "    <tr>\n",
       "      <th>5</th>\n",
       "      <td>quyền doanh nghiệp tự do kinh doanh ngành nghề...</td>\n",
       "      <td>1</td>\n",
       "    </tr>\n",
       "    <tr>\n",
       "      <th>8</th>\n",
       "      <td>đại diện pháp luật doanh nghiệp đại diện pháp ...</td>\n",
       "      <td>1</td>\n",
       "    </tr>\n",
       "    <tr>\n",
       "      <th>11</th>\n",
       "      <td>trách nhiệm đại diện ủy quyền chủ sở hữu thành...</td>\n",
       "      <td>1</td>\n",
       "    </tr>\n",
       "    <tr>\n",
       "      <th>...</th>\n",
       "      <td>...</td>\n",
       "      <td>...</td>\n",
       "    </tr>\n",
       "    <tr>\n",
       "      <th>1094</th>\n",
       "      <td>tổ chức đối thoại làm việc đối thoại làm việc ...</td>\n",
       "      <td>7</td>\n",
       "    </tr>\n",
       "    <tr>\n",
       "      <th>1058</th>\n",
       "      <td>kết thúc thời gian thử kết thúc thời gian thử ...</td>\n",
       "      <td>7</td>\n",
       "    </tr>\n",
       "    <tr>\n",
       "      <th>1210</th>\n",
       "      <td>thẩm quyền giải quyết tranh chấp lao động cá n...</td>\n",
       "      <td>7</td>\n",
       "    </tr>\n",
       "    <tr>\n",
       "      <th>1140</th>\n",
       "      <td>kỷ luật lao động kỷ luật lao động quy định tuâ...</td>\n",
       "      <td>7</td>\n",
       "    </tr>\n",
       "    <tr>\n",
       "      <th>1081</th>\n",
       "      <td>thẩm quyền tuyên bố hợp đồng lao động vô hiệu ...</td>\n",
       "      <td>7</td>\n",
       "    </tr>\n",
       "  </tbody>\n",
       "</table>\n",
       "<p>989 rows × 2 columns</p>\n",
       "</div>"
      ],
      "text/plain": [
       "                                           cleaned_text  label\n",
       "2     áp dụng luật doanh nghiệp luật trường hợp luật...      1\n",
       "3     bảo đảm nhà nước đối với doanh nghiệp chủ sở h...      1\n",
       "5     quyền doanh nghiệp tự do kinh doanh ngành nghề...      1\n",
       "8     đại diện pháp luật doanh nghiệp đại diện pháp ...      1\n",
       "11    trách nhiệm đại diện ủy quyền chủ sở hữu thành...      1\n",
       "...                                                 ...    ...\n",
       "1094  tổ chức đối thoại làm việc đối thoại làm việc ...      7\n",
       "1058  kết thúc thời gian thử kết thúc thời gian thử ...      7\n",
       "1210  thẩm quyền giải quyết tranh chấp lao động cá n...      7\n",
       "1140  kỷ luật lao động kỷ luật lao động quy định tuâ...      7\n",
       "1081  thẩm quyền tuyên bố hợp đồng lao động vô hiệu ...      7\n",
       "\n",
       "[989 rows x 2 columns]"
      ]
     },
     "execution_count": 28,
     "metadata": {},
     "output_type": "execute_result"
    }
   ],
   "source": [
    "# Nối 2 dataframe dữ liệu df_train, df_val để dùng cho cross vali\n",
    "train_df =  pd.concat([df_train, df_val], axis=0)\n",
    "train_df"
   ]
  },
  {
   "cell_type": "markdown",
   "id": "f34e4531",
   "metadata": {
    "papermill": {
     "duration": 0.021667,
     "end_time": "2024-05-28T17:13:27.605795",
     "exception": false,
     "start_time": "2024-05-28T17:13:27.584128",
     "status": "completed"
    },
    "tags": []
   },
   "source": [
    "## 1. Support Vector Machine (SVM)"
   ]
  },
  {
   "cell_type": "markdown",
   "id": "04730729",
   "metadata": {
    "papermill": {
     "duration": 0.020761,
     "end_time": "2024-05-28T17:13:27.648950",
     "exception": false,
     "start_time": "2024-05-28T17:13:27.628189",
     "status": "completed"
    },
    "tags": []
   },
   "source": [
    "### 1.1. Defalt hyperparameters"
   ]
  },
  {
   "cell_type": "code",
   "execution_count": 29,
   "id": "d1df0c9a",
   "metadata": {
    "execution": {
     "iopub.execute_input": "2024-05-28T17:13:27.693565Z",
     "iopub.status.busy": "2024-05-28T17:13:27.693185Z",
     "iopub.status.idle": "2024-05-28T17:13:28.165134Z",
     "shell.execute_reply": "2024-05-28T17:13:28.164124Z"
    },
    "papermill": {
     "duration": 0.497206,
     "end_time": "2024-05-28T17:13:28.167892",
     "exception": false,
     "start_time": "2024-05-28T17:13:27.670686",
     "status": "completed"
    },
    "tags": []
   },
   "outputs": [
    {
     "data": {
      "text/html": [
       "<style>#sk-container-id-1 {color: black;}#sk-container-id-1 pre{padding: 0;}#sk-container-id-1 div.sk-toggleable {background-color: white;}#sk-container-id-1 label.sk-toggleable__label {cursor: pointer;display: block;width: 100%;margin-bottom: 0;padding: 0.3em;box-sizing: border-box;text-align: center;}#sk-container-id-1 label.sk-toggleable__label-arrow:before {content: \"▸\";float: left;margin-right: 0.25em;color: #696969;}#sk-container-id-1 label.sk-toggleable__label-arrow:hover:before {color: black;}#sk-container-id-1 div.sk-estimator:hover label.sk-toggleable__label-arrow:before {color: black;}#sk-container-id-1 div.sk-toggleable__content {max-height: 0;max-width: 0;overflow: hidden;text-align: left;background-color: #f0f8ff;}#sk-container-id-1 div.sk-toggleable__content pre {margin: 0.2em;color: black;border-radius: 0.25em;background-color: #f0f8ff;}#sk-container-id-1 input.sk-toggleable__control:checked~div.sk-toggleable__content {max-height: 200px;max-width: 100%;overflow: auto;}#sk-container-id-1 input.sk-toggleable__control:checked~label.sk-toggleable__label-arrow:before {content: \"▾\";}#sk-container-id-1 div.sk-estimator input.sk-toggleable__control:checked~label.sk-toggleable__label {background-color: #d4ebff;}#sk-container-id-1 div.sk-label input.sk-toggleable__control:checked~label.sk-toggleable__label {background-color: #d4ebff;}#sk-container-id-1 input.sk-hidden--visually {border: 0;clip: rect(1px 1px 1px 1px);clip: rect(1px, 1px, 1px, 1px);height: 1px;margin: -1px;overflow: hidden;padding: 0;position: absolute;width: 1px;}#sk-container-id-1 div.sk-estimator {font-family: monospace;background-color: #f0f8ff;border: 1px dotted black;border-radius: 0.25em;box-sizing: border-box;margin-bottom: 0.5em;}#sk-container-id-1 div.sk-estimator:hover {background-color: #d4ebff;}#sk-container-id-1 div.sk-parallel-item::after {content: \"\";width: 100%;border-bottom: 1px solid gray;flex-grow: 1;}#sk-container-id-1 div.sk-label:hover label.sk-toggleable__label {background-color: #d4ebff;}#sk-container-id-1 div.sk-serial::before {content: \"\";position: absolute;border-left: 1px solid gray;box-sizing: border-box;top: 0;bottom: 0;left: 50%;z-index: 0;}#sk-container-id-1 div.sk-serial {display: flex;flex-direction: column;align-items: center;background-color: white;padding-right: 0.2em;padding-left: 0.2em;position: relative;}#sk-container-id-1 div.sk-item {position: relative;z-index: 1;}#sk-container-id-1 div.sk-parallel {display: flex;align-items: stretch;justify-content: center;background-color: white;position: relative;}#sk-container-id-1 div.sk-item::before, #sk-container-id-1 div.sk-parallel-item::before {content: \"\";position: absolute;border-left: 1px solid gray;box-sizing: border-box;top: 0;bottom: 0;left: 50%;z-index: -1;}#sk-container-id-1 div.sk-parallel-item {display: flex;flex-direction: column;z-index: 1;position: relative;background-color: white;}#sk-container-id-1 div.sk-parallel-item:first-child::after {align-self: flex-end;width: 50%;}#sk-container-id-1 div.sk-parallel-item:last-child::after {align-self: flex-start;width: 50%;}#sk-container-id-1 div.sk-parallel-item:only-child::after {width: 0;}#sk-container-id-1 div.sk-dashed-wrapped {border: 1px dashed gray;margin: 0 0.4em 0.5em 0.4em;box-sizing: border-box;padding-bottom: 0.4em;background-color: white;}#sk-container-id-1 div.sk-label label {font-family: monospace;font-weight: bold;display: inline-block;line-height: 1.2em;}#sk-container-id-1 div.sk-label-container {text-align: center;}#sk-container-id-1 div.sk-container {/* jupyter's `normalize.less` sets `[hidden] { display: none; }` but bootstrap.min.css set `[hidden] { display: none !important; }` so we also need the `!important` here to be able to override the default hidden behavior on the sphinx rendered scikit-learn.org. See: https://github.com/scikit-learn/scikit-learn/issues/21755 */display: inline-block !important;position: relative;}#sk-container-id-1 div.sk-text-repr-fallback {display: none;}</style><div id=\"sk-container-id-1\" class=\"sk-top-container\"><div class=\"sk-text-repr-fallback\"><pre>SVC()</pre><b>In a Jupyter environment, please rerun this cell to show the HTML representation or trust the notebook. <br />On GitHub, the HTML representation is unable to render, please try loading this page with nbviewer.org.</b></div><div class=\"sk-container\" hidden><div class=\"sk-item\"><div class=\"sk-estimator sk-toggleable\"><input class=\"sk-toggleable__control sk-hidden--visually\" id=\"sk-estimator-id-1\" type=\"checkbox\" checked><label for=\"sk-estimator-id-1\" class=\"sk-toggleable__label sk-toggleable__label-arrow\">SVC</label><div class=\"sk-toggleable__content\"><pre>SVC()</pre></div></div></div></div></div>"
      ],
      "text/plain": [
       "SVC()"
      ]
     },
     "execution_count": 29,
     "metadata": {},
     "output_type": "execute_result"
    }
   ],
   "source": [
    "svc = SVC()\n",
    "svc.fit(X_train, y_train)"
   ]
  },
  {
   "cell_type": "code",
   "execution_count": 30,
   "id": "4760e8cc",
   "metadata": {
    "execution": {
     "iopub.execute_input": "2024-05-28T17:13:28.212184Z",
     "iopub.status.busy": "2024-05-28T17:13:28.211497Z",
     "iopub.status.idle": "2024-05-28T17:13:28.647964Z",
     "shell.execute_reply": "2024-05-28T17:13:28.646565Z"
    },
    "papermill": {
     "duration": 0.461301,
     "end_time": "2024-05-28T17:13:28.650474",
     "exception": false,
     "start_time": "2024-05-28T17:13:28.189173",
     "status": "completed"
    },
    "tags": []
   },
   "outputs": [
    {
     "name": "stdout",
     "output_type": "stream",
     "text": [
      "              precision    recall  f1-score   support\n",
      "\n",
      "           0       1.00      1.00      1.00       122\n",
      "           1       1.00      1.00      1.00        48\n",
      "           2       1.00      1.00      1.00        65\n",
      "           3       1.00      0.97      0.98        96\n",
      "           4       0.92      1.00      0.96        12\n",
      "           5       1.00      1.00      1.00       159\n",
      "           6       1.00      1.00      1.00        47\n",
      "           7       1.00      1.00      1.00       151\n",
      "           8       0.97      0.99      0.98        91\n",
      "\n",
      "    accuracy                           0.99       791\n",
      "   macro avg       0.99      1.00      0.99       791\n",
      "weighted avg       1.00      0.99      0.99       791\n",
      "\n",
      "              precision    recall  f1-score   support\n",
      "\n",
      "           0       1.00      0.90      0.95        30\n",
      "           1       0.96      0.93      0.95        28\n",
      "           2       0.96      0.96      0.96        27\n",
      "           3       1.00      1.00      1.00        27\n",
      "           4       0.56      1.00      0.71        15\n",
      "           5       1.00      0.93      0.96        29\n",
      "           6       0.93      1.00      0.96        25\n",
      "           7       1.00      0.79      0.89        34\n",
      "           8       0.96      0.93      0.95        28\n",
      "\n",
      "    accuracy                           0.93       243\n",
      "   macro avg       0.93      0.94      0.93       243\n",
      "weighted avg       0.95      0.93      0.93       243\n",
      "\n"
     ]
    }
   ],
   "source": [
    "X_train_pred = svc.predict(X_train)\n",
    "X_test_pred = svc.predict(X_test)\n",
    "print(classification_report(X_train_pred, y_train))\n",
    "print(classification_report(X_test_pred, y_test))\n"
   ]
  },
  {
   "cell_type": "code",
   "execution_count": 31,
   "id": "e80decc7",
   "metadata": {
    "execution": {
     "iopub.execute_input": "2024-05-28T17:13:28.695805Z",
     "iopub.status.busy": "2024-05-28T17:13:28.694868Z",
     "iopub.status.idle": "2024-05-28T17:13:28.709367Z",
     "shell.execute_reply": "2024-05-28T17:13:28.708300Z"
    },
    "papermill": {
     "duration": 0.039353,
     "end_time": "2024-05-28T17:13:28.711579",
     "exception": false,
     "start_time": "2024-05-28T17:13:28.672226",
     "status": "completed"
    },
    "tags": []
   },
   "outputs": [
    {
     "name": "stdout",
     "output_type": "stream",
     "text": [
      "Accuracy: 0.93\n",
      "Precision: 0.9523\n",
      "Recall: 0.93\n",
      "F1-score: 0.9349\n"
     ]
    }
   ],
   "source": [
    "print(f'Accuracy: {round(accuracy_score(X_test_pred, y_test), 4)}')\n",
    "print(f'Precision: {round(precision_score(X_test_pred, y_test, average=\"weighted\"), 4)}')\n",
    "print(f'Recall: {round(recall_score(X_test_pred, y_test, average=\"weighted\"), 4)}')\n",
    "print(f'F1-score: {round(f1_score(X_test_pred, y_test, average=\"weighted\"), 4)}')"
   ]
  },
  {
   "cell_type": "markdown",
   "id": "47ebf52e",
   "metadata": {
    "papermill": {
     "duration": 0.021083,
     "end_time": "2024-05-28T17:13:28.754425",
     "exception": false,
     "start_time": "2024-05-28T17:13:28.733342",
     "status": "completed"
    },
    "tags": []
   },
   "source": [
    "### 1.2 Best hyperparameters (Cao hơn)"
   ]
  },
  {
   "cell_type": "code",
   "execution_count": 32,
   "id": "8f35df80",
   "metadata": {
    "execution": {
     "iopub.execute_input": "2024-05-28T17:13:28.799624Z",
     "iopub.status.busy": "2024-05-28T17:13:28.798437Z",
     "iopub.status.idle": "2024-05-28T17:13:28.804024Z",
     "shell.execute_reply": "2024-05-28T17:13:28.802879Z"
    },
    "papermill": {
     "duration": 0.030841,
     "end_time": "2024-05-28T17:13:28.806622",
     "exception": false,
     "start_time": "2024-05-28T17:13:28.775781",
     "status": "completed"
    },
    "tags": []
   },
   "outputs": [],
   "source": [
    "# # Định nghĩa các siêu tham số cần tinh chỉnh\n",
    "# param_grid = {\n",
    "#     'C': [0.1, 1, 10, 100],\n",
    "#     'gamma': [1, 0.1, 0.01, 0.001],\n",
    "#     'kernel': ['rbf', 'linear']\n",
    "# }\n",
    "\n",
    "# # Định nghĩa GridSearchCV\n",
    "# grid_search = GridSearchCV(estimator=svc, param_grid=param_grid, cv=5, verbose=2, n_jobs=-1)\n",
    "\n",
    "# # Huấn luyện mô hình\n",
    "# grid_search.fit(X_val, y_val)\n",
    "\n",
    "# # In ra các siêu tham số tốt nhất\n",
    "# print(\"Best parameters found: \", grid_search.best_params_)"
   ]
  },
  {
   "cell_type": "code",
   "execution_count": 33,
   "id": "d6e55625",
   "metadata": {
    "execution": {
     "iopub.execute_input": "2024-05-28T17:13:28.852407Z",
     "iopub.status.busy": "2024-05-28T17:13:28.851987Z",
     "iopub.status.idle": "2024-05-28T17:13:29.113692Z",
     "shell.execute_reply": "2024-05-28T17:13:29.112660Z"
    },
    "papermill": {
     "duration": 0.286986,
     "end_time": "2024-05-28T17:13:29.115894",
     "exception": false,
     "start_time": "2024-05-28T17:13:28.828908",
     "status": "completed"
    },
    "tags": []
   },
   "outputs": [
    {
     "data": {
      "text/html": [
       "<style>#sk-container-id-2 {color: black;}#sk-container-id-2 pre{padding: 0;}#sk-container-id-2 div.sk-toggleable {background-color: white;}#sk-container-id-2 label.sk-toggleable__label {cursor: pointer;display: block;width: 100%;margin-bottom: 0;padding: 0.3em;box-sizing: border-box;text-align: center;}#sk-container-id-2 label.sk-toggleable__label-arrow:before {content: \"▸\";float: left;margin-right: 0.25em;color: #696969;}#sk-container-id-2 label.sk-toggleable__label-arrow:hover:before {color: black;}#sk-container-id-2 div.sk-estimator:hover label.sk-toggleable__label-arrow:before {color: black;}#sk-container-id-2 div.sk-toggleable__content {max-height: 0;max-width: 0;overflow: hidden;text-align: left;background-color: #f0f8ff;}#sk-container-id-2 div.sk-toggleable__content pre {margin: 0.2em;color: black;border-radius: 0.25em;background-color: #f0f8ff;}#sk-container-id-2 input.sk-toggleable__control:checked~div.sk-toggleable__content {max-height: 200px;max-width: 100%;overflow: auto;}#sk-container-id-2 input.sk-toggleable__control:checked~label.sk-toggleable__label-arrow:before {content: \"▾\";}#sk-container-id-2 div.sk-estimator input.sk-toggleable__control:checked~label.sk-toggleable__label {background-color: #d4ebff;}#sk-container-id-2 div.sk-label input.sk-toggleable__control:checked~label.sk-toggleable__label {background-color: #d4ebff;}#sk-container-id-2 input.sk-hidden--visually {border: 0;clip: rect(1px 1px 1px 1px);clip: rect(1px, 1px, 1px, 1px);height: 1px;margin: -1px;overflow: hidden;padding: 0;position: absolute;width: 1px;}#sk-container-id-2 div.sk-estimator {font-family: monospace;background-color: #f0f8ff;border: 1px dotted black;border-radius: 0.25em;box-sizing: border-box;margin-bottom: 0.5em;}#sk-container-id-2 div.sk-estimator:hover {background-color: #d4ebff;}#sk-container-id-2 div.sk-parallel-item::after {content: \"\";width: 100%;border-bottom: 1px solid gray;flex-grow: 1;}#sk-container-id-2 div.sk-label:hover label.sk-toggleable__label {background-color: #d4ebff;}#sk-container-id-2 div.sk-serial::before {content: \"\";position: absolute;border-left: 1px solid gray;box-sizing: border-box;top: 0;bottom: 0;left: 50%;z-index: 0;}#sk-container-id-2 div.sk-serial {display: flex;flex-direction: column;align-items: center;background-color: white;padding-right: 0.2em;padding-left: 0.2em;position: relative;}#sk-container-id-2 div.sk-item {position: relative;z-index: 1;}#sk-container-id-2 div.sk-parallel {display: flex;align-items: stretch;justify-content: center;background-color: white;position: relative;}#sk-container-id-2 div.sk-item::before, #sk-container-id-2 div.sk-parallel-item::before {content: \"\";position: absolute;border-left: 1px solid gray;box-sizing: border-box;top: 0;bottom: 0;left: 50%;z-index: -1;}#sk-container-id-2 div.sk-parallel-item {display: flex;flex-direction: column;z-index: 1;position: relative;background-color: white;}#sk-container-id-2 div.sk-parallel-item:first-child::after {align-self: flex-end;width: 50%;}#sk-container-id-2 div.sk-parallel-item:last-child::after {align-self: flex-start;width: 50%;}#sk-container-id-2 div.sk-parallel-item:only-child::after {width: 0;}#sk-container-id-2 div.sk-dashed-wrapped {border: 1px dashed gray;margin: 0 0.4em 0.5em 0.4em;box-sizing: border-box;padding-bottom: 0.4em;background-color: white;}#sk-container-id-2 div.sk-label label {font-family: monospace;font-weight: bold;display: inline-block;line-height: 1.2em;}#sk-container-id-2 div.sk-label-container {text-align: center;}#sk-container-id-2 div.sk-container {/* jupyter's `normalize.less` sets `[hidden] { display: none; }` but bootstrap.min.css set `[hidden] { display: none !important; }` so we also need the `!important` here to be able to override the default hidden behavior on the sphinx rendered scikit-learn.org. See: https://github.com/scikit-learn/scikit-learn/issues/21755 */display: inline-block !important;position: relative;}#sk-container-id-2 div.sk-text-repr-fallback {display: none;}</style><div id=\"sk-container-id-2\" class=\"sk-top-container\"><div class=\"sk-text-repr-fallback\"><pre>SVC(C=1, gamma=1, kernel=&#x27;linear&#x27;)</pre><b>In a Jupyter environment, please rerun this cell to show the HTML representation or trust the notebook. <br />On GitHub, the HTML representation is unable to render, please try loading this page with nbviewer.org.</b></div><div class=\"sk-container\" hidden><div class=\"sk-item\"><div class=\"sk-estimator sk-toggleable\"><input class=\"sk-toggleable__control sk-hidden--visually\" id=\"sk-estimator-id-2\" type=\"checkbox\" checked><label for=\"sk-estimator-id-2\" class=\"sk-toggleable__label sk-toggleable__label-arrow\">SVC</label><div class=\"sk-toggleable__content\"><pre>SVC(C=1, gamma=1, kernel=&#x27;linear&#x27;)</pre></div></div></div></div></div>"
      ],
      "text/plain": [
       "SVC(C=1, gamma=1, kernel='linear')"
      ]
     },
     "execution_count": 33,
     "metadata": {},
     "output_type": "execute_result"
    }
   ],
   "source": [
    "svc_hp = SVC( C= 1, gamma = 1, kernel= 'linear')\n",
    "svc_hp.fit(X_train, y_train)"
   ]
  },
  {
   "cell_type": "code",
   "execution_count": 34,
   "id": "acf0f9ad",
   "metadata": {
    "execution": {
     "iopub.execute_input": "2024-05-28T17:13:29.160913Z",
     "iopub.status.busy": "2024-05-28T17:13:29.160543Z",
     "iopub.status.idle": "2024-05-28T17:13:29.454609Z",
     "shell.execute_reply": "2024-05-28T17:13:29.453490Z"
    },
    "papermill": {
     "duration": 0.319502,
     "end_time": "2024-05-28T17:13:29.456912",
     "exception": false,
     "start_time": "2024-05-28T17:13:29.137410",
     "status": "completed"
    },
    "tags": []
   },
   "outputs": [
    {
     "name": "stdout",
     "output_type": "stream",
     "text": [
      "              precision    recall  f1-score   support\n",
      "\n",
      "           0       1.00      1.00      1.00       122\n",
      "           1       1.00      1.00      1.00        48\n",
      "           2       1.00      1.00      1.00        65\n",
      "           3       1.00      0.97      0.98        96\n",
      "           4       0.92      1.00      0.96        12\n",
      "           5       1.00      1.00      1.00       159\n",
      "           6       1.00      1.00      1.00        47\n",
      "           7       1.00      1.00      1.00       151\n",
      "           8       0.97      0.99      0.98        91\n",
      "\n",
      "    accuracy                           0.99       791\n",
      "   macro avg       0.99      1.00      0.99       791\n",
      "weighted avg       1.00      0.99      0.99       791\n",
      "\n",
      "              precision    recall  f1-score   support\n",
      "\n",
      "           0       1.00      0.90      0.95        30\n",
      "           1       0.96      0.93      0.95        28\n",
      "           2       0.96      0.96      0.96        27\n",
      "           3       1.00      1.00      1.00        27\n",
      "           4       0.78      1.00      0.88        21\n",
      "           5       1.00      0.96      0.98        28\n",
      "           6       0.93      1.00      0.96        25\n",
      "           7       1.00      0.90      0.95        30\n",
      "           8       0.96      0.96      0.96        27\n",
      "\n",
      "    accuracy                           0.95       243\n",
      "   macro avg       0.95      0.96      0.95       243\n",
      "weighted avg       0.96      0.95      0.96       243\n",
      "\n"
     ]
    }
   ],
   "source": [
    "X_train_pred_hp = svc_hp.predict(X_train)\n",
    "X_test_pred_hp = svc_hp.predict(X_test)\n",
    "print(classification_report(X_train_pred_hp, y_train))\n",
    "print(classification_report(X_test_pred_hp, y_test))\n"
   ]
  },
  {
   "cell_type": "code",
   "execution_count": 35,
   "id": "837fc6df",
   "metadata": {
    "execution": {
     "iopub.execute_input": "2024-05-28T17:13:29.503135Z",
     "iopub.status.busy": "2024-05-28T17:13:29.502361Z",
     "iopub.status.idle": "2024-05-28T17:13:29.518985Z",
     "shell.execute_reply": "2024-05-28T17:13:29.517670Z"
    },
    "papermill": {
     "duration": 0.042845,
     "end_time": "2024-05-28T17:13:29.521453",
     "exception": false,
     "start_time": "2024-05-28T17:13:29.478608",
     "status": "completed"
    },
    "tags": []
   },
   "outputs": [
    {
     "name": "stdout",
     "output_type": "stream",
     "text": [
      "Accuracy: 0.9547\n",
      "Precision: 0.9607\n",
      "Recall: 0.9547\n",
      "F1-score: 0.9556\n"
     ]
    }
   ],
   "source": [
    "print(f'Accuracy: {round(accuracy_score(X_test_pred_hp, y_test), 4)}')\n",
    "print(f'Precision: {round(precision_score(X_test_pred_hp, y_test, average=\"weighted\"), 4)}')\n",
    "print(f'Recall: {round(recall_score(X_test_pred_hp, y_test, average=\"weighted\"), 4)}')\n",
    "print(f'F1-score: {round(f1_score(X_test_pred_hp, y_test, average=\"weighted\"), 4)}')"
   ]
  },
  {
   "cell_type": "markdown",
   "id": "93a487ad",
   "metadata": {
    "papermill": {
     "duration": 0.02167,
     "end_time": "2024-05-28T17:13:29.565526",
     "exception": false,
     "start_time": "2024-05-28T17:13:29.543856",
     "status": "completed"
    },
    "tags": []
   },
   "source": [
    "## 2. Random Forest"
   ]
  },
  {
   "cell_type": "markdown",
   "id": "af9957d1",
   "metadata": {
    "papermill": {
     "duration": 0.021368,
     "end_time": "2024-05-28T17:13:29.608690",
     "exception": false,
     "start_time": "2024-05-28T17:13:29.587322",
     "status": "completed"
    },
    "tags": []
   },
   "source": [
    "### 2.1 Default hyperparameters"
   ]
  },
  {
   "cell_type": "code",
   "execution_count": 36,
   "id": "826cdaff",
   "metadata": {
    "execution": {
     "iopub.execute_input": "2024-05-28T17:13:29.654818Z",
     "iopub.status.busy": "2024-05-28T17:13:29.654426Z",
     "iopub.status.idle": "2024-05-28T17:13:30.183728Z",
     "shell.execute_reply": "2024-05-28T17:13:30.182558Z"
    },
    "papermill": {
     "duration": 0.555713,
     "end_time": "2024-05-28T17:13:30.186005",
     "exception": false,
     "start_time": "2024-05-28T17:13:29.630292",
     "status": "completed"
    },
    "tags": []
   },
   "outputs": [
    {
     "data": {
      "text/html": [
       "<style>#sk-container-id-3 {color: black;}#sk-container-id-3 pre{padding: 0;}#sk-container-id-3 div.sk-toggleable {background-color: white;}#sk-container-id-3 label.sk-toggleable__label {cursor: pointer;display: block;width: 100%;margin-bottom: 0;padding: 0.3em;box-sizing: border-box;text-align: center;}#sk-container-id-3 label.sk-toggleable__label-arrow:before {content: \"▸\";float: left;margin-right: 0.25em;color: #696969;}#sk-container-id-3 label.sk-toggleable__label-arrow:hover:before {color: black;}#sk-container-id-3 div.sk-estimator:hover label.sk-toggleable__label-arrow:before {color: black;}#sk-container-id-3 div.sk-toggleable__content {max-height: 0;max-width: 0;overflow: hidden;text-align: left;background-color: #f0f8ff;}#sk-container-id-3 div.sk-toggleable__content pre {margin: 0.2em;color: black;border-radius: 0.25em;background-color: #f0f8ff;}#sk-container-id-3 input.sk-toggleable__control:checked~div.sk-toggleable__content {max-height: 200px;max-width: 100%;overflow: auto;}#sk-container-id-3 input.sk-toggleable__control:checked~label.sk-toggleable__label-arrow:before {content: \"▾\";}#sk-container-id-3 div.sk-estimator input.sk-toggleable__control:checked~label.sk-toggleable__label {background-color: #d4ebff;}#sk-container-id-3 div.sk-label input.sk-toggleable__control:checked~label.sk-toggleable__label {background-color: #d4ebff;}#sk-container-id-3 input.sk-hidden--visually {border: 0;clip: rect(1px 1px 1px 1px);clip: rect(1px, 1px, 1px, 1px);height: 1px;margin: -1px;overflow: hidden;padding: 0;position: absolute;width: 1px;}#sk-container-id-3 div.sk-estimator {font-family: monospace;background-color: #f0f8ff;border: 1px dotted black;border-radius: 0.25em;box-sizing: border-box;margin-bottom: 0.5em;}#sk-container-id-3 div.sk-estimator:hover {background-color: #d4ebff;}#sk-container-id-3 div.sk-parallel-item::after {content: \"\";width: 100%;border-bottom: 1px solid gray;flex-grow: 1;}#sk-container-id-3 div.sk-label:hover label.sk-toggleable__label {background-color: #d4ebff;}#sk-container-id-3 div.sk-serial::before {content: \"\";position: absolute;border-left: 1px solid gray;box-sizing: border-box;top: 0;bottom: 0;left: 50%;z-index: 0;}#sk-container-id-3 div.sk-serial {display: flex;flex-direction: column;align-items: center;background-color: white;padding-right: 0.2em;padding-left: 0.2em;position: relative;}#sk-container-id-3 div.sk-item {position: relative;z-index: 1;}#sk-container-id-3 div.sk-parallel {display: flex;align-items: stretch;justify-content: center;background-color: white;position: relative;}#sk-container-id-3 div.sk-item::before, #sk-container-id-3 div.sk-parallel-item::before {content: \"\";position: absolute;border-left: 1px solid gray;box-sizing: border-box;top: 0;bottom: 0;left: 50%;z-index: -1;}#sk-container-id-3 div.sk-parallel-item {display: flex;flex-direction: column;z-index: 1;position: relative;background-color: white;}#sk-container-id-3 div.sk-parallel-item:first-child::after {align-self: flex-end;width: 50%;}#sk-container-id-3 div.sk-parallel-item:last-child::after {align-self: flex-start;width: 50%;}#sk-container-id-3 div.sk-parallel-item:only-child::after {width: 0;}#sk-container-id-3 div.sk-dashed-wrapped {border: 1px dashed gray;margin: 0 0.4em 0.5em 0.4em;box-sizing: border-box;padding-bottom: 0.4em;background-color: white;}#sk-container-id-3 div.sk-label label {font-family: monospace;font-weight: bold;display: inline-block;line-height: 1.2em;}#sk-container-id-3 div.sk-label-container {text-align: center;}#sk-container-id-3 div.sk-container {/* jupyter's `normalize.less` sets `[hidden] { display: none; }` but bootstrap.min.css set `[hidden] { display: none !important; }` so we also need the `!important` here to be able to override the default hidden behavior on the sphinx rendered scikit-learn.org. See: https://github.com/scikit-learn/scikit-learn/issues/21755 */display: inline-block !important;position: relative;}#sk-container-id-3 div.sk-text-repr-fallback {display: none;}</style><div id=\"sk-container-id-3\" class=\"sk-top-container\"><div class=\"sk-text-repr-fallback\"><pre>RandomForestClassifier()</pre><b>In a Jupyter environment, please rerun this cell to show the HTML representation or trust the notebook. <br />On GitHub, the HTML representation is unable to render, please try loading this page with nbviewer.org.</b></div><div class=\"sk-container\" hidden><div class=\"sk-item\"><div class=\"sk-estimator sk-toggleable\"><input class=\"sk-toggleable__control sk-hidden--visually\" id=\"sk-estimator-id-3\" type=\"checkbox\" checked><label for=\"sk-estimator-id-3\" class=\"sk-toggleable__label sk-toggleable__label-arrow\">RandomForestClassifier</label><div class=\"sk-toggleable__content\"><pre>RandomForestClassifier()</pre></div></div></div></div></div>"
      ],
      "text/plain": [
       "RandomForestClassifier()"
      ]
     },
     "execution_count": 36,
     "metadata": {},
     "output_type": "execute_result"
    }
   ],
   "source": [
    "rfc_default = RandomForestClassifier()\n",
    "rfc_default.fit(X_train, y_train)"
   ]
  },
  {
   "cell_type": "code",
   "execution_count": 37,
   "id": "a60ccd8e",
   "metadata": {
    "execution": {
     "iopub.execute_input": "2024-05-28T17:13:30.232787Z",
     "iopub.status.busy": "2024-05-28T17:13:30.231861Z",
     "iopub.status.idle": "2024-05-28T17:13:30.307954Z",
     "shell.execute_reply": "2024-05-28T17:13:30.306751Z"
    },
    "papermill": {
     "duration": 0.101868,
     "end_time": "2024-05-28T17:13:30.310360",
     "exception": false,
     "start_time": "2024-05-28T17:13:30.208492",
     "status": "completed"
    },
    "tags": []
   },
   "outputs": [
    {
     "name": "stdout",
     "output_type": "stream",
     "text": [
      "              precision    recall  f1-score   support\n",
      "\n",
      "           0       1.00      1.00      1.00       122\n",
      "           1       1.00      1.00      1.00        48\n",
      "           2       1.00      1.00      1.00        65\n",
      "           3       1.00      1.00      1.00        93\n",
      "           4       1.00      1.00      1.00        13\n",
      "           5       1.00      1.00      1.00       159\n",
      "           6       1.00      1.00      1.00        47\n",
      "           7       1.00      1.00      1.00       151\n",
      "           8       1.00      1.00      1.00        93\n",
      "\n",
      "    accuracy                           1.00       791\n",
      "   macro avg       1.00      1.00      1.00       791\n",
      "weighted avg       1.00      1.00      1.00       791\n",
      "\n",
      "              precision    recall  f1-score   support\n",
      "\n",
      "           0       1.00      0.93      0.96        29\n",
      "           1       0.96      0.87      0.91        30\n",
      "           2       0.96      0.96      0.96        27\n",
      "           3       1.00      1.00      1.00        27\n",
      "           4       0.37      1.00      0.54        10\n",
      "           5       1.00      0.93      0.96        29\n",
      "           6       0.96      1.00      0.98        26\n",
      "           7       1.00      0.71      0.83        38\n",
      "           8       0.96      0.96      0.96        27\n",
      "\n",
      "    accuracy                           0.91       243\n",
      "   macro avg       0.91      0.93      0.90       243\n",
      "weighted avg       0.96      0.91      0.93       243\n",
      "\n"
     ]
    }
   ],
   "source": [
    "\n",
    "X_train_pred_rf = rfc_default .predict(X_train)\n",
    "X_test_pred_rf = rfc_default.predict(X_test)\n",
    "print(classification_report(X_train_pred_rf, y_train))\n",
    "print(classification_report(X_test_pred_rf, y_test))\n"
   ]
  },
  {
   "cell_type": "code",
   "execution_count": 38,
   "id": "39aa6cd1",
   "metadata": {
    "execution": {
     "iopub.execute_input": "2024-05-28T17:13:30.357724Z",
     "iopub.status.busy": "2024-05-28T17:13:30.357333Z",
     "iopub.status.idle": "2024-05-28T17:13:30.373419Z",
     "shell.execute_reply": "2024-05-28T17:13:30.372152Z"
    },
    "papermill": {
     "duration": 0.042405,
     "end_time": "2024-05-28T17:13:30.375764",
     "exception": false,
     "start_time": "2024-05-28T17:13:30.333359",
     "status": "completed"
    },
    "tags": []
   },
   "outputs": [
    {
     "name": "stdout",
     "output_type": "stream",
     "text": [
      "Accuracy: 0.9136\n",
      "Precision: 0.9573\n",
      "Recall: 0.9136\n",
      "F1-score: 0.925\n"
     ]
    }
   ],
   "source": [
    "print(f'Accuracy: {round(accuracy_score(X_test_pred_rf, y_test), 4)}')\n",
    "print(f'Precision: {round(precision_score(X_test_pred_rf, y_test, average=\"weighted\"), 4)}')\n",
    "print(f'Recall: {round(recall_score(X_test_pred_rf, y_test, average=\"weighted\"), 4)}')\n",
    "print(f'F1-score: {round(f1_score(X_test_pred_rf, y_test, average=\"weighted\"), 4)}')"
   ]
  },
  {
   "cell_type": "markdown",
   "id": "63950e45",
   "metadata": {
    "papermill": {
     "duration": 0.021942,
     "end_time": "2024-05-28T17:13:30.420616",
     "exception": false,
     "start_time": "2024-05-28T17:13:30.398674",
     "status": "completed"
    },
    "tags": []
   },
   "source": [
    "### 2.2 Best hyperparameters (Chấp nhận)"
   ]
  },
  {
   "cell_type": "code",
   "execution_count": 39,
   "id": "44987ae5",
   "metadata": {
    "execution": {
     "iopub.execute_input": "2024-05-28T17:13:30.467185Z",
     "iopub.status.busy": "2024-05-28T17:13:30.466060Z",
     "iopub.status.idle": "2024-05-28T17:13:30.471598Z",
     "shell.execute_reply": "2024-05-28T17:13:30.470639Z"
    },
    "papermill": {
     "duration": 0.030998,
     "end_time": "2024-05-28T17:13:30.473794",
     "exception": false,
     "start_time": "2024-05-28T17:13:30.442796",
     "status": "completed"
    },
    "tags": []
   },
   "outputs": [],
   "source": [
    "# # Định nghĩa mô hình và grid search\n",
    "# rf = RandomForestClassifier(random_state=42)\n",
    "# param_grid = {\n",
    "#     'n_estimators': [100, 200, 300],\n",
    "#     'max_depth': [10, 20, 30, None],\n",
    "#     'min_samples_split': [2, 5, 10],\n",
    "#     'min_samples_leaf': [1, 2, 4],\n",
    "#     'max_features': ['auto', 'sqrt', 'log2'],\n",
    "#     'bootstrap': [True, False],\n",
    "#     'criterion': ['gini', 'entropy']\n",
    "# }\n",
    "\n",
    "# grid_search = GridSearchCV(estimator=rf, param_grid=param_grid, \n",
    "#                            cv=5, n_jobs=-1, verbose=2, scoring='accuracy')\n",
    "\n",
    "# # Huấn luyện mô hình\n",
    "# grid_search.fit(X_val, y_val)\n",
    "# # Get the best hyperparameters from the grid search\n",
    "# best_params = grid_search.best_params_\n",
    "\n"
   ]
  },
  {
   "cell_type": "code",
   "execution_count": 40,
   "id": "d14fa9c7",
   "metadata": {
    "execution": {
     "iopub.execute_input": "2024-05-28T17:13:30.521606Z",
     "iopub.status.busy": "2024-05-28T17:13:30.521194Z",
     "iopub.status.idle": "2024-05-28T17:13:30.526001Z",
     "shell.execute_reply": "2024-05-28T17:13:30.524969Z"
    },
    "papermill": {
     "duration": 0.031317,
     "end_time": "2024-05-28T17:13:30.528162",
     "exception": false,
     "start_time": "2024-05-28T17:13:30.496845",
     "status": "completed"
    },
    "tags": []
   },
   "outputs": [],
   "source": [
    "# print(\"Best Hyperparameters:\", best_params)"
   ]
  },
  {
   "cell_type": "code",
   "execution_count": 41,
   "id": "959bdf40",
   "metadata": {
    "execution": {
     "iopub.execute_input": "2024-05-28T17:13:30.576009Z",
     "iopub.status.busy": "2024-05-28T17:13:30.575590Z",
     "iopub.status.idle": "2024-05-28T17:13:32.378259Z",
     "shell.execute_reply": "2024-05-28T17:13:32.376958Z"
    },
    "papermill": {
     "duration": 1.8297,
     "end_time": "2024-05-28T17:13:32.380647",
     "exception": false,
     "start_time": "2024-05-28T17:13:30.550947",
     "status": "completed"
    },
    "tags": []
   },
   "outputs": [
    {
     "data": {
      "text/html": [
       "<style>#sk-container-id-4 {color: black;}#sk-container-id-4 pre{padding: 0;}#sk-container-id-4 div.sk-toggleable {background-color: white;}#sk-container-id-4 label.sk-toggleable__label {cursor: pointer;display: block;width: 100%;margin-bottom: 0;padding: 0.3em;box-sizing: border-box;text-align: center;}#sk-container-id-4 label.sk-toggleable__label-arrow:before {content: \"▸\";float: left;margin-right: 0.25em;color: #696969;}#sk-container-id-4 label.sk-toggleable__label-arrow:hover:before {color: black;}#sk-container-id-4 div.sk-estimator:hover label.sk-toggleable__label-arrow:before {color: black;}#sk-container-id-4 div.sk-toggleable__content {max-height: 0;max-width: 0;overflow: hidden;text-align: left;background-color: #f0f8ff;}#sk-container-id-4 div.sk-toggleable__content pre {margin: 0.2em;color: black;border-radius: 0.25em;background-color: #f0f8ff;}#sk-container-id-4 input.sk-toggleable__control:checked~div.sk-toggleable__content {max-height: 200px;max-width: 100%;overflow: auto;}#sk-container-id-4 input.sk-toggleable__control:checked~label.sk-toggleable__label-arrow:before {content: \"▾\";}#sk-container-id-4 div.sk-estimator input.sk-toggleable__control:checked~label.sk-toggleable__label {background-color: #d4ebff;}#sk-container-id-4 div.sk-label input.sk-toggleable__control:checked~label.sk-toggleable__label {background-color: #d4ebff;}#sk-container-id-4 input.sk-hidden--visually {border: 0;clip: rect(1px 1px 1px 1px);clip: rect(1px, 1px, 1px, 1px);height: 1px;margin: -1px;overflow: hidden;padding: 0;position: absolute;width: 1px;}#sk-container-id-4 div.sk-estimator {font-family: monospace;background-color: #f0f8ff;border: 1px dotted black;border-radius: 0.25em;box-sizing: border-box;margin-bottom: 0.5em;}#sk-container-id-4 div.sk-estimator:hover {background-color: #d4ebff;}#sk-container-id-4 div.sk-parallel-item::after {content: \"\";width: 100%;border-bottom: 1px solid gray;flex-grow: 1;}#sk-container-id-4 div.sk-label:hover label.sk-toggleable__label {background-color: #d4ebff;}#sk-container-id-4 div.sk-serial::before {content: \"\";position: absolute;border-left: 1px solid gray;box-sizing: border-box;top: 0;bottom: 0;left: 50%;z-index: 0;}#sk-container-id-4 div.sk-serial {display: flex;flex-direction: column;align-items: center;background-color: white;padding-right: 0.2em;padding-left: 0.2em;position: relative;}#sk-container-id-4 div.sk-item {position: relative;z-index: 1;}#sk-container-id-4 div.sk-parallel {display: flex;align-items: stretch;justify-content: center;background-color: white;position: relative;}#sk-container-id-4 div.sk-item::before, #sk-container-id-4 div.sk-parallel-item::before {content: \"\";position: absolute;border-left: 1px solid gray;box-sizing: border-box;top: 0;bottom: 0;left: 50%;z-index: -1;}#sk-container-id-4 div.sk-parallel-item {display: flex;flex-direction: column;z-index: 1;position: relative;background-color: white;}#sk-container-id-4 div.sk-parallel-item:first-child::after {align-self: flex-end;width: 50%;}#sk-container-id-4 div.sk-parallel-item:last-child::after {align-self: flex-start;width: 50%;}#sk-container-id-4 div.sk-parallel-item:only-child::after {width: 0;}#sk-container-id-4 div.sk-dashed-wrapped {border: 1px dashed gray;margin: 0 0.4em 0.5em 0.4em;box-sizing: border-box;padding-bottom: 0.4em;background-color: white;}#sk-container-id-4 div.sk-label label {font-family: monospace;font-weight: bold;display: inline-block;line-height: 1.2em;}#sk-container-id-4 div.sk-label-container {text-align: center;}#sk-container-id-4 div.sk-container {/* jupyter's `normalize.less` sets `[hidden] { display: none; }` but bootstrap.min.css set `[hidden] { display: none !important; }` so we also need the `!important` here to be able to override the default hidden behavior on the sphinx rendered scikit-learn.org. See: https://github.com/scikit-learn/scikit-learn/issues/21755 */display: inline-block !important;position: relative;}#sk-container-id-4 div.sk-text-repr-fallback {display: none;}</style><div id=\"sk-container-id-4\" class=\"sk-top-container\"><div class=\"sk-text-repr-fallback\"><pre>RandomForestClassifier(bootstrap=False, criterion=&#x27;entropy&#x27;, n_estimators=200)</pre><b>In a Jupyter environment, please rerun this cell to show the HTML representation or trust the notebook. <br />On GitHub, the HTML representation is unable to render, please try loading this page with nbviewer.org.</b></div><div class=\"sk-container\" hidden><div class=\"sk-item\"><div class=\"sk-estimator sk-toggleable\"><input class=\"sk-toggleable__control sk-hidden--visually\" id=\"sk-estimator-id-4\" type=\"checkbox\" checked><label for=\"sk-estimator-id-4\" class=\"sk-toggleable__label sk-toggleable__label-arrow\">RandomForestClassifier</label><div class=\"sk-toggleable__content\"><pre>RandomForestClassifier(bootstrap=False, criterion=&#x27;entropy&#x27;, n_estimators=200)</pre></div></div></div></div></div>"
      ],
      "text/plain": [
       "RandomForestClassifier(bootstrap=False, criterion='entropy', n_estimators=200)"
      ]
     },
     "execution_count": 41,
     "metadata": {},
     "output_type": "execute_result"
    }
   ],
   "source": [
    "# # Best Hyperparameters: {'bootstrap': False, 'criterion': 'entropy', 'max_depth': None, 'max_features': 'auto', 'min_samples_leaf': 1, 'min_samples_split': 2, 'n_estimators': 200}\n",
    "rfc_best_hp = RandomForestClassifier(bootstrap = False, criterion = 'entropy', max_depth = None, max_features = 'sqrt', min_samples_leaf = 1, min_samples_split = 2, n_estimators = 200)\n",
    "rfc_best_hp.fit(X_train, y_train)"
   ]
  },
  {
   "cell_type": "code",
   "execution_count": 42,
   "id": "1bd0be76",
   "metadata": {
    "execution": {
     "iopub.execute_input": "2024-05-28T17:13:32.427950Z",
     "iopub.status.busy": "2024-05-28T17:13:32.427033Z",
     "iopub.status.idle": "2024-05-28T17:13:32.562506Z",
     "shell.execute_reply": "2024-05-28T17:13:32.561140Z"
    },
    "papermill": {
     "duration": 0.16183,
     "end_time": "2024-05-28T17:13:32.565033",
     "exception": false,
     "start_time": "2024-05-28T17:13:32.403203",
     "status": "completed"
    },
    "tags": []
   },
   "outputs": [
    {
     "name": "stdout",
     "output_type": "stream",
     "text": [
      "              precision    recall  f1-score   support\n",
      "\n",
      "           0       1.00      1.00      1.00       122\n",
      "           1       1.00      1.00      1.00        48\n",
      "           2       1.00      1.00      1.00        65\n",
      "           3       1.00      1.00      1.00        93\n",
      "           4       1.00      1.00      1.00        13\n",
      "           5       1.00      1.00      1.00       159\n",
      "           6       1.00      1.00      1.00        47\n",
      "           7       1.00      1.00      1.00       151\n",
      "           8       1.00      1.00      1.00        93\n",
      "\n",
      "    accuracy                           1.00       791\n",
      "   macro avg       1.00      1.00      1.00       791\n",
      "weighted avg       1.00      1.00      1.00       791\n",
      "\n",
      "              precision    recall  f1-score   support\n",
      "\n",
      "           0       1.00      0.96      0.98        28\n",
      "           1       0.96      0.90      0.93        29\n",
      "           2       1.00      0.96      0.98        28\n",
      "           3       1.00      1.00      1.00        27\n",
      "           4       0.56      1.00      0.71        15\n",
      "           5       1.00      0.96      0.98        28\n",
      "           6       0.96      1.00      0.98        26\n",
      "           7       1.00      0.79      0.89        34\n",
      "           8       0.96      0.93      0.95        28\n",
      "\n",
      "    accuracy                           0.94       243\n",
      "   macro avg       0.94      0.95      0.93       243\n",
      "weighted avg       0.96      0.94      0.94       243\n",
      "\n"
     ]
    }
   ],
   "source": [
    "X_train_rfc_best_hp  = rfc_best_hp .predict(X_train)\n",
    "X_test_rfc_best_hp  = rfc_best_hp .predict(X_test)\n",
    "print(classification_report(X_train_rfc_best_hp, y_train))\n",
    "print(classification_report(X_test_rfc_best_hp,y_test))"
   ]
  },
  {
   "cell_type": "code",
   "execution_count": 43,
   "id": "6ae77c6b",
   "metadata": {
    "execution": {
     "iopub.execute_input": "2024-05-28T17:13:32.613708Z",
     "iopub.status.busy": "2024-05-28T17:13:32.613327Z",
     "iopub.status.idle": "2024-05-28T17:13:32.628863Z",
     "shell.execute_reply": "2024-05-28T17:13:32.627629Z"
    },
    "papermill": {
     "duration": 0.043572,
     "end_time": "2024-05-28T17:13:32.631454",
     "exception": false,
     "start_time": "2024-05-28T17:13:32.587882",
     "status": "completed"
    },
    "tags": []
   },
   "outputs": [
    {
     "name": "stdout",
     "output_type": "stream",
     "text": [
      "Accuracy: 0.9383\n",
      "Precision: 0.9599\n",
      "Recall: 0.9383\n",
      "F1-score: 0.9432\n"
     ]
    }
   ],
   "source": [
    "print(f'Accuracy: {round(accuracy_score(X_test_rfc_best_hp, y_test), 4)}')\n",
    "print(f'Precision: {round(precision_score(X_test_rfc_best_hp, y_test, average=\"weighted\"), 4)}')\n",
    "print(f'Recall: {round(recall_score(X_test_rfc_best_hp, y_test, average=\"weighted\"), 4)}')\n",
    "print(f'F1-score: {round(f1_score(X_test_rfc_best_hp, y_test, average=\"weighted\"), 4)}')"
   ]
  },
  {
   "cell_type": "markdown",
   "id": "e82fef83",
   "metadata": {
    "papermill": {
     "duration": 0.022653,
     "end_time": "2024-05-28T17:13:32.677043",
     "exception": false,
     "start_time": "2024-05-28T17:13:32.654390",
     "status": "completed"
    },
    "tags": []
   },
   "source": [
    "## 3.Logistic Regression"
   ]
  },
  {
   "cell_type": "markdown",
   "id": "28e1dedd",
   "metadata": {
    "papermill": {
     "duration": 0.022455,
     "end_time": "2024-05-28T17:13:32.722291",
     "exception": false,
     "start_time": "2024-05-28T17:13:32.699836",
     "status": "completed"
    },
    "tags": []
   },
   "source": [
    "### 3.1 Defalt hyperparameters"
   ]
  },
  {
   "cell_type": "code",
   "execution_count": 44,
   "id": "1171afbe",
   "metadata": {
    "execution": {
     "iopub.execute_input": "2024-05-28T17:13:32.769581Z",
     "iopub.status.busy": "2024-05-28T17:13:32.769180Z",
     "iopub.status.idle": "2024-05-28T17:13:33.297328Z",
     "shell.execute_reply": "2024-05-28T17:13:33.296041Z"
    },
    "papermill": {
     "duration": 0.555543,
     "end_time": "2024-05-28T17:13:33.300230",
     "exception": false,
     "start_time": "2024-05-28T17:13:32.744687",
     "status": "completed"
    },
    "tags": []
   },
   "outputs": [
    {
     "data": {
      "text/html": [
       "<style>#sk-container-id-5 {color: black;}#sk-container-id-5 pre{padding: 0;}#sk-container-id-5 div.sk-toggleable {background-color: white;}#sk-container-id-5 label.sk-toggleable__label {cursor: pointer;display: block;width: 100%;margin-bottom: 0;padding: 0.3em;box-sizing: border-box;text-align: center;}#sk-container-id-5 label.sk-toggleable__label-arrow:before {content: \"▸\";float: left;margin-right: 0.25em;color: #696969;}#sk-container-id-5 label.sk-toggleable__label-arrow:hover:before {color: black;}#sk-container-id-5 div.sk-estimator:hover label.sk-toggleable__label-arrow:before {color: black;}#sk-container-id-5 div.sk-toggleable__content {max-height: 0;max-width: 0;overflow: hidden;text-align: left;background-color: #f0f8ff;}#sk-container-id-5 div.sk-toggleable__content pre {margin: 0.2em;color: black;border-radius: 0.25em;background-color: #f0f8ff;}#sk-container-id-5 input.sk-toggleable__control:checked~div.sk-toggleable__content {max-height: 200px;max-width: 100%;overflow: auto;}#sk-container-id-5 input.sk-toggleable__control:checked~label.sk-toggleable__label-arrow:before {content: \"▾\";}#sk-container-id-5 div.sk-estimator input.sk-toggleable__control:checked~label.sk-toggleable__label {background-color: #d4ebff;}#sk-container-id-5 div.sk-label input.sk-toggleable__control:checked~label.sk-toggleable__label {background-color: #d4ebff;}#sk-container-id-5 input.sk-hidden--visually {border: 0;clip: rect(1px 1px 1px 1px);clip: rect(1px, 1px, 1px, 1px);height: 1px;margin: -1px;overflow: hidden;padding: 0;position: absolute;width: 1px;}#sk-container-id-5 div.sk-estimator {font-family: monospace;background-color: #f0f8ff;border: 1px dotted black;border-radius: 0.25em;box-sizing: border-box;margin-bottom: 0.5em;}#sk-container-id-5 div.sk-estimator:hover {background-color: #d4ebff;}#sk-container-id-5 div.sk-parallel-item::after {content: \"\";width: 100%;border-bottom: 1px solid gray;flex-grow: 1;}#sk-container-id-5 div.sk-label:hover label.sk-toggleable__label {background-color: #d4ebff;}#sk-container-id-5 div.sk-serial::before {content: \"\";position: absolute;border-left: 1px solid gray;box-sizing: border-box;top: 0;bottom: 0;left: 50%;z-index: 0;}#sk-container-id-5 div.sk-serial {display: flex;flex-direction: column;align-items: center;background-color: white;padding-right: 0.2em;padding-left: 0.2em;position: relative;}#sk-container-id-5 div.sk-item {position: relative;z-index: 1;}#sk-container-id-5 div.sk-parallel {display: flex;align-items: stretch;justify-content: center;background-color: white;position: relative;}#sk-container-id-5 div.sk-item::before, #sk-container-id-5 div.sk-parallel-item::before {content: \"\";position: absolute;border-left: 1px solid gray;box-sizing: border-box;top: 0;bottom: 0;left: 50%;z-index: -1;}#sk-container-id-5 div.sk-parallel-item {display: flex;flex-direction: column;z-index: 1;position: relative;background-color: white;}#sk-container-id-5 div.sk-parallel-item:first-child::after {align-self: flex-end;width: 50%;}#sk-container-id-5 div.sk-parallel-item:last-child::after {align-self: flex-start;width: 50%;}#sk-container-id-5 div.sk-parallel-item:only-child::after {width: 0;}#sk-container-id-5 div.sk-dashed-wrapped {border: 1px dashed gray;margin: 0 0.4em 0.5em 0.4em;box-sizing: border-box;padding-bottom: 0.4em;background-color: white;}#sk-container-id-5 div.sk-label label {font-family: monospace;font-weight: bold;display: inline-block;line-height: 1.2em;}#sk-container-id-5 div.sk-label-container {text-align: center;}#sk-container-id-5 div.sk-container {/* jupyter's `normalize.less` sets `[hidden] { display: none; }` but bootstrap.min.css set `[hidden] { display: none !important; }` so we also need the `!important` here to be able to override the default hidden behavior on the sphinx rendered scikit-learn.org. See: https://github.com/scikit-learn/scikit-learn/issues/21755 */display: inline-block !important;position: relative;}#sk-container-id-5 div.sk-text-repr-fallback {display: none;}</style><div id=\"sk-container-id-5\" class=\"sk-top-container\"><div class=\"sk-text-repr-fallback\"><pre>LogisticRegression()</pre><b>In a Jupyter environment, please rerun this cell to show the HTML representation or trust the notebook. <br />On GitHub, the HTML representation is unable to render, please try loading this page with nbviewer.org.</b></div><div class=\"sk-container\" hidden><div class=\"sk-item\"><div class=\"sk-estimator sk-toggleable\"><input class=\"sk-toggleable__control sk-hidden--visually\" id=\"sk-estimator-id-5\" type=\"checkbox\" checked><label for=\"sk-estimator-id-5\" class=\"sk-toggleable__label sk-toggleable__label-arrow\">LogisticRegression</label><div class=\"sk-toggleable__content\"><pre>LogisticRegression()</pre></div></div></div></div></div>"
      ],
      "text/plain": [
       "LogisticRegression()"
      ]
     },
     "execution_count": 44,
     "metadata": {},
     "output_type": "execute_result"
    }
   ],
   "source": [
    "log_reg_default = LogisticRegression()\n",
    "log_reg_default.fit(X_train, y_train)"
   ]
  },
  {
   "cell_type": "code",
   "execution_count": 45,
   "id": "81e4f3d6",
   "metadata": {
    "execution": {
     "iopub.execute_input": "2024-05-28T17:13:33.417295Z",
     "iopub.status.busy": "2024-05-28T17:13:33.416877Z",
     "iopub.status.idle": "2024-05-28T17:13:33.438928Z",
     "shell.execute_reply": "2024-05-28T17:13:33.437652Z"
    },
    "papermill": {
     "duration": 0.077075,
     "end_time": "2024-05-28T17:13:33.441494",
     "exception": false,
     "start_time": "2024-05-28T17:13:33.364419",
     "status": "completed"
    },
    "tags": []
   },
   "outputs": [
    {
     "name": "stdout",
     "output_type": "stream",
     "text": [
      "              precision    recall  f1-score   support\n",
      "\n",
      "           0       1.00      1.00      1.00       122\n",
      "           1       1.00      1.00      1.00        48\n",
      "           2       1.00      1.00      1.00        65\n",
      "           3       1.00      1.00      1.00        93\n",
      "           4       1.00      1.00      1.00        13\n",
      "           5       1.00      1.00      1.00       159\n",
      "           6       1.00      1.00      1.00        47\n",
      "           7       1.00      1.00      1.00       151\n",
      "           8       1.00      1.00      1.00        93\n",
      "\n",
      "    accuracy                           1.00       791\n",
      "   macro avg       1.00      1.00      1.00       791\n",
      "weighted avg       1.00      1.00      1.00       791\n",
      "\n",
      "              precision    recall  f1-score   support\n",
      "\n",
      "           0       1.00      0.93      0.96        29\n",
      "           1       0.96      0.87      0.91        30\n",
      "           2       0.96      0.96      0.96        27\n",
      "           3       1.00      1.00      1.00        27\n",
      "           4       0.37      1.00      0.54        10\n",
      "           5       1.00      0.93      0.96        29\n",
      "           6       0.96      1.00      0.98        26\n",
      "           7       1.00      0.71      0.83        38\n",
      "           8       0.96      0.96      0.96        27\n",
      "\n",
      "    accuracy                           0.91       243\n",
      "   macro avg       0.91      0.93      0.90       243\n",
      "weighted avg       0.96      0.91      0.93       243\n",
      "\n"
     ]
    }
   ],
   "source": [
    "X_train_pred_lg = log_reg_default .predict(X_train)\n",
    "X_test_pred_lg = log_reg_default.predict(X_test)\n",
    "print(classification_report(X_train_pred_rf, y_train))\n",
    "print(classification_report(X_test_pred_rf, y_test))"
   ]
  },
  {
   "cell_type": "code",
   "execution_count": 46,
   "id": "60c637b2",
   "metadata": {
    "execution": {
     "iopub.execute_input": "2024-05-28T17:13:33.488801Z",
     "iopub.status.busy": "2024-05-28T17:13:33.488415Z",
     "iopub.status.idle": "2024-05-28T17:13:33.503659Z",
     "shell.execute_reply": "2024-05-28T17:13:33.502340Z"
    },
    "papermill": {
     "duration": 0.041421,
     "end_time": "2024-05-28T17:13:33.505867",
     "exception": false,
     "start_time": "2024-05-28T17:13:33.464446",
     "status": "completed"
    },
    "tags": []
   },
   "outputs": [
    {
     "name": "stdout",
     "output_type": "stream",
     "text": [
      "Accuracy: 0.9177\n",
      "Precision: 0.9569\n",
      "Recall: 0.9177\n",
      "F1-score: 0.9275\n"
     ]
    }
   ],
   "source": [
    "print(f'Accuracy: {round(accuracy_score(X_test_pred_lg, y_test), 4)}')\n",
    "print(f'Precision: {round(precision_score(X_test_pred_lg, y_test, average=\"weighted\"), 4)}')\n",
    "print(f'Recall: {round(recall_score(X_test_pred_lg, y_test, average=\"weighted\"), 4)}')\n",
    "print(f'F1-score: {round(f1_score(X_test_pred_lg, y_test, average=\"weighted\"), 4)}')"
   ]
  },
  {
   "cell_type": "markdown",
   "id": "ff5d51f4",
   "metadata": {
    "papermill": {
     "duration": 0.02309,
     "end_time": "2024-05-28T17:13:33.552377",
     "exception": false,
     "start_time": "2024-05-28T17:13:33.529287",
     "status": "completed"
    },
    "tags": []
   },
   "source": [
    "## 3.2 Tuning hyperparameter (bỏ - Tuning còn thấp hơn trước khi tuning)"
   ]
  },
  {
   "cell_type": "code",
   "execution_count": 47,
   "id": "e35bba7b",
   "metadata": {
    "execution": {
     "iopub.execute_input": "2024-05-28T17:13:33.602184Z",
     "iopub.status.busy": "2024-05-28T17:13:33.601179Z",
     "iopub.status.idle": "2024-05-28T17:13:33.606570Z",
     "shell.execute_reply": "2024-05-28T17:13:33.605479Z"
    },
    "papermill": {
     "duration": 0.033115,
     "end_time": "2024-05-28T17:13:33.608869",
     "exception": false,
     "start_time": "2024-05-28T17:13:33.575754",
     "status": "completed"
    },
    "tags": []
   },
   "outputs": [],
   "source": [
    "# param_grid = {\n",
    "#     'penalty': ['l1', 'l2'],\n",
    "#     'C': [0.001, 0.01, 0.1, 1, 10, 100, 1000],\n",
    "#     'solver': ['liblinear', 'newton-cg', 'lbfgs'],\n",
    "#     'max_iter': [100, 200, 300, 400, 500],\n",
    "#     'fit_intercept': [True, False]\n",
    "# }\n",
    "\n",
    "# log_reg = LogisticRegression()\n",
    "\n",
    "# grid_search = GridSearchCV(estimator=log_reg, param_grid=param_grid, cv=5, scoring='accuracy')\n",
    "# grid_search.fit(X_val, y_val)\n",
    "# best_params = grid_search.best_params_\n",
    "# print(\"Best hyperparameters:\", best_params)"
   ]
  },
  {
   "cell_type": "code",
   "execution_count": 48,
   "id": "c7449252",
   "metadata": {
    "execution": {
     "iopub.execute_input": "2024-05-28T17:13:33.657348Z",
     "iopub.status.busy": "2024-05-28T17:13:33.656938Z",
     "iopub.status.idle": "2024-05-28T17:13:33.722598Z",
     "shell.execute_reply": "2024-05-28T17:13:33.721489Z"
    },
    "papermill": {
     "duration": 0.092612,
     "end_time": "2024-05-28T17:13:33.724857",
     "exception": false,
     "start_time": "2024-05-28T17:13:33.632245",
     "status": "completed"
    },
    "tags": []
   },
   "outputs": [
    {
     "data": {
      "text/html": [
       "<style>#sk-container-id-6 {color: black;}#sk-container-id-6 pre{padding: 0;}#sk-container-id-6 div.sk-toggleable {background-color: white;}#sk-container-id-6 label.sk-toggleable__label {cursor: pointer;display: block;width: 100%;margin-bottom: 0;padding: 0.3em;box-sizing: border-box;text-align: center;}#sk-container-id-6 label.sk-toggleable__label-arrow:before {content: \"▸\";float: left;margin-right: 0.25em;color: #696969;}#sk-container-id-6 label.sk-toggleable__label-arrow:hover:before {color: black;}#sk-container-id-6 div.sk-estimator:hover label.sk-toggleable__label-arrow:before {color: black;}#sk-container-id-6 div.sk-toggleable__content {max-height: 0;max-width: 0;overflow: hidden;text-align: left;background-color: #f0f8ff;}#sk-container-id-6 div.sk-toggleable__content pre {margin: 0.2em;color: black;border-radius: 0.25em;background-color: #f0f8ff;}#sk-container-id-6 input.sk-toggleable__control:checked~div.sk-toggleable__content {max-height: 200px;max-width: 100%;overflow: auto;}#sk-container-id-6 input.sk-toggleable__control:checked~label.sk-toggleable__label-arrow:before {content: \"▾\";}#sk-container-id-6 div.sk-estimator input.sk-toggleable__control:checked~label.sk-toggleable__label {background-color: #d4ebff;}#sk-container-id-6 div.sk-label input.sk-toggleable__control:checked~label.sk-toggleable__label {background-color: #d4ebff;}#sk-container-id-6 input.sk-hidden--visually {border: 0;clip: rect(1px 1px 1px 1px);clip: rect(1px, 1px, 1px, 1px);height: 1px;margin: -1px;overflow: hidden;padding: 0;position: absolute;width: 1px;}#sk-container-id-6 div.sk-estimator {font-family: monospace;background-color: #f0f8ff;border: 1px dotted black;border-radius: 0.25em;box-sizing: border-box;margin-bottom: 0.5em;}#sk-container-id-6 div.sk-estimator:hover {background-color: #d4ebff;}#sk-container-id-6 div.sk-parallel-item::after {content: \"\";width: 100%;border-bottom: 1px solid gray;flex-grow: 1;}#sk-container-id-6 div.sk-label:hover label.sk-toggleable__label {background-color: #d4ebff;}#sk-container-id-6 div.sk-serial::before {content: \"\";position: absolute;border-left: 1px solid gray;box-sizing: border-box;top: 0;bottom: 0;left: 50%;z-index: 0;}#sk-container-id-6 div.sk-serial {display: flex;flex-direction: column;align-items: center;background-color: white;padding-right: 0.2em;padding-left: 0.2em;position: relative;}#sk-container-id-6 div.sk-item {position: relative;z-index: 1;}#sk-container-id-6 div.sk-parallel {display: flex;align-items: stretch;justify-content: center;background-color: white;position: relative;}#sk-container-id-6 div.sk-item::before, #sk-container-id-6 div.sk-parallel-item::before {content: \"\";position: absolute;border-left: 1px solid gray;box-sizing: border-box;top: 0;bottom: 0;left: 50%;z-index: -1;}#sk-container-id-6 div.sk-parallel-item {display: flex;flex-direction: column;z-index: 1;position: relative;background-color: white;}#sk-container-id-6 div.sk-parallel-item:first-child::after {align-self: flex-end;width: 50%;}#sk-container-id-6 div.sk-parallel-item:last-child::after {align-self: flex-start;width: 50%;}#sk-container-id-6 div.sk-parallel-item:only-child::after {width: 0;}#sk-container-id-6 div.sk-dashed-wrapped {border: 1px dashed gray;margin: 0 0.4em 0.5em 0.4em;box-sizing: border-box;padding-bottom: 0.4em;background-color: white;}#sk-container-id-6 div.sk-label label {font-family: monospace;font-weight: bold;display: inline-block;line-height: 1.2em;}#sk-container-id-6 div.sk-label-container {text-align: center;}#sk-container-id-6 div.sk-container {/* jupyter's `normalize.less` sets `[hidden] { display: none; }` but bootstrap.min.css set `[hidden] { display: none !important; }` so we also need the `!important` here to be able to override the default hidden behavior on the sphinx rendered scikit-learn.org. See: https://github.com/scikit-learn/scikit-learn/issues/21755 */display: inline-block !important;position: relative;}#sk-container-id-6 div.sk-text-repr-fallback {display: none;}</style><div id=\"sk-container-id-6\" class=\"sk-top-container\"><div class=\"sk-text-repr-fallback\"><pre>LogisticRegression(C=0.1, solver=&#x27;liblinear&#x27;)</pre><b>In a Jupyter environment, please rerun this cell to show the HTML representation or trust the notebook. <br />On GitHub, the HTML representation is unable to render, please try loading this page with nbviewer.org.</b></div><div class=\"sk-container\" hidden><div class=\"sk-item\"><div class=\"sk-estimator sk-toggleable\"><input class=\"sk-toggleable__control sk-hidden--visually\" id=\"sk-estimator-id-6\" type=\"checkbox\" checked><label for=\"sk-estimator-id-6\" class=\"sk-toggleable__label sk-toggleable__label-arrow\">LogisticRegression</label><div class=\"sk-toggleable__content\"><pre>LogisticRegression(C=0.1, solver=&#x27;liblinear&#x27;)</pre></div></div></div></div></div>"
      ],
      "text/plain": [
       "LogisticRegression(C=0.1, solver='liblinear')"
      ]
     },
     "execution_count": 48,
     "metadata": {},
     "output_type": "execute_result"
    }
   ],
   "source": [
    "# Best hyperparameters: {'C': 0.1, 'fit_intercept': True, 'max_iter': 100, 'penalty': 'l2', 'solver': 'liblinear'}\n",
    "log_reg_best_hps = LogisticRegression(C=0.1, fit_intercept=True, max_iter=100, penalty='l2', solver='liblinear')\n",
    "log_reg_best_hps.fit(X_train, y_train)\n"
   ]
  },
  {
   "cell_type": "code",
   "execution_count": 49,
   "id": "bf706d90",
   "metadata": {
    "execution": {
     "iopub.execute_input": "2024-05-28T17:13:33.772698Z",
     "iopub.status.busy": "2024-05-28T17:13:33.772314Z",
     "iopub.status.idle": "2024-05-28T17:13:33.799895Z",
     "shell.execute_reply": "2024-05-28T17:13:33.798349Z"
    },
    "papermill": {
     "duration": 0.054894,
     "end_time": "2024-05-28T17:13:33.802677",
     "exception": false,
     "start_time": "2024-05-28T17:13:33.747783",
     "status": "completed"
    },
    "tags": []
   },
   "outputs": [
    {
     "name": "stdout",
     "output_type": "stream",
     "text": [
      "              precision    recall  f1-score   support\n",
      "\n",
      "           0       0.98      0.92      0.94       130\n",
      "           1       0.60      1.00      0.75        29\n",
      "           2       0.83      0.96      0.89        56\n",
      "           3       0.95      0.95      0.95        93\n",
      "           4       0.00      0.00      0.00         0\n",
      "           5       1.00      0.88      0.94       181\n",
      "           6       0.83      1.00      0.91        39\n",
      "           7       1.00      0.86      0.92       176\n",
      "           8       0.91      0.98      0.94        87\n",
      "\n",
      "    accuracy                           0.92       791\n",
      "   macro avg       0.79      0.84      0.81       791\n",
      "weighted avg       0.95      0.92      0.93       791\n",
      "\n",
      "              precision    recall  f1-score   support\n",
      "\n",
      "           0       0.96      0.90      0.93        29\n",
      "           1       0.59      1.00      0.74        16\n",
      "           2       0.93      1.00      0.96        25\n",
      "           3       1.00      0.93      0.96        29\n",
      "           4       0.00      0.00      0.00         0\n",
      "           5       1.00      0.71      0.83        38\n",
      "           6       0.85      1.00      0.92        23\n",
      "           7       1.00      0.48      0.65        56\n",
      "           8       0.93      0.93      0.93        27\n",
      "\n",
      "    accuracy                           0.81       243\n",
      "   macro avg       0.81      0.77      0.77       243\n",
      "weighted avg       0.94      0.81      0.84       243\n",
      "\n"
     ]
    },
    {
     "name": "stderr",
     "output_type": "stream",
     "text": [
      "c:\\Users\\ADMIN\\anaconda3\\envs\\AdvancedPython\\Lib\\site-packages\\sklearn\\metrics\\_classification.py:1469: UndefinedMetricWarning: Recall and F-score are ill-defined and being set to 0.0 in labels with no true samples. Use `zero_division` parameter to control this behavior.\n",
      "  _warn_prf(average, modifier, msg_start, len(result))\n",
      "c:\\Users\\ADMIN\\anaconda3\\envs\\AdvancedPython\\Lib\\site-packages\\sklearn\\metrics\\_classification.py:1469: UndefinedMetricWarning: Recall and F-score are ill-defined and being set to 0.0 in labels with no true samples. Use `zero_division` parameter to control this behavior.\n",
      "  _warn_prf(average, modifier, msg_start, len(result))\n",
      "c:\\Users\\ADMIN\\anaconda3\\envs\\AdvancedPython\\Lib\\site-packages\\sklearn\\metrics\\_classification.py:1469: UndefinedMetricWarning: Recall and F-score are ill-defined and being set to 0.0 in labels with no true samples. Use `zero_division` parameter to control this behavior.\n",
      "  _warn_prf(average, modifier, msg_start, len(result))\n",
      "c:\\Users\\ADMIN\\anaconda3\\envs\\AdvancedPython\\Lib\\site-packages\\sklearn\\metrics\\_classification.py:1469: UndefinedMetricWarning: Recall and F-score are ill-defined and being set to 0.0 in labels with no true samples. Use `zero_division` parameter to control this behavior.\n",
      "  _warn_prf(average, modifier, msg_start, len(result))\n",
      "c:\\Users\\ADMIN\\anaconda3\\envs\\AdvancedPython\\Lib\\site-packages\\sklearn\\metrics\\_classification.py:1469: UndefinedMetricWarning: Recall and F-score are ill-defined and being set to 0.0 in labels with no true samples. Use `zero_division` parameter to control this behavior.\n",
      "  _warn_prf(average, modifier, msg_start, len(result))\n",
      "c:\\Users\\ADMIN\\anaconda3\\envs\\AdvancedPython\\Lib\\site-packages\\sklearn\\metrics\\_classification.py:1469: UndefinedMetricWarning: Recall and F-score are ill-defined and being set to 0.0 in labels with no true samples. Use `zero_division` parameter to control this behavior.\n",
      "  _warn_prf(average, modifier, msg_start, len(result))\n"
     ]
    }
   ],
   "source": [
    "X_train_bs_hp = log_reg_best_hps.predict(X_train)\n",
    "X_test_bs_hp = log_reg_best_hps.predict(X_test)\n",
    "print(classification_report(X_train_bs_hp, y_train))\n",
    "print(classification_report(X_test_bs_hp,y_test))"
   ]
  },
  {
   "cell_type": "code",
   "execution_count": 50,
   "id": "901beaa6",
   "metadata": {
    "execution": {
     "iopub.execute_input": "2024-05-28T17:13:33.851150Z",
     "iopub.status.busy": "2024-05-28T17:13:33.850712Z",
     "iopub.status.idle": "2024-05-28T17:13:33.867364Z",
     "shell.execute_reply": "2024-05-28T17:13:33.866154Z"
    },
    "papermill": {
     "duration": 0.044453,
     "end_time": "2024-05-28T17:13:33.870462",
     "exception": false,
     "start_time": "2024-05-28T17:13:33.826009",
     "status": "completed"
    },
    "tags": []
   },
   "outputs": [
    {
     "name": "stdout",
     "output_type": "stream",
     "text": [
      "Accuracy: 0.8066\n",
      "Precision: 0.9389\n",
      "Recall: 0.8066\n",
      "F1-score: 0.8436\n"
     ]
    },
    {
     "name": "stderr",
     "output_type": "stream",
     "text": [
      "c:\\Users\\ADMIN\\anaconda3\\envs\\AdvancedPython\\Lib\\site-packages\\sklearn\\metrics\\_classification.py:1469: UndefinedMetricWarning: Recall is ill-defined and being set to 0.0 in labels with no true samples. Use `zero_division` parameter to control this behavior.\n",
      "  _warn_prf(average, modifier, msg_start, len(result))\n"
     ]
    }
   ],
   "source": [
    "print(f'Accuracy: {round(accuracy_score(X_test_bs_hp, y_test), 4)}')\n",
    "print(f'Precision: {round(precision_score(X_test_bs_hp, y_test, average=\"weighted\"), 4)}')\n",
    "print(f'Recall: {round(recall_score(X_test_bs_hp, y_test, average=\"weighted\"), 4)}')\n",
    "print(f'F1-score: {round(f1_score(X_test_bs_hp, y_test, average=\"weighted\"), 4)}')"
   ]
  },
  {
   "cell_type": "markdown",
   "id": "8a7a8e11",
   "metadata": {
    "papermill": {
     "duration": 0.023056,
     "end_time": "2024-05-28T17:13:33.917113",
     "exception": false,
     "start_time": "2024-05-28T17:13:33.894057",
     "status": "completed"
    },
    "tags": []
   },
   "source": [
    "## 4. Navie Bayes"
   ]
  },
  {
   "cell_type": "markdown",
   "id": "f07847de",
   "metadata": {
    "papermill": {
     "duration": 0.023318,
     "end_time": "2024-05-28T17:13:33.964074",
     "exception": false,
     "start_time": "2024-05-28T17:13:33.940756",
     "status": "completed"
    },
    "tags": []
   },
   "source": [
    "### 4.1 Default"
   ]
  },
  {
   "cell_type": "code",
   "execution_count": 51,
   "id": "d3195d11",
   "metadata": {
    "execution": {
     "iopub.execute_input": "2024-05-28T17:13:34.013220Z",
     "iopub.status.busy": "2024-05-28T17:13:34.012825Z",
     "iopub.status.idle": "2024-05-28T17:13:34.025550Z",
     "shell.execute_reply": "2024-05-28T17:13:34.024482Z"
    },
    "papermill": {
     "duration": 0.040032,
     "end_time": "2024-05-28T17:13:34.027836",
     "exception": false,
     "start_time": "2024-05-28T17:13:33.987804",
     "status": "completed"
    },
    "tags": []
   },
   "outputs": [
    {
     "data": {
      "text/html": [
       "<style>#sk-container-id-7 {color: black;}#sk-container-id-7 pre{padding: 0;}#sk-container-id-7 div.sk-toggleable {background-color: white;}#sk-container-id-7 label.sk-toggleable__label {cursor: pointer;display: block;width: 100%;margin-bottom: 0;padding: 0.3em;box-sizing: border-box;text-align: center;}#sk-container-id-7 label.sk-toggleable__label-arrow:before {content: \"▸\";float: left;margin-right: 0.25em;color: #696969;}#sk-container-id-7 label.sk-toggleable__label-arrow:hover:before {color: black;}#sk-container-id-7 div.sk-estimator:hover label.sk-toggleable__label-arrow:before {color: black;}#sk-container-id-7 div.sk-toggleable__content {max-height: 0;max-width: 0;overflow: hidden;text-align: left;background-color: #f0f8ff;}#sk-container-id-7 div.sk-toggleable__content pre {margin: 0.2em;color: black;border-radius: 0.25em;background-color: #f0f8ff;}#sk-container-id-7 input.sk-toggleable__control:checked~div.sk-toggleable__content {max-height: 200px;max-width: 100%;overflow: auto;}#sk-container-id-7 input.sk-toggleable__control:checked~label.sk-toggleable__label-arrow:before {content: \"▾\";}#sk-container-id-7 div.sk-estimator input.sk-toggleable__control:checked~label.sk-toggleable__label {background-color: #d4ebff;}#sk-container-id-7 div.sk-label input.sk-toggleable__control:checked~label.sk-toggleable__label {background-color: #d4ebff;}#sk-container-id-7 input.sk-hidden--visually {border: 0;clip: rect(1px 1px 1px 1px);clip: rect(1px, 1px, 1px, 1px);height: 1px;margin: -1px;overflow: hidden;padding: 0;position: absolute;width: 1px;}#sk-container-id-7 div.sk-estimator {font-family: monospace;background-color: #f0f8ff;border: 1px dotted black;border-radius: 0.25em;box-sizing: border-box;margin-bottom: 0.5em;}#sk-container-id-7 div.sk-estimator:hover {background-color: #d4ebff;}#sk-container-id-7 div.sk-parallel-item::after {content: \"\";width: 100%;border-bottom: 1px solid gray;flex-grow: 1;}#sk-container-id-7 div.sk-label:hover label.sk-toggleable__label {background-color: #d4ebff;}#sk-container-id-7 div.sk-serial::before {content: \"\";position: absolute;border-left: 1px solid gray;box-sizing: border-box;top: 0;bottom: 0;left: 50%;z-index: 0;}#sk-container-id-7 div.sk-serial {display: flex;flex-direction: column;align-items: center;background-color: white;padding-right: 0.2em;padding-left: 0.2em;position: relative;}#sk-container-id-7 div.sk-item {position: relative;z-index: 1;}#sk-container-id-7 div.sk-parallel {display: flex;align-items: stretch;justify-content: center;background-color: white;position: relative;}#sk-container-id-7 div.sk-item::before, #sk-container-id-7 div.sk-parallel-item::before {content: \"\";position: absolute;border-left: 1px solid gray;box-sizing: border-box;top: 0;bottom: 0;left: 50%;z-index: -1;}#sk-container-id-7 div.sk-parallel-item {display: flex;flex-direction: column;z-index: 1;position: relative;background-color: white;}#sk-container-id-7 div.sk-parallel-item:first-child::after {align-self: flex-end;width: 50%;}#sk-container-id-7 div.sk-parallel-item:last-child::after {align-self: flex-start;width: 50%;}#sk-container-id-7 div.sk-parallel-item:only-child::after {width: 0;}#sk-container-id-7 div.sk-dashed-wrapped {border: 1px dashed gray;margin: 0 0.4em 0.5em 0.4em;box-sizing: border-box;padding-bottom: 0.4em;background-color: white;}#sk-container-id-7 div.sk-label label {font-family: monospace;font-weight: bold;display: inline-block;line-height: 1.2em;}#sk-container-id-7 div.sk-label-container {text-align: center;}#sk-container-id-7 div.sk-container {/* jupyter's `normalize.less` sets `[hidden] { display: none; }` but bootstrap.min.css set `[hidden] { display: none !important; }` so we also need the `!important` here to be able to override the default hidden behavior on the sphinx rendered scikit-learn.org. See: https://github.com/scikit-learn/scikit-learn/issues/21755 */display: inline-block !important;position: relative;}#sk-container-id-7 div.sk-text-repr-fallback {display: none;}</style><div id=\"sk-container-id-7\" class=\"sk-top-container\"><div class=\"sk-text-repr-fallback\"><pre>MultinomialNB()</pre><b>In a Jupyter environment, please rerun this cell to show the HTML representation or trust the notebook. <br />On GitHub, the HTML representation is unable to render, please try loading this page with nbviewer.org.</b></div><div class=\"sk-container\" hidden><div class=\"sk-item\"><div class=\"sk-estimator sk-toggleable\"><input class=\"sk-toggleable__control sk-hidden--visually\" id=\"sk-estimator-id-7\" type=\"checkbox\" checked><label for=\"sk-estimator-id-7\" class=\"sk-toggleable__label sk-toggleable__label-arrow\">MultinomialNB</label><div class=\"sk-toggleable__content\"><pre>MultinomialNB()</pre></div></div></div></div></div>"
      ],
      "text/plain": [
       "MultinomialNB()"
      ]
     },
     "execution_count": 51,
     "metadata": {},
     "output_type": "execute_result"
    }
   ],
   "source": [
    "navie = MultinomialNB()\n",
    "navie.fit(X_train,y_train)"
   ]
  },
  {
   "cell_type": "code",
   "execution_count": 52,
   "id": "18b54bfb",
   "metadata": {
    "execution": {
     "iopub.execute_input": "2024-05-28T17:13:34.077252Z",
     "iopub.status.busy": "2024-05-28T17:13:34.076846Z",
     "iopub.status.idle": "2024-05-28T17:13:34.101428Z",
     "shell.execute_reply": "2024-05-28T17:13:34.099888Z"
    },
    "papermill": {
     "duration": 0.053148,
     "end_time": "2024-05-28T17:13:34.104835",
     "exception": false,
     "start_time": "2024-05-28T17:13:34.051687",
     "status": "completed"
    },
    "tags": []
   },
   "outputs": [
    {
     "name": "stdout",
     "output_type": "stream",
     "text": [
      "              precision    recall  f1-score   support\n",
      "\n",
      "           0       0.99      0.95      0.97       128\n",
      "           1       0.67      1.00      0.80        32\n",
      "           2       0.86      1.00      0.93        56\n",
      "           3       0.98      0.95      0.96        96\n",
      "           4       0.00      0.00      0.00         0\n",
      "           5       1.00      0.87      0.93       183\n",
      "           6       0.89      1.00      0.94        42\n",
      "           7       0.99      0.90      0.94       167\n",
      "           8       0.92      0.99      0.96        87\n",
      "\n",
      "    accuracy                           0.93       791\n",
      "   macro avg       0.81      0.85      0.83       791\n",
      "weighted avg       0.96      0.93      0.94       791\n",
      "\n",
      "              precision    recall  f1-score   support\n",
      "\n",
      "           0       0.96      0.93      0.95        28\n",
      "           1       0.70      1.00      0.83        19\n",
      "           2       0.96      1.00      0.98        26\n",
      "           3       1.00      0.93      0.96        29\n",
      "           4       0.00      0.00      0.00         0\n",
      "           5       1.00      0.68      0.81        40\n",
      "           6       0.78      1.00      0.88        21\n",
      "           7       1.00      0.49      0.66        55\n",
      "           8       0.89      0.96      0.92        25\n",
      "\n",
      "    accuracy                           0.81       243\n",
      "   macro avg       0.81      0.78      0.78       243\n",
      "weighted avg       0.94      0.81      0.85       243\n",
      "\n"
     ]
    },
    {
     "name": "stderr",
     "output_type": "stream",
     "text": [
      "c:\\Users\\ADMIN\\anaconda3\\envs\\AdvancedPython\\Lib\\site-packages\\sklearn\\metrics\\_classification.py:1469: UndefinedMetricWarning: Recall and F-score are ill-defined and being set to 0.0 in labels with no true samples. Use `zero_division` parameter to control this behavior.\n",
      "  _warn_prf(average, modifier, msg_start, len(result))\n",
      "c:\\Users\\ADMIN\\anaconda3\\envs\\AdvancedPython\\Lib\\site-packages\\sklearn\\metrics\\_classification.py:1469: UndefinedMetricWarning: Recall and F-score are ill-defined and being set to 0.0 in labels with no true samples. Use `zero_division` parameter to control this behavior.\n",
      "  _warn_prf(average, modifier, msg_start, len(result))\n",
      "c:\\Users\\ADMIN\\anaconda3\\envs\\AdvancedPython\\Lib\\site-packages\\sklearn\\metrics\\_classification.py:1469: UndefinedMetricWarning: Recall and F-score are ill-defined and being set to 0.0 in labels with no true samples. Use `zero_division` parameter to control this behavior.\n",
      "  _warn_prf(average, modifier, msg_start, len(result))\n",
      "c:\\Users\\ADMIN\\anaconda3\\envs\\AdvancedPython\\Lib\\site-packages\\sklearn\\metrics\\_classification.py:1469: UndefinedMetricWarning: Recall and F-score are ill-defined and being set to 0.0 in labels with no true samples. Use `zero_division` parameter to control this behavior.\n",
      "  _warn_prf(average, modifier, msg_start, len(result))\n",
      "c:\\Users\\ADMIN\\anaconda3\\envs\\AdvancedPython\\Lib\\site-packages\\sklearn\\metrics\\_classification.py:1469: UndefinedMetricWarning: Recall and F-score are ill-defined and being set to 0.0 in labels with no true samples. Use `zero_division` parameter to control this behavior.\n",
      "  _warn_prf(average, modifier, msg_start, len(result))\n",
      "c:\\Users\\ADMIN\\anaconda3\\envs\\AdvancedPython\\Lib\\site-packages\\sklearn\\metrics\\_classification.py:1469: UndefinedMetricWarning: Recall and F-score are ill-defined and being set to 0.0 in labels with no true samples. Use `zero_division` parameter to control this behavior.\n",
      "  _warn_prf(average, modifier, msg_start, len(result))\n"
     ]
    }
   ],
   "source": [
    "X_train_df_nb = navie.predict(X_train)\n",
    "X_test_df_nb = navie.predict(X_test)\n",
    "print(classification_report(X_train_df_nb, y_train))\n",
    "print(classification_report(X_test_df_nb,y_test))"
   ]
  },
  {
   "cell_type": "code",
   "execution_count": 53,
   "id": "c9660274",
   "metadata": {
    "execution": {
     "iopub.execute_input": "2024-05-28T17:13:34.154952Z",
     "iopub.status.busy": "2024-05-28T17:13:34.154575Z",
     "iopub.status.idle": "2024-05-28T17:13:34.170030Z",
     "shell.execute_reply": "2024-05-28T17:13:34.169123Z"
    },
    "papermill": {
     "duration": 0.04358,
     "end_time": "2024-05-28T17:13:34.172536",
     "exception": false,
     "start_time": "2024-05-28T17:13:34.128956",
     "status": "completed"
    },
    "tags": []
   },
   "outputs": [
    {
     "name": "stdout",
     "output_type": "stream",
     "text": [
      "Accuracy: 0.8107\n",
      "Precision: 0.938\n",
      "Recall: 0.8107\n",
      "F1-score: 0.8459\n"
     ]
    },
    {
     "name": "stderr",
     "output_type": "stream",
     "text": [
      "c:\\Users\\ADMIN\\anaconda3\\envs\\AdvancedPython\\Lib\\site-packages\\sklearn\\metrics\\_classification.py:1469: UndefinedMetricWarning: Recall is ill-defined and being set to 0.0 in labels with no true samples. Use `zero_division` parameter to control this behavior.\n",
      "  _warn_prf(average, modifier, msg_start, len(result))\n"
     ]
    }
   ],
   "source": [
    "print(f'Accuracy: {round(accuracy_score(X_test_df_nb, y_test), 4)}')\n",
    "print(f'Precision: {round(precision_score(X_test_df_nb, y_test, average=\"weighted\"), 4)}')\n",
    "print(f'Recall: {round(recall_score(X_test_df_nb, y_test, average=\"weighted\"), 4)}')\n",
    "print(f'F1-score: {round(f1_score(X_test_df_nb, y_test, average=\"weighted\"), 4)}')"
   ]
  },
  {
   "cell_type": "markdown",
   "id": "5fb9aa04",
   "metadata": {
    "papermill": {
     "duration": 0.023838,
     "end_time": "2024-05-28T17:13:34.220653",
     "exception": false,
     "start_time": "2024-05-28T17:13:34.196815",
     "status": "completed"
    },
    "tags": []
   },
   "source": [
    "### 4.2 Hyperparameter (Chấp nhận - cao hơn nhiều)"
   ]
  },
  {
   "cell_type": "code",
   "execution_count": 54,
   "id": "16dd8ba1",
   "metadata": {
    "execution": {
     "iopub.execute_input": "2024-05-28T17:13:34.271178Z",
     "iopub.status.busy": "2024-05-28T17:13:34.270729Z",
     "iopub.status.idle": "2024-05-28T17:13:34.275923Z",
     "shell.execute_reply": "2024-05-28T17:13:34.274865Z"
    },
    "papermill": {
     "duration": 0.032913,
     "end_time": "2024-05-28T17:13:34.278171",
     "exception": false,
     "start_time": "2024-05-28T17:13:34.245258",
     "status": "completed"
    },
    "tags": []
   },
   "outputs": [],
   "source": [
    "# # Định nghĩa bộ tham số cho GridSearchCV\n",
    "# param_grid = {\n",
    "#     'alpha': [0.1, 0.5, 1.0, 2.0, 5.0],\n",
    "#     'fit_prior': [True, False]\n",
    "# }\n",
    "\n",
    "# # Tạo đối tượng MultinomialNB\n",
    "# nb_model = MultinomialNB()\n",
    "\n",
    "# # Tạo đối tượng GridSearchCV\n",
    "# grid_search = GridSearchCV(estimator=nb_model, param_grid=param_grid, cv=5, scoring='accuracy')\n",
    "\n",
    "# # Fit GridSearchCV vào dữ liệu huấn luyện\n",
    "# grid_search.fit(X_val, y_val)\n",
    "\n",
    "# best_params = grid_search.best_params_\n",
    "# print(\"Best hyperparameters:\", best_params)\n"
   ]
  },
  {
   "cell_type": "code",
   "execution_count": 55,
   "id": "d457c3ec",
   "metadata": {
    "execution": {
     "iopub.execute_input": "2024-05-28T17:13:34.329350Z",
     "iopub.status.busy": "2024-05-28T17:13:34.328826Z",
     "iopub.status.idle": "2024-05-28T17:13:34.339463Z",
     "shell.execute_reply": "2024-05-28T17:13:34.338412Z"
    },
    "papermill": {
     "duration": 0.038527,
     "end_time": "2024-05-28T17:13:34.341754",
     "exception": false,
     "start_time": "2024-05-28T17:13:34.303227",
     "status": "completed"
    },
    "tags": []
   },
   "outputs": [
    {
     "data": {
      "text/html": [
       "<style>#sk-container-id-8 {color: black;}#sk-container-id-8 pre{padding: 0;}#sk-container-id-8 div.sk-toggleable {background-color: white;}#sk-container-id-8 label.sk-toggleable__label {cursor: pointer;display: block;width: 100%;margin-bottom: 0;padding: 0.3em;box-sizing: border-box;text-align: center;}#sk-container-id-8 label.sk-toggleable__label-arrow:before {content: \"▸\";float: left;margin-right: 0.25em;color: #696969;}#sk-container-id-8 label.sk-toggleable__label-arrow:hover:before {color: black;}#sk-container-id-8 div.sk-estimator:hover label.sk-toggleable__label-arrow:before {color: black;}#sk-container-id-8 div.sk-toggleable__content {max-height: 0;max-width: 0;overflow: hidden;text-align: left;background-color: #f0f8ff;}#sk-container-id-8 div.sk-toggleable__content pre {margin: 0.2em;color: black;border-radius: 0.25em;background-color: #f0f8ff;}#sk-container-id-8 input.sk-toggleable__control:checked~div.sk-toggleable__content {max-height: 200px;max-width: 100%;overflow: auto;}#sk-container-id-8 input.sk-toggleable__control:checked~label.sk-toggleable__label-arrow:before {content: \"▾\";}#sk-container-id-8 div.sk-estimator input.sk-toggleable__control:checked~label.sk-toggleable__label {background-color: #d4ebff;}#sk-container-id-8 div.sk-label input.sk-toggleable__control:checked~label.sk-toggleable__label {background-color: #d4ebff;}#sk-container-id-8 input.sk-hidden--visually {border: 0;clip: rect(1px 1px 1px 1px);clip: rect(1px, 1px, 1px, 1px);height: 1px;margin: -1px;overflow: hidden;padding: 0;position: absolute;width: 1px;}#sk-container-id-8 div.sk-estimator {font-family: monospace;background-color: #f0f8ff;border: 1px dotted black;border-radius: 0.25em;box-sizing: border-box;margin-bottom: 0.5em;}#sk-container-id-8 div.sk-estimator:hover {background-color: #d4ebff;}#sk-container-id-8 div.sk-parallel-item::after {content: \"\";width: 100%;border-bottom: 1px solid gray;flex-grow: 1;}#sk-container-id-8 div.sk-label:hover label.sk-toggleable__label {background-color: #d4ebff;}#sk-container-id-8 div.sk-serial::before {content: \"\";position: absolute;border-left: 1px solid gray;box-sizing: border-box;top: 0;bottom: 0;left: 50%;z-index: 0;}#sk-container-id-8 div.sk-serial {display: flex;flex-direction: column;align-items: center;background-color: white;padding-right: 0.2em;padding-left: 0.2em;position: relative;}#sk-container-id-8 div.sk-item {position: relative;z-index: 1;}#sk-container-id-8 div.sk-parallel {display: flex;align-items: stretch;justify-content: center;background-color: white;position: relative;}#sk-container-id-8 div.sk-item::before, #sk-container-id-8 div.sk-parallel-item::before {content: \"\";position: absolute;border-left: 1px solid gray;box-sizing: border-box;top: 0;bottom: 0;left: 50%;z-index: -1;}#sk-container-id-8 div.sk-parallel-item {display: flex;flex-direction: column;z-index: 1;position: relative;background-color: white;}#sk-container-id-8 div.sk-parallel-item:first-child::after {align-self: flex-end;width: 50%;}#sk-container-id-8 div.sk-parallel-item:last-child::after {align-self: flex-start;width: 50%;}#sk-container-id-8 div.sk-parallel-item:only-child::after {width: 0;}#sk-container-id-8 div.sk-dashed-wrapped {border: 1px dashed gray;margin: 0 0.4em 0.5em 0.4em;box-sizing: border-box;padding-bottom: 0.4em;background-color: white;}#sk-container-id-8 div.sk-label label {font-family: monospace;font-weight: bold;display: inline-block;line-height: 1.2em;}#sk-container-id-8 div.sk-label-container {text-align: center;}#sk-container-id-8 div.sk-container {/* jupyter's `normalize.less` sets `[hidden] { display: none; }` but bootstrap.min.css set `[hidden] { display: none !important; }` so we also need the `!important` here to be able to override the default hidden behavior on the sphinx rendered scikit-learn.org. See: https://github.com/scikit-learn/scikit-learn/issues/21755 */display: inline-block !important;position: relative;}#sk-container-id-8 div.sk-text-repr-fallback {display: none;}</style><div id=\"sk-container-id-8\" class=\"sk-top-container\"><div class=\"sk-text-repr-fallback\"><pre>MultinomialNB()</pre><b>In a Jupyter environment, please rerun this cell to show the HTML representation or trust the notebook. <br />On GitHub, the HTML representation is unable to render, please try loading this page with nbviewer.org.</b></div><div class=\"sk-container\" hidden><div class=\"sk-item\"><div class=\"sk-estimator sk-toggleable\"><input class=\"sk-toggleable__control sk-hidden--visually\" id=\"sk-estimator-id-8\" type=\"checkbox\" checked><label for=\"sk-estimator-id-8\" class=\"sk-toggleable__label sk-toggleable__label-arrow\">MultinomialNB</label><div class=\"sk-toggleable__content\"><pre>MultinomialNB()</pre></div></div></div></div></div>"
      ],
      "text/plain": [
       "MultinomialNB()"
      ]
     },
     "execution_count": 55,
     "metadata": {},
     "output_type": "execute_result"
    }
   ],
   "source": [
    "# Best hyperparameters: {'alpha': 1.0, 'fit_prior': True}\n",
    "navie_best_hps = MultinomialNB(alpha = 1.0, fit_prior = True)\n",
    "navie_best_hps.fit(X_train, y_train)"
   ]
  },
  {
   "cell_type": "code",
   "execution_count": 56,
   "id": "d0c499d8",
   "metadata": {
    "execution": {
     "iopub.execute_input": "2024-05-28T17:13:34.395762Z",
     "iopub.status.busy": "2024-05-28T17:13:34.395065Z",
     "iopub.status.idle": "2024-05-28T17:13:34.418059Z",
     "shell.execute_reply": "2024-05-28T17:13:34.416916Z"
    },
    "papermill": {
     "duration": 0.051764,
     "end_time": "2024-05-28T17:13:34.421239",
     "exception": false,
     "start_time": "2024-05-28T17:13:34.369475",
     "status": "completed"
    },
    "tags": []
   },
   "outputs": [
    {
     "name": "stdout",
     "output_type": "stream",
     "text": [
      "              precision    recall  f1-score   support\n",
      "\n",
      "           0       0.99      0.95      0.97       128\n",
      "           1       0.67      1.00      0.80        32\n",
      "           2       0.86      1.00      0.93        56\n",
      "           3       0.98      0.95      0.96        96\n",
      "           4       0.00      0.00      0.00         0\n",
      "           5       1.00      0.87      0.93       183\n",
      "           6       0.89      1.00      0.94        42\n",
      "           7       0.99      0.90      0.94       167\n",
      "           8       0.92      0.99      0.96        87\n",
      "\n",
      "    accuracy                           0.93       791\n",
      "   macro avg       0.81      0.85      0.83       791\n",
      "weighted avg       0.96      0.93      0.94       791\n",
      "\n",
      "              precision    recall  f1-score   support\n",
      "\n",
      "           0       0.96      0.93      0.95        28\n",
      "           1       0.70      1.00      0.83        19\n",
      "           2       0.96      1.00      0.98        26\n",
      "           3       1.00      0.93      0.96        29\n",
      "           4       0.00      0.00      0.00         0\n",
      "           5       1.00      0.68      0.81        40\n",
      "           6       0.78      1.00      0.88        21\n",
      "           7       1.00      0.49      0.66        55\n",
      "           8       0.89      0.96      0.92        25\n",
      "\n",
      "    accuracy                           0.81       243\n",
      "   macro avg       0.81      0.78      0.78       243\n",
      "weighted avg       0.94      0.81      0.85       243\n",
      "\n"
     ]
    },
    {
     "name": "stderr",
     "output_type": "stream",
     "text": [
      "c:\\Users\\ADMIN\\anaconda3\\envs\\AdvancedPython\\Lib\\site-packages\\sklearn\\metrics\\_classification.py:1469: UndefinedMetricWarning: Recall and F-score are ill-defined and being set to 0.0 in labels with no true samples. Use `zero_division` parameter to control this behavior.\n",
      "  _warn_prf(average, modifier, msg_start, len(result))\n",
      "c:\\Users\\ADMIN\\anaconda3\\envs\\AdvancedPython\\Lib\\site-packages\\sklearn\\metrics\\_classification.py:1469: UndefinedMetricWarning: Recall and F-score are ill-defined and being set to 0.0 in labels with no true samples. Use `zero_division` parameter to control this behavior.\n",
      "  _warn_prf(average, modifier, msg_start, len(result))\n",
      "c:\\Users\\ADMIN\\anaconda3\\envs\\AdvancedPython\\Lib\\site-packages\\sklearn\\metrics\\_classification.py:1469: UndefinedMetricWarning: Recall and F-score are ill-defined and being set to 0.0 in labels with no true samples. Use `zero_division` parameter to control this behavior.\n",
      "  _warn_prf(average, modifier, msg_start, len(result))\n",
      "c:\\Users\\ADMIN\\anaconda3\\envs\\AdvancedPython\\Lib\\site-packages\\sklearn\\metrics\\_classification.py:1469: UndefinedMetricWarning: Recall and F-score are ill-defined and being set to 0.0 in labels with no true samples. Use `zero_division` parameter to control this behavior.\n",
      "  _warn_prf(average, modifier, msg_start, len(result))\n",
      "c:\\Users\\ADMIN\\anaconda3\\envs\\AdvancedPython\\Lib\\site-packages\\sklearn\\metrics\\_classification.py:1469: UndefinedMetricWarning: Recall and F-score are ill-defined and being set to 0.0 in labels with no true samples. Use `zero_division` parameter to control this behavior.\n",
      "  _warn_prf(average, modifier, msg_start, len(result))\n",
      "c:\\Users\\ADMIN\\anaconda3\\envs\\AdvancedPython\\Lib\\site-packages\\sklearn\\metrics\\_classification.py:1469: UndefinedMetricWarning: Recall and F-score are ill-defined and being set to 0.0 in labels with no true samples. Use `zero_division` parameter to control this behavior.\n",
      "  _warn_prf(average, modifier, msg_start, len(result))\n"
     ]
    }
   ],
   "source": [
    "X_train_hps_nb = navie_best_hps.predict(X_train)\n",
    "X_test_hps_nb = navie_best_hps.predict(X_test)\n",
    "print(classification_report(X_train_hps_nb, y_train))\n",
    "print(classification_report(X_test_hps_nb,y_test))"
   ]
  },
  {
   "cell_type": "code",
   "execution_count": 57,
   "id": "cfea8d57",
   "metadata": {
    "execution": {
     "iopub.execute_input": "2024-05-28T17:13:34.473191Z",
     "iopub.status.busy": "2024-05-28T17:13:34.471962Z",
     "iopub.status.idle": "2024-05-28T17:13:34.488209Z",
     "shell.execute_reply": "2024-05-28T17:13:34.486782Z"
    },
    "papermill": {
     "duration": 0.044921,
     "end_time": "2024-05-28T17:13:34.490734",
     "exception": false,
     "start_time": "2024-05-28T17:13:34.445813",
     "status": "completed"
    },
    "tags": []
   },
   "outputs": [
    {
     "name": "stdout",
     "output_type": "stream",
     "text": [
      "Accuracy: 0.8107\n",
      "Precision: 0.938\n",
      "Recall: 0.8107\n",
      "F1-score: 0.8459\n"
     ]
    },
    {
     "name": "stderr",
     "output_type": "stream",
     "text": [
      "c:\\Users\\ADMIN\\anaconda3\\envs\\AdvancedPython\\Lib\\site-packages\\sklearn\\metrics\\_classification.py:1469: UndefinedMetricWarning: Recall is ill-defined and being set to 0.0 in labels with no true samples. Use `zero_division` parameter to control this behavior.\n",
      "  _warn_prf(average, modifier, msg_start, len(result))\n"
     ]
    }
   ],
   "source": [
    "print(f'Accuracy: {round(accuracy_score(X_test_hps_nb, y_test), 4)}')\n",
    "print(f'Precision: {round(precision_score(X_test_hps_nb, y_test, average=\"weighted\"), 4)}')\n",
    "print(f'Recall: {round(recall_score(X_test_hps_nb, y_test, average=\"weighted\"), 4)}')\n",
    "print(f'F1-score: {round(f1_score(X_test_hps_nb, y_test, average=\"weighted\"), 4)}')"
   ]
  },
  {
   "cell_type": "markdown",
   "id": "98646991",
   "metadata": {
    "papermill": {
     "duration": 0.024695,
     "end_time": "2024-05-28T17:13:34.539972",
     "exception": false,
     "start_time": "2024-05-28T17:13:34.515277",
     "status": "completed"
    },
    "tags": []
   },
   "source": [
    "## 5. Neural Network"
   ]
  },
  {
   "cell_type": "markdown",
   "id": "4e8997c4",
   "metadata": {
    "papermill": {
     "duration": 0.02566,
     "end_time": "2024-05-28T17:13:34.591580",
     "exception": false,
     "start_time": "2024-05-28T17:13:34.565920",
     "status": "completed"
    },
    "tags": []
   },
   "source": [
    "### 5.1 Default"
   ]
  },
  {
   "cell_type": "code",
   "execution_count": 58,
   "id": "8a917705",
   "metadata": {
    "execution": {
     "iopub.execute_input": "2024-05-28T17:13:34.642734Z",
     "iopub.status.busy": "2024-05-28T17:13:34.642304Z",
     "iopub.status.idle": "2024-05-28T17:13:39.635051Z",
     "shell.execute_reply": "2024-05-28T17:13:39.633904Z"
    },
    "papermill": {
     "duration": 5.021748,
     "end_time": "2024-05-28T17:13:39.638168",
     "exception": false,
     "start_time": "2024-05-28T17:13:34.616420",
     "status": "completed"
    },
    "tags": []
   },
   "outputs": [
    {
     "data": {
      "text/html": [
       "<style>#sk-container-id-9 {color: black;}#sk-container-id-9 pre{padding: 0;}#sk-container-id-9 div.sk-toggleable {background-color: white;}#sk-container-id-9 label.sk-toggleable__label {cursor: pointer;display: block;width: 100%;margin-bottom: 0;padding: 0.3em;box-sizing: border-box;text-align: center;}#sk-container-id-9 label.sk-toggleable__label-arrow:before {content: \"▸\";float: left;margin-right: 0.25em;color: #696969;}#sk-container-id-9 label.sk-toggleable__label-arrow:hover:before {color: black;}#sk-container-id-9 div.sk-estimator:hover label.sk-toggleable__label-arrow:before {color: black;}#sk-container-id-9 div.sk-toggleable__content {max-height: 0;max-width: 0;overflow: hidden;text-align: left;background-color: #f0f8ff;}#sk-container-id-9 div.sk-toggleable__content pre {margin: 0.2em;color: black;border-radius: 0.25em;background-color: #f0f8ff;}#sk-container-id-9 input.sk-toggleable__control:checked~div.sk-toggleable__content {max-height: 200px;max-width: 100%;overflow: auto;}#sk-container-id-9 input.sk-toggleable__control:checked~label.sk-toggleable__label-arrow:before {content: \"▾\";}#sk-container-id-9 div.sk-estimator input.sk-toggleable__control:checked~label.sk-toggleable__label {background-color: #d4ebff;}#sk-container-id-9 div.sk-label input.sk-toggleable__control:checked~label.sk-toggleable__label {background-color: #d4ebff;}#sk-container-id-9 input.sk-hidden--visually {border: 0;clip: rect(1px 1px 1px 1px);clip: rect(1px, 1px, 1px, 1px);height: 1px;margin: -1px;overflow: hidden;padding: 0;position: absolute;width: 1px;}#sk-container-id-9 div.sk-estimator {font-family: monospace;background-color: #f0f8ff;border: 1px dotted black;border-radius: 0.25em;box-sizing: border-box;margin-bottom: 0.5em;}#sk-container-id-9 div.sk-estimator:hover {background-color: #d4ebff;}#sk-container-id-9 div.sk-parallel-item::after {content: \"\";width: 100%;border-bottom: 1px solid gray;flex-grow: 1;}#sk-container-id-9 div.sk-label:hover label.sk-toggleable__label {background-color: #d4ebff;}#sk-container-id-9 div.sk-serial::before {content: \"\";position: absolute;border-left: 1px solid gray;box-sizing: border-box;top: 0;bottom: 0;left: 50%;z-index: 0;}#sk-container-id-9 div.sk-serial {display: flex;flex-direction: column;align-items: center;background-color: white;padding-right: 0.2em;padding-left: 0.2em;position: relative;}#sk-container-id-9 div.sk-item {position: relative;z-index: 1;}#sk-container-id-9 div.sk-parallel {display: flex;align-items: stretch;justify-content: center;background-color: white;position: relative;}#sk-container-id-9 div.sk-item::before, #sk-container-id-9 div.sk-parallel-item::before {content: \"\";position: absolute;border-left: 1px solid gray;box-sizing: border-box;top: 0;bottom: 0;left: 50%;z-index: -1;}#sk-container-id-9 div.sk-parallel-item {display: flex;flex-direction: column;z-index: 1;position: relative;background-color: white;}#sk-container-id-9 div.sk-parallel-item:first-child::after {align-self: flex-end;width: 50%;}#sk-container-id-9 div.sk-parallel-item:last-child::after {align-self: flex-start;width: 50%;}#sk-container-id-9 div.sk-parallel-item:only-child::after {width: 0;}#sk-container-id-9 div.sk-dashed-wrapped {border: 1px dashed gray;margin: 0 0.4em 0.5em 0.4em;box-sizing: border-box;padding-bottom: 0.4em;background-color: white;}#sk-container-id-9 div.sk-label label {font-family: monospace;font-weight: bold;display: inline-block;line-height: 1.2em;}#sk-container-id-9 div.sk-label-container {text-align: center;}#sk-container-id-9 div.sk-container {/* jupyter's `normalize.less` sets `[hidden] { display: none; }` but bootstrap.min.css set `[hidden] { display: none !important; }` so we also need the `!important` here to be able to override the default hidden behavior on the sphinx rendered scikit-learn.org. See: https://github.com/scikit-learn/scikit-learn/issues/21755 */display: inline-block !important;position: relative;}#sk-container-id-9 div.sk-text-repr-fallback {display: none;}</style><div id=\"sk-container-id-9\" class=\"sk-top-container\"><div class=\"sk-text-repr-fallback\"><pre>MLPClassifier()</pre><b>In a Jupyter environment, please rerun this cell to show the HTML representation or trust the notebook. <br />On GitHub, the HTML representation is unable to render, please try loading this page with nbviewer.org.</b></div><div class=\"sk-container\" hidden><div class=\"sk-item\"><div class=\"sk-estimator sk-toggleable\"><input class=\"sk-toggleable__control sk-hidden--visually\" id=\"sk-estimator-id-9\" type=\"checkbox\" checked><label for=\"sk-estimator-id-9\" class=\"sk-toggleable__label sk-toggleable__label-arrow\">MLPClassifier</label><div class=\"sk-toggleable__content\"><pre>MLPClassifier()</pre></div></div></div></div></div>"
      ],
      "text/plain": [
       "MLPClassifier()"
      ]
     },
     "execution_count": 58,
     "metadata": {},
     "output_type": "execute_result"
    }
   ],
   "source": [
    "neural = MLPClassifier()\n",
    "neural.fit(X_train, y_train)"
   ]
  },
  {
   "cell_type": "code",
   "execution_count": 59,
   "id": "f1c6aeab",
   "metadata": {
    "execution": {
     "iopub.execute_input": "2024-05-28T17:13:39.726363Z",
     "iopub.status.busy": "2024-05-28T17:13:39.725769Z",
     "iopub.status.idle": "2024-05-28T17:13:39.766902Z",
     "shell.execute_reply": "2024-05-28T17:13:39.765763Z"
    },
    "papermill": {
     "duration": 0.089125,
     "end_time": "2024-05-28T17:13:39.770095",
     "exception": false,
     "start_time": "2024-05-28T17:13:39.680970",
     "status": "completed"
    },
    "tags": []
   },
   "outputs": [
    {
     "name": "stdout",
     "output_type": "stream",
     "text": [
      "              precision    recall  f1-score   support\n",
      "\n",
      "           0       1.00      1.00      1.00       122\n",
      "           1       1.00      1.00      1.00        48\n",
      "           2       1.00      1.00      1.00        65\n",
      "           3       1.00      1.00      1.00        93\n",
      "           4       1.00      1.00      1.00        13\n",
      "           5       1.00      1.00      1.00       159\n",
      "           6       1.00      1.00      1.00        47\n",
      "           7       1.00      1.00      1.00       151\n",
      "           8       1.00      1.00      1.00        93\n",
      "\n",
      "    accuracy                           1.00       791\n",
      "   macro avg       1.00      1.00      1.00       791\n",
      "weighted avg       1.00      1.00      1.00       791\n",
      "\n",
      "              precision    recall  f1-score   support\n",
      "\n",
      "           0       1.00      0.90      0.95        30\n",
      "           1       1.00      0.93      0.96        29\n",
      "           2       0.96      0.96      0.96        27\n",
      "           3       1.00      0.96      0.98        28\n",
      "           4       0.67      1.00      0.80        18\n",
      "           5       1.00      0.96      0.98        28\n",
      "           6       0.93      0.96      0.94        26\n",
      "           7       1.00      0.87      0.93        31\n",
      "           8       0.93      0.96      0.94        26\n",
      "\n",
      "    accuracy                           0.94       243\n",
      "   macro avg       0.94      0.95      0.94       243\n",
      "weighted avg       0.96      0.94      0.95       243\n",
      "\n"
     ]
    }
   ],
   "source": [
    "X_train_pred_nn = neural.predict(X_train)\n",
    "X_test_pred_nn = neural.predict(X_test)\n",
    "print(classification_report(X_train_pred_nn, y_train))\n",
    "print(classification_report(X_test_pred_nn,y_test))"
   ]
  },
  {
   "cell_type": "code",
   "execution_count": 60,
   "id": "a8e24492",
   "metadata": {
    "execution": {
     "iopub.execute_input": "2024-05-28T17:13:39.857599Z",
     "iopub.status.busy": "2024-05-28T17:13:39.857018Z",
     "iopub.status.idle": "2024-05-28T17:13:39.872958Z",
     "shell.execute_reply": "2024-05-28T17:13:39.871712Z"
    },
    "papermill": {
     "duration": 0.062624,
     "end_time": "2024-05-28T17:13:39.875446",
     "exception": false,
     "start_time": "2024-05-28T17:13:39.812822",
     "status": "completed"
    },
    "tags": []
   },
   "outputs": [
    {
     "name": "stdout",
     "output_type": "stream",
     "text": [
      "Accuracy: 0.9424\n",
      "Precision: 0.9553\n",
      "Recall: 0.9424\n",
      "F1-score: 0.9452\n"
     ]
    }
   ],
   "source": [
    "print(f'Accuracy: {round(accuracy_score(X_test_pred_nn, y_test), 4)}')\n",
    "print(f'Precision: {round(precision_score(X_test_pred_nn, y_test, average=\"weighted\"), 4)}')\n",
    "print(f'Recall: {round(recall_score(X_test_pred_nn, y_test, average=\"weighted\"), 4)}')\n",
    "print(f'F1-score: {round(f1_score(X_test_pred_nn, y_test, average=\"weighted\"), 4)}')"
   ]
  },
  {
   "cell_type": "markdown",
   "id": "14d3c8dd",
   "metadata": {
    "papermill": {
     "duration": 0.025263,
     "end_time": "2024-05-28T17:13:39.925912",
     "exception": false,
     "start_time": "2024-05-28T17:13:39.900649",
     "status": "completed"
    },
    "tags": []
   },
   "source": [
    "### 5.2 Tuning hyper parameter (Cao hơn)"
   ]
  },
  {
   "cell_type": "code",
   "execution_count": 61,
   "id": "3cbcc351",
   "metadata": {
    "execution": {
     "iopub.execute_input": "2024-05-28T17:13:39.978671Z",
     "iopub.status.busy": "2024-05-28T17:13:39.978265Z",
     "iopub.status.idle": "2024-05-28T17:13:39.983518Z",
     "shell.execute_reply": "2024-05-28T17:13:39.982332Z"
    },
    "papermill": {
     "duration": 0.034042,
     "end_time": "2024-05-28T17:13:39.985754",
     "exception": false,
     "start_time": "2024-05-28T17:13:39.951712",
     "status": "completed"
    },
    "tags": []
   },
   "outputs": [],
   "source": [
    "\n",
    "# # Định nghĩa mô hình MLPClassifier\n",
    "# mlp = MLPClassifier(max_iter=100)\n",
    "\n",
    "# # Định nghĩa các hyperparameters để tuning\n",
    "# param_grid = {\n",
    "#     'hidden_layer_sizes': [(50,), (100,), (50, 50)],\n",
    "#     'activation': ['tanh', 'relu'],\n",
    "#     'solver': ['sgd', 'adam'],\n",
    "#     'alpha': [0.0001, 0.05],\n",
    "#     'learning_rate': ['constant', 'adaptive'],\n",
    "# }\n",
    "\n",
    "# # Sử dụng GridSearchCV để tìm các hyperparameters tốt nhất\n",
    "# grid_search = GridSearchCV(estimator=mlp, param_grid=param_grid, n_jobs=-1, cv=3)\n",
    "# grid_search.fit(X_val, y_val)\n",
    "\n",
    "# best_params = grid_search.best_params_\n",
    "# print(\"Best hyperparameters:\", best_params)\n"
   ]
  },
  {
   "cell_type": "code",
   "execution_count": 62,
   "id": "ef3d3a2a",
   "metadata": {
    "execution": {
     "iopub.execute_input": "2024-05-28T17:13:40.038515Z",
     "iopub.status.busy": "2024-05-28T17:13:40.037568Z",
     "iopub.status.idle": "2024-05-28T17:13:47.726415Z",
     "shell.execute_reply": "2024-05-28T17:13:47.724867Z"
    },
    "papermill": {
     "duration": 7.718922,
     "end_time": "2024-05-28T17:13:47.729971",
     "exception": false,
     "start_time": "2024-05-28T17:13:40.011049",
     "status": "completed"
    },
    "tags": []
   },
   "outputs": [
    {
     "name": "stderr",
     "output_type": "stream",
     "text": [
      "c:\\Users\\ADMIN\\anaconda3\\envs\\AdvancedPython\\Lib\\site-packages\\sklearn\\neural_network\\_multilayer_perceptron.py:691: ConvergenceWarning: Stochastic Optimizer: Maximum iterations (200) reached and the optimization hasn't converged yet.\n",
      "  warnings.warn(\n"
     ]
    },
    {
     "data": {
      "text/html": [
       "<style>#sk-container-id-10 {color: black;}#sk-container-id-10 pre{padding: 0;}#sk-container-id-10 div.sk-toggleable {background-color: white;}#sk-container-id-10 label.sk-toggleable__label {cursor: pointer;display: block;width: 100%;margin-bottom: 0;padding: 0.3em;box-sizing: border-box;text-align: center;}#sk-container-id-10 label.sk-toggleable__label-arrow:before {content: \"▸\";float: left;margin-right: 0.25em;color: #696969;}#sk-container-id-10 label.sk-toggleable__label-arrow:hover:before {color: black;}#sk-container-id-10 div.sk-estimator:hover label.sk-toggleable__label-arrow:before {color: black;}#sk-container-id-10 div.sk-toggleable__content {max-height: 0;max-width: 0;overflow: hidden;text-align: left;background-color: #f0f8ff;}#sk-container-id-10 div.sk-toggleable__content pre {margin: 0.2em;color: black;border-radius: 0.25em;background-color: #f0f8ff;}#sk-container-id-10 input.sk-toggleable__control:checked~div.sk-toggleable__content {max-height: 200px;max-width: 100%;overflow: auto;}#sk-container-id-10 input.sk-toggleable__control:checked~label.sk-toggleable__label-arrow:before {content: \"▾\";}#sk-container-id-10 div.sk-estimator input.sk-toggleable__control:checked~label.sk-toggleable__label {background-color: #d4ebff;}#sk-container-id-10 div.sk-label input.sk-toggleable__control:checked~label.sk-toggleable__label {background-color: #d4ebff;}#sk-container-id-10 input.sk-hidden--visually {border: 0;clip: rect(1px 1px 1px 1px);clip: rect(1px, 1px, 1px, 1px);height: 1px;margin: -1px;overflow: hidden;padding: 0;position: absolute;width: 1px;}#sk-container-id-10 div.sk-estimator {font-family: monospace;background-color: #f0f8ff;border: 1px dotted black;border-radius: 0.25em;box-sizing: border-box;margin-bottom: 0.5em;}#sk-container-id-10 div.sk-estimator:hover {background-color: #d4ebff;}#sk-container-id-10 div.sk-parallel-item::after {content: \"\";width: 100%;border-bottom: 1px solid gray;flex-grow: 1;}#sk-container-id-10 div.sk-label:hover label.sk-toggleable__label {background-color: #d4ebff;}#sk-container-id-10 div.sk-serial::before {content: \"\";position: absolute;border-left: 1px solid gray;box-sizing: border-box;top: 0;bottom: 0;left: 50%;z-index: 0;}#sk-container-id-10 div.sk-serial {display: flex;flex-direction: column;align-items: center;background-color: white;padding-right: 0.2em;padding-left: 0.2em;position: relative;}#sk-container-id-10 div.sk-item {position: relative;z-index: 1;}#sk-container-id-10 div.sk-parallel {display: flex;align-items: stretch;justify-content: center;background-color: white;position: relative;}#sk-container-id-10 div.sk-item::before, #sk-container-id-10 div.sk-parallel-item::before {content: \"\";position: absolute;border-left: 1px solid gray;box-sizing: border-box;top: 0;bottom: 0;left: 50%;z-index: -1;}#sk-container-id-10 div.sk-parallel-item {display: flex;flex-direction: column;z-index: 1;position: relative;background-color: white;}#sk-container-id-10 div.sk-parallel-item:first-child::after {align-self: flex-end;width: 50%;}#sk-container-id-10 div.sk-parallel-item:last-child::after {align-self: flex-start;width: 50%;}#sk-container-id-10 div.sk-parallel-item:only-child::after {width: 0;}#sk-container-id-10 div.sk-dashed-wrapped {border: 1px dashed gray;margin: 0 0.4em 0.5em 0.4em;box-sizing: border-box;padding-bottom: 0.4em;background-color: white;}#sk-container-id-10 div.sk-label label {font-family: monospace;font-weight: bold;display: inline-block;line-height: 1.2em;}#sk-container-id-10 div.sk-label-container {text-align: center;}#sk-container-id-10 div.sk-container {/* jupyter's `normalize.less` sets `[hidden] { display: none; }` but bootstrap.min.css set `[hidden] { display: none !important; }` so we also need the `!important` here to be able to override the default hidden behavior on the sphinx rendered scikit-learn.org. See: https://github.com/scikit-learn/scikit-learn/issues/21755 */display: inline-block !important;position: relative;}#sk-container-id-10 div.sk-text-repr-fallback {display: none;}</style><div id=\"sk-container-id-10\" class=\"sk-top-container\"><div class=\"sk-text-repr-fallback\"><pre>MLPClassifier(activation=&#x27;tanh&#x27;, alpha=0.05, learning_rate=&#x27;adaptive&#x27;)</pre><b>In a Jupyter environment, please rerun this cell to show the HTML representation or trust the notebook. <br />On GitHub, the HTML representation is unable to render, please try loading this page with nbviewer.org.</b></div><div class=\"sk-container\" hidden><div class=\"sk-item\"><div class=\"sk-estimator sk-toggleable\"><input class=\"sk-toggleable__control sk-hidden--visually\" id=\"sk-estimator-id-10\" type=\"checkbox\" checked><label for=\"sk-estimator-id-10\" class=\"sk-toggleable__label sk-toggleable__label-arrow\">MLPClassifier</label><div class=\"sk-toggleable__content\"><pre>MLPClassifier(activation=&#x27;tanh&#x27;, alpha=0.05, learning_rate=&#x27;adaptive&#x27;)</pre></div></div></div></div></div>"
      ],
      "text/plain": [
       "MLPClassifier(activation='tanh', alpha=0.05, learning_rate='adaptive')"
      ]
     },
     "execution_count": 62,
     "metadata": {},
     "output_type": "execute_result"
    }
   ],
   "source": [
    "# Best hyperparameters: {'activation': 'tanh', 'alpha': 0.05, 'hidden_layer_sizes': (100,), 'learning_rate': 'adaptive', 'solver': 'adam'}\n",
    "\n",
    "nn_best_hps = MLPClassifier(activation = 'tanh', alpha = 0.05, hidden_layer_sizes = (100,), learning_rate = 'adaptive', solver = 'adam')\n",
    "nn_best_hps.fit(X_train, y_train)"
   ]
  },
  {
   "cell_type": "code",
   "execution_count": 63,
   "id": "1b902f81",
   "metadata": {
    "execution": {
     "iopub.execute_input": "2024-05-28T17:13:47.820035Z",
     "iopub.status.busy": "2024-05-28T17:13:47.819477Z",
     "iopub.status.idle": "2024-05-28T17:13:47.866590Z",
     "shell.execute_reply": "2024-05-28T17:13:47.865441Z"
    },
    "papermill": {
     "duration": 0.096206,
     "end_time": "2024-05-28T17:13:47.870257",
     "exception": false,
     "start_time": "2024-05-28T17:13:47.774051",
     "status": "completed"
    },
    "tags": []
   },
   "outputs": [
    {
     "name": "stdout",
     "output_type": "stream",
     "text": [
      "              precision    recall  f1-score   support\n",
      "\n",
      "           0       1.00      1.00      1.00       122\n",
      "           1       1.00      1.00      1.00        48\n",
      "           2       1.00      1.00      1.00        65\n",
      "           3       1.00      1.00      1.00        93\n",
      "           4       1.00      1.00      1.00        13\n",
      "           5       1.00      1.00      1.00       159\n",
      "           6       1.00      1.00      1.00        47\n",
      "           7       1.00      1.00      1.00       151\n",
      "           8       1.00      1.00      1.00        93\n",
      "\n",
      "    accuracy                           1.00       791\n",
      "   macro avg       1.00      1.00      1.00       791\n",
      "weighted avg       1.00      1.00      1.00       791\n",
      "\n",
      "              precision    recall  f1-score   support\n",
      "\n",
      "           0       1.00      0.90      0.95        30\n",
      "           1       1.00      0.93      0.96        29\n",
      "           2       0.96      0.96      0.96        27\n",
      "           3       1.00      0.96      0.98        28\n",
      "           4       0.67      1.00      0.80        18\n",
      "           5       1.00      0.96      0.98        28\n",
      "           6       0.93      0.96      0.94        26\n",
      "           7       1.00      0.87      0.93        31\n",
      "           8       0.93      0.96      0.94        26\n",
      "\n",
      "    accuracy                           0.94       243\n",
      "   macro avg       0.94      0.95      0.94       243\n",
      "weighted avg       0.96      0.94      0.95       243\n",
      "\n"
     ]
    }
   ],
   "source": [
    "X_train_best_nn = nn_best_hps.predict(X_train)\n",
    "X_test_best_nn = nn_best_hps.predict(X_test)\n",
    "print(classification_report(X_train_pred_nn, y_train))\n",
    "print(classification_report(X_test_pred_nn,y_test))"
   ]
  },
  {
   "cell_type": "code",
   "execution_count": 64,
   "id": "520d8ad9",
   "metadata": {
    "execution": {
     "iopub.execute_input": "2024-05-28T17:13:47.961685Z",
     "iopub.status.busy": "2024-05-28T17:13:47.961241Z",
     "iopub.status.idle": "2024-05-28T17:13:47.977172Z",
     "shell.execute_reply": "2024-05-28T17:13:47.975728Z"
    },
    "papermill": {
     "duration": 0.062198,
     "end_time": "2024-05-28T17:13:47.979614",
     "exception": false,
     "start_time": "2024-05-28T17:13:47.917416",
     "status": "completed"
    },
    "tags": []
   },
   "outputs": [
    {
     "name": "stdout",
     "output_type": "stream",
     "text": [
      "Accuracy: 0.9547\n",
      "Precision: 0.9627\n",
      "Recall: 0.9547\n",
      "F1-score: 0.9563\n"
     ]
    }
   ],
   "source": [
    "print(f'Accuracy: {round(accuracy_score(X_test_best_nn, y_test), 4)}')\n",
    "print(f'Precision: {round(precision_score(X_test_best_nn, y_test, average=\"weighted\"), 4)}')\n",
    "print(f'Recall: {round(recall_score(X_test_best_nn, y_test, average=\"weighted\"), 4)}')\n",
    "print(f'F1-score: {round(f1_score(X_test_best_nn, y_test, average=\"weighted\"), 4)}')"
   ]
  },
  {
   "cell_type": "markdown",
   "id": "5549dba5",
   "metadata": {
    "papermill": {
     "duration": 0.025443,
     "end_time": "2024-05-28T17:13:48.030926",
     "exception": false,
     "start_time": "2024-05-28T17:13:48.005483",
     "status": "completed"
    },
    "tags": []
   },
   "source": [
    "# II. Cross Validation"
   ]
  },
  {
   "cell_type": "code",
   "execution_count": 65,
   "id": "1a824c3f",
   "metadata": {
    "execution": {
     "iopub.execute_input": "2024-05-28T17:13:48.084612Z",
     "iopub.status.busy": "2024-05-28T17:13:48.083832Z",
     "iopub.status.idle": "2024-05-28T17:13:48.089972Z",
     "shell.execute_reply": "2024-05-28T17:13:48.088908Z"
    },
    "papermill": {
     "duration": 0.035431,
     "end_time": "2024-05-28T17:13:48.092126",
     "exception": false,
     "start_time": "2024-05-28T17:13:48.056695",
     "status": "completed"
    },
    "tags": []
   },
   "outputs": [],
   "source": [
    "# Nối 2 file dữ liệu có sẵn df_train và df_val\n",
    "df_train = pd.concat([df_train, df_val], ignore_index=True)"
   ]
  },
  {
   "cell_type": "code",
   "execution_count": 75,
   "id": "1abb4653",
   "metadata": {
    "execution": {
     "iopub.execute_input": "2024-05-28T17:13:48.145416Z",
     "iopub.status.busy": "2024-05-28T17:13:48.144703Z",
     "iopub.status.idle": "2024-05-28T17:14:26.184817Z",
     "shell.execute_reply": "2024-05-28T17:14:26.183563Z"
    },
    "papermill": {
     "duration": 38.071222,
     "end_time": "2024-05-28T17:14:26.188811",
     "exception": false,
     "start_time": "2024-05-28T17:13:48.117589",
     "status": "completed"
    },
    "tags": []
   },
   "outputs": [
    {
     "name": "stdout",
     "output_type": "stream",
     "text": [
      "SVM: Mean Accuracy = 0.951970384523525, Std = 0.008512163000845835\n",
      "Naive Bayes: Mean Accuracy = 0.8938141867685694, Std = 0.017571369939366633\n",
      "Random Forest: Mean Accuracy = 0.9582994984475757, Std = 0.011646555089199536\n",
      "Logistic Regression: Mean Accuracy = 0.9494467001034949, Std = 0.014363489234271658\n"
     ]
    },
    {
     "name": "stderr",
     "output_type": "stream",
     "text": [
      "c:\\Users\\ADMIN\\anaconda3\\envs\\AdvancedPython\\Lib\\site-packages\\sklearn\\neural_network\\_multilayer_perceptron.py:691: ConvergenceWarning: Stochastic Optimizer: Maximum iterations (200) reached and the optimization hasn't converged yet.\n",
      "  warnings.warn(\n",
      "c:\\Users\\ADMIN\\anaconda3\\envs\\AdvancedPython\\Lib\\site-packages\\sklearn\\neural_network\\_multilayer_perceptron.py:691: ConvergenceWarning: Stochastic Optimizer: Maximum iterations (200) reached and the optimization hasn't converged yet.\n",
      "  warnings.warn(\n",
      "c:\\Users\\ADMIN\\anaconda3\\envs\\AdvancedPython\\Lib\\site-packages\\sklearn\\neural_network\\_multilayer_perceptron.py:691: ConvergenceWarning: Stochastic Optimizer: Maximum iterations (200) reached and the optimization hasn't converged yet.\n",
      "  warnings.warn(\n",
      "c:\\Users\\ADMIN\\anaconda3\\envs\\AdvancedPython\\Lib\\site-packages\\sklearn\\neural_network\\_multilayer_perceptron.py:691: ConvergenceWarning: Stochastic Optimizer: Maximum iterations (200) reached and the optimization hasn't converged yet.\n",
      "  warnings.warn(\n",
      "c:\\Users\\ADMIN\\anaconda3\\envs\\AdvancedPython\\Lib\\site-packages\\sklearn\\neural_network\\_multilayer_perceptron.py:691: ConvergenceWarning: Stochastic Optimizer: Maximum iterations (200) reached and the optimization hasn't converged yet.\n",
      "  warnings.warn(\n"
     ]
    },
    {
     "name": "stdout",
     "output_type": "stream",
     "text": [
      "Neural Network: Mean Accuracy = 0.959533476634026, Std = 0.011769035051660123\n"
     ]
    },
    {
     "name": "stderr",
     "output_type": "stream",
     "text": [
      "c:\\Users\\ADMIN\\anaconda3\\envs\\AdvancedPython\\Lib\\site-packages\\sklearn\\neural_network\\_multilayer_perceptron.py:691: ConvergenceWarning: Stochastic Optimizer: Maximum iterations (200) reached and the optimization hasn't converged yet.\n",
      "  warnings.warn(\n"
     ]
    },
    {
     "name": "stdout",
     "output_type": "stream",
     "text": [
      "\n",
      "Best Model: Neural Network\n",
      "Test Accuracy: 0.9465020576131687\n",
      "Test Precision: 0.9510195574611284\n",
      "Test Recall: 0.9465020576131687\n",
      "Test F1 Score: 0.9447617339249208\n",
      "\n",
      "All models evaluation on test set:\n",
      "SVM Test Accuracy: 0.9547325102880658\n",
      "SVM Test Precision: 0.9576425631981188\n",
      "SVM Test Recall: 0.9547325102880658\n",
      "SVM Test F1 Score: 0.953830439649153\n",
      "Naive Bayes Test Accuracy: 0.8106995884773662\n",
      "Naive Bayes Test Precision: 0.7761683335821267\n",
      "Naive Bayes Test Recall: 0.8106995884773662\n",
      "Naive Bayes Test F1 Score: 0.7755047721589117\n"
     ]
    },
    {
     "name": "stderr",
     "output_type": "stream",
     "text": [
      "c:\\Users\\ADMIN\\anaconda3\\envs\\AdvancedPython\\Lib\\site-packages\\sklearn\\metrics\\_classification.py:1469: UndefinedMetricWarning: Precision is ill-defined and being set to 0.0 in labels with no predicted samples. Use `zero_division` parameter to control this behavior.\n",
      "  _warn_prf(average, modifier, msg_start, len(result))\n"
     ]
    },
    {
     "name": "stdout",
     "output_type": "stream",
     "text": [
      "Random Forest Test Accuracy: 0.934156378600823\n",
      "Random Forest Test Precision: 0.941751325411456\n",
      "Random Forest Test Recall: 0.934156378600823\n",
      "Random Forest Test F1 Score: 0.9303758381271409\n",
      "Logistic Regression Test Accuracy: 0.9176954732510288\n",
      "Logistic Regression Test Precision: 0.9322659824575533\n",
      "Logistic Regression Test Recall: 0.9176954732510288\n",
      "Logistic Regression Test F1 Score: 0.9079037366683564\n",
      "Neural Network Test Accuracy: 0.9547325102880658\n",
      "Neural Network Test Precision: 0.9575432301485942\n",
      "Neural Network Test Recall: 0.9547325102880658\n",
      "Neural Network Test F1 Score: 0.9531975367983829\n"
     ]
    },
    {
     "name": "stderr",
     "output_type": "stream",
     "text": [
      "c:\\Users\\ADMIN\\anaconda3\\envs\\AdvancedPython\\Lib\\site-packages\\sklearn\\neural_network\\_multilayer_perceptron.py:691: ConvergenceWarning: Stochastic Optimizer: Maximum iterations (200) reached and the optimization hasn't converged yet.\n",
      "  warnings.warn(\n"
     ]
    }
   ],
   "source": [
    "# Số lượng folds cho K-Fold cross-validation\n",
    "kfold = KFold(n_splits=5, shuffle=True, random_state=42)\n",
    "\n",
    "# Danh sách các mô hình\n",
    "models = {\n",
    "    'SVM': SVC(C= 1, gamma = 1, kernel= 'linear'),\n",
    "    'Naive Bayes': MultinomialNB(alpha = 1.0, fit_prior = True),\n",
    "    'Random Forest': RandomForestClassifier(bootstrap = False, criterion = 'entropy', max_depth = None, max_features = 'sqrt', min_samples_leaf = 1, min_samples_split = 2, n_estimators = 200),\n",
    "    'Logistic Regression': LogisticRegression(max_iter=200),\n",
    "    'Neural Network': MLPClassifier(activation = 'tanh', alpha = 0.05, hidden_layer_sizes = (100,), learning_rate = 'adaptive', solver = 'adam')\n",
    "}\n",
    "\n",
    "# Lưu trữ kết quả cross-validation\n",
    "results = {}\n",
    "for model_name, model in models.items():\n",
    "    cv_results = cross_val_score(model, X_train, y_train, cv=kfold, scoring='accuracy')\n",
    "    results[model_name] = cv_results\n",
    "    print(f\"{model_name}: Mean Accuracy = {np.mean(cv_results)}, Std = {np.std(cv_results)}\")\n",
    "\n",
    "# Huấn luyện mô hình tốt nhất và đánh giá trên tập test\n",
    "best_model_name = max(results, key=lambda k: np.mean(results[k]))\n",
    "best_model = models[best_model_name]\n",
    "best_model.fit(X_train, y_train)\n",
    "y_pred = best_model.predict(X_test)\n",
    "\n",
    "# Đánh giá mô hình tốt nhất\n",
    "test_accuracy = accuracy_score(y_test, y_pred)\n",
    "test_precision = precision_score(y_test, y_pred, average='weighted')\n",
    "test_recall = recall_score(y_test, y_pred, average='weighted')\n",
    "test_f1 = f1_score(y_test, y_pred, average='weighted')\n",
    "\n",
    "print(f\"\\nBest Model: {best_model_name}\")\n",
    "print(f\"Test Accuracy: {test_accuracy}\")\n",
    "print(f\"Test Precision: {test_precision}\")\n",
    "print(f\"Test Recall: {test_recall}\")\n",
    "print(f\"Test F1 Score: {test_f1}\")\n",
    "\n",
    "# Đánh giá tất cả các mô hình trên tập test\n",
    "print(\"\\nAll models evaluation on test set:\")\n",
    "for model_name, model in models.items():\n",
    "    model.fit(X_train, y_train)\n",
    "    y_pred = model.predict(X_test)\n",
    "    test_accuracy = accuracy_score(y_test, y_pred)\n",
    "    test_precision = precision_score(y_test, y_pred, average='weighted')\n",
    "    test_recall = recall_score(y_test, y_pred, average='weighted')\n",
    "    test_f1 = f1_score(y_test, y_pred, average='weighted')\n",
    "    print(f\"{model_name} Test Accuracy: {test_accuracy}\")\n",
    "    print(f\"{model_name} Test Precision: {test_precision}\")\n",
    "    print(f\"{model_name} Test Recall: {test_recall}\")\n",
    "    print(f\"{model_name} Test F1 Score: {test_f1}\")"
   ]
  },
  {
   "cell_type": "markdown",
   "id": "66f0d0e0",
   "metadata": {},
   "source": [
    "### Save the best model"
   ]
  },
  {
   "cell_type": "code",
   "execution_count": 71,
   "metadata": {},
   "outputs": [],
   "source": [
    "import pickle\n",
    "\n",
    "# Lưu mô hình vào tệp tin 'rfc_pretrain.pkl'\n",
    "with open('./best_nn_model.pkl', 'wb') as file:\n",
    "    pickle.dump(nn_best_hps, file)\n"
   ]
  },
  {
   "cell_type": "code",
   "execution_count": 72,
   "id": "baca6206",
   "metadata": {},
   "outputs": [],
   "source": [
    "with open('./class_encoder.pkl', 'wb') as file:\n",
    "    pickle.dump(le, file)"
   ]
  },
  {
   "cell_type": "code",
   "execution_count": 73,
   "id": "d5c70428",
   "metadata": {},
   "outputs": [],
   "source": [
    "with open('./vectorizer.pkl', 'wb') as file:\n",
    "    pickle.dump(tfidf, file)"
   ]
  },
  {
   "cell_type": "code",
   "execution_count": 74,
   "id": "cf7ac90d",
   "metadata": {},
   "outputs": [
    {
     "data": {
      "text/plain": [
       "'LUẬT DOANH NGHIỆP'"
      ]
     },
     "execution_count": 74,
     "metadata": {},
     "output_type": "execute_result"
    }
   ],
   "source": [
    "le.inverse_transform([1])[0]"
   ]
  }
 ],
 "metadata": {
  "kaggle": {
   "accelerator": "none",
   "dataSources": [
    {
     "datasetId": 5073948,
     "sourceId": 8501806,
     "sourceType": "datasetVersion"
    },
    {
     "datasetId": 5074403,
     "sourceId": 8502463,
     "sourceType": "datasetVersion"
    }
   ],
   "dockerImageVersionId": 30698,
   "isGpuEnabled": false,
   "isInternetEnabled": true,
   "language": "python",
   "sourceType": "notebook"
  },
  "kernelspec": {
   "display_name": "Python 3",
   "language": "python",
   "name": "python3"
  },
  "language_info": {
   "codemirror_mode": {
    "name": "ipython",
    "version": 3
   },
   "file_extension": ".py",
   "mimetype": "text/x-python",
   "name": "python",
   "nbconvert_exporter": "python",
   "pygments_lexer": "ipython3",
   "version": "3.11.2"
  },
  "papermill": {
   "default_parameters": {},
   "duration": 109.652673,
   "end_time": "2024-05-28T17:14:27.083967",
   "environment_variables": {},
   "exception": null,
   "input_path": "__notebook__.ipynb",
   "output_path": "__notebook__.ipynb",
   "parameters": {},
   "start_time": "2024-05-28T17:12:37.431294",
   "version": "2.5.0"
  }
 },
 "nbformat": 4,
 "nbformat_minor": 5
}
