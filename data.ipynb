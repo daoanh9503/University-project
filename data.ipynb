{
 "cells": [
  {
   "cell_type": "code",
   "execution_count": 1,
   "metadata": {},
   "outputs": [],
   "source": [
    "import pandas as pd"
   ]
  },
  {
   "cell_type": "code",
   "execution_count": 2,
   "metadata": {},
   "outputs": [],
   "source": [
    "data = pd.read_csv(\"ViLegalDoc.csv\")"
   ]
  },
  {
   "cell_type": "code",
   "execution_count": 3,
   "metadata": {},
   "outputs": [
    {
     "data": {
      "text/html": [
       "<div>\n",
       "<style scoped>\n",
       "    .dataframe tbody tr th:only-of-type {\n",
       "        vertical-align: middle;\n",
       "    }\n",
       "\n",
       "    .dataframe tbody tr th {\n",
       "        vertical-align: top;\n",
       "    }\n",
       "\n",
       "    .dataframe thead th {\n",
       "        text-align: right;\n",
       "    }\n",
       "</style>\n",
       "<table border=\"1\" class=\"dataframe\">\n",
       "  <thead>\n",
       "    <tr style=\"text-align: right;\">\n",
       "      <th></th>\n",
       "      <th>content</th>\n",
       "      <th>label</th>\n",
       "    </tr>\n",
       "  </thead>\n",
       "  <tbody>\n",
       "    <tr>\n",
       "      <th>0</th>\n",
       "      <td>Phạm vi điều chỉnh: Luật này quy định về việc ...</td>\n",
       "      <td>LUẬT DOANH NGHIỆP</td>\n",
       "    </tr>\n",
       "    <tr>\n",
       "      <th>1</th>\n",
       "      <td>Đối tượng áp dụng: Doanh nghiệp. Cơ quan, tổ c...</td>\n",
       "      <td>LUẬT DOANH NGHIỆP</td>\n",
       "    </tr>\n",
       "    <tr>\n",
       "      <th>2</th>\n",
       "      <td>Áp dụng Luật Doanh nghiệp và luật khác. Trường...</td>\n",
       "      <td>LUẬT DOANH NGHIỆP</td>\n",
       "    </tr>\n",
       "    <tr>\n",
       "      <th>3</th>\n",
       "      <td>Bảo đảm của Nhà nước đối với doanh nghiệp và c...</td>\n",
       "      <td>LUẬT DOANH NGHIỆP</td>\n",
       "    </tr>\n",
       "    <tr>\n",
       "      <th>4</th>\n",
       "      <td>Tổ chức chính trị, tổ chức chính trị - xã hội ...</td>\n",
       "      <td>LUẬT DOANH NGHIỆP</td>\n",
       "    </tr>\n",
       "  </tbody>\n",
       "</table>\n",
       "</div>"
      ],
      "text/plain": [
       "                                             content              label\n",
       "0  Phạm vi điều chỉnh: Luật này quy định về việc ...  LUẬT DOANH NGHIỆP\n",
       "1  Đối tượng áp dụng: Doanh nghiệp. Cơ quan, tổ c...  LUẬT DOANH NGHIỆP\n",
       "2  Áp dụng Luật Doanh nghiệp và luật khác. Trường...  LUẬT DOANH NGHIỆP\n",
       "3  Bảo đảm của Nhà nước đối với doanh nghiệp và c...  LUẬT DOANH NGHIỆP\n",
       "4  Tổ chức chính trị, tổ chức chính trị - xã hội ...  LUẬT DOANH NGHIỆP"
      ]
     },
     "execution_count": 3,
     "metadata": {},
     "output_type": "execute_result"
    }
   ],
   "source": [
    "data.head()"
   ]
  },
  {
   "cell_type": "code",
   "execution_count": 4,
   "metadata": {},
   "outputs": [],
   "source": [
    "data[\"num_words\"] = data[\"content\"].apply(lambda x: len(x.split()))"
   ]
  },
  {
   "cell_type": "code",
   "execution_count": 5,
   "metadata": {},
   "outputs": [
    {
     "name": "stdout",
     "output_type": "stream",
     "text": [
      "Số lượng từ tối thiểu: 19\n",
      "Số lượng từ tối đa: 1933\n",
      "Số lượng từ trung bình: 276.64935064935065\n"
     ]
    }
   ],
   "source": [
    "num_words_min = data[\"num_words\"].min()\n",
    "num_words_max = data[\"num_words\"].max()\n",
    "num_words_mean = data[\"num_words\"].mean()\n",
    "\n",
    "print(f\"Số lượng từ tối thiểu: {num_words_min}\")\n",
    "print(f\"Số lượng từ tối đa: {num_words_max}\")\n",
    "print(f\"Số lượng từ trung bình: {num_words_mean}\")"
   ]
  }
 ],
 "metadata": {
  "kernelspec": {
   "display_name": "AdvancedPython",
   "language": "python",
   "name": "python3"
  },
  "language_info": {
   "codemirror_mode": {
    "name": "ipython",
    "version": 3
   },
   "file_extension": ".py",
   "mimetype": "text/x-python",
   "name": "python",
   "nbconvert_exporter": "python",
   "pygments_lexer": "ipython3",
   "version": "3.11.2"
  }
 },
 "nbformat": 4,
 "nbformat_minor": 2
}
